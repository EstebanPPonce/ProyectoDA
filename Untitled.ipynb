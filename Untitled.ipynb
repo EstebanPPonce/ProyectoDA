{
 "cells": [
  {
   "cell_type": "code",
   "execution_count": 2,
   "id": "c21c07bc",
   "metadata": {
    "scrolled": false
   },
   "outputs": [
    {
     "data": {
      "text/html": [
       "<div>\n",
       "<style scoped>\n",
       "    .dataframe tbody tr th:only-of-type {\n",
       "        vertical-align: middle;\n",
       "    }\n",
       "\n",
       "    .dataframe tbody tr th {\n",
       "        vertical-align: top;\n",
       "    }\n",
       "\n",
       "    .dataframe thead th {\n",
       "        text-align: right;\n",
       "    }\n",
       "</style>\n",
       "<table border=\"1\" class=\"dataframe\">\n",
       "  <thead>\n",
       "    <tr style=\"text-align: right;\">\n",
       "      <th></th>\n",
       "      <th>titulo</th>\n",
       "      <th>precio</th>\n",
       "      <th>ubicacion</th>\n",
       "      <th>dorm</th>\n",
       "      <th>ban</th>\n",
       "      <th>sup</th>\n",
       "    </tr>\n",
       "  </thead>\n",
       "  <tbody>\n",
       "    <tr>\n",
       "      <th>0</th>\n",
       "      <td>b'VENDO DEPARTAME'</td>\n",
       "      <td>U$S 40.000</td>\n",
       "      <td>San Vicente</td>\n",
       "      <td>1</td>\n",
       "      <td>1</td>\n",
       "      <td>45</td>\n",
       "    </tr>\n",
       "    <tr>\n",
       "      <th>1</th>\n",
       "      <td>b'GRAL PAZ-2 BALC'</td>\n",
       "      <td>U$S 55.000</td>\n",
       "      <td>General Paz</td>\n",
       "      <td>1</td>\n",
       "      <td>1</td>\n",
       "      <td>sin datos</td>\n",
       "    </tr>\n",
       "    <tr>\n",
       "      <th>2</th>\n",
       "      <td>b'GENERAL PAZ-CAT'</td>\n",
       "      <td>U$S 60.000</td>\n",
       "      <td>General Paz</td>\n",
       "      <td>1</td>\n",
       "      <td>1</td>\n",
       "      <td>sin datos</td>\n",
       "    </tr>\n",
       "    <tr>\n",
       "      <th>3</th>\n",
       "      <td>b'Tr\\xc3\\xa1nsito C\\xc3\\xa1ce'</td>\n",
       "      <td>U$S 67.000</td>\n",
       "      <td>Nueva Córdoba</td>\n",
       "      <td>1</td>\n",
       "      <td>1</td>\n",
       "      <td>45</td>\n",
       "    </tr>\n",
       "    <tr>\n",
       "      <th>4</th>\n",
       "      <td>b'B\\xc2\\xba LOMAS DE MA'</td>\n",
       "      <td>U$S 130.000</td>\n",
       "      <td>sin ubicacion</td>\n",
       "      <td>3</td>\n",
       "      <td>3</td>\n",
       "      <td>130</td>\n",
       "    </tr>\n",
       "    <tr>\n",
       "      <th>5</th>\n",
       "      <td>b'\\xe2\\x80\\xa2Gral PAZ\\xe2\\x80\\xa2 '</td>\n",
       "      <td>U$S 63.000</td>\n",
       "      <td>General Paz</td>\n",
       "      <td>1</td>\n",
       "      <td>sin datos</td>\n",
       "      <td>47</td>\n",
       "    </tr>\n",
       "    <tr>\n",
       "      <th>6</th>\n",
       "      <td>b'CASA MIRADORES '</td>\n",
       "      <td>U$S 211.000</td>\n",
       "      <td>Manantiales</td>\n",
       "      <td>3</td>\n",
       "      <td>3</td>\n",
       "      <td>sin datos</td>\n",
       "    </tr>\n",
       "    <tr>\n",
       "      <th>7</th>\n",
       "      <td>b'VENDO DUPLEX EN'</td>\n",
       "      <td>U$S 114.000</td>\n",
       "      <td>sin ubicacion</td>\n",
       "      <td>3</td>\n",
       "      <td>3</td>\n",
       "      <td>sin datos</td>\n",
       "    </tr>\n",
       "    <tr>\n",
       "      <th>8</th>\n",
       "      <td>b'VENTA- DUPLEX E'</td>\n",
       "      <td>U$S 86.000</td>\n",
       "      <td>Docta Urbanización Inteligente</td>\n",
       "      <td>2</td>\n",
       "      <td>2</td>\n",
       "      <td>sin datos</td>\n",
       "    </tr>\n",
       "    <tr>\n",
       "      <th>9</th>\n",
       "      <td>b'Condominio Prem'</td>\n",
       "      <td>U$S 78.800</td>\n",
       "      <td>Chateau Carreras</td>\n",
       "      <td>1</td>\n",
       "      <td>1</td>\n",
       "      <td>47</td>\n",
       "    </tr>\n",
       "    <tr>\n",
       "      <th>10</th>\n",
       "      <td>b'\\xe2\\x98\\x85 2 Dormotori'</td>\n",
       "      <td>U$S 105.000</td>\n",
       "      <td>General Paz</td>\n",
       "      <td>2</td>\n",
       "      <td>2</td>\n",
       "      <td>75</td>\n",
       "    </tr>\n",
       "    <tr>\n",
       "      <th>11</th>\n",
       "      <td>b'EXCELENTE DPTO '</td>\n",
       "      <td>U$S 75.000</td>\n",
       "      <td>General Paz</td>\n",
       "      <td>2</td>\n",
       "      <td>2</td>\n",
       "      <td>65</td>\n",
       "    </tr>\n",
       "    <tr>\n",
       "      <th>12</th>\n",
       "      <td>b'DEPARTAMENTO EN'</td>\n",
       "      <td>U$S 140.000</td>\n",
       "      <td>Nueva Córdoba</td>\n",
       "      <td>2</td>\n",
       "      <td>2</td>\n",
       "      <td>sin datos</td>\n",
       "    </tr>\n",
       "    <tr>\n",
       "      <th>13</th>\n",
       "      <td>b'KABALS VENDE DE'</td>\n",
       "      <td>U$S 65.000</td>\n",
       "      <td>Nueva Córdoba</td>\n",
       "      <td>1</td>\n",
       "      <td>1</td>\n",
       "      <td>49</td>\n",
       "    </tr>\n",
       "    <tr>\n",
       "      <th>14</th>\n",
       "      <td>b'KABAL&amp;#039;S VE'</td>\n",
       "      <td>U$S 120.000</td>\n",
       "      <td>Nueva Córdoba</td>\n",
       "      <td>2</td>\n",
       "      <td>2</td>\n",
       "      <td>97</td>\n",
       "    </tr>\n",
       "  </tbody>\n",
       "</table>\n",
       "</div>"
      ],
      "text/plain": [
       "                                  titulo       precio  \\\n",
       "0                     b'VENDO DEPARTAME'   U$S 40.000   \n",
       "1                     b'GRAL PAZ-2 BALC'   U$S 55.000   \n",
       "2                     b'GENERAL PAZ-CAT'   U$S 60.000   \n",
       "3         b'Tr\\xc3\\xa1nsito C\\xc3\\xa1ce'   U$S 67.000   \n",
       "4               b'B\\xc2\\xba LOMAS DE MA'  U$S 130.000   \n",
       "5   b'\\xe2\\x80\\xa2Gral PAZ\\xe2\\x80\\xa2 '   U$S 63.000   \n",
       "6                     b'CASA MIRADORES '  U$S 211.000   \n",
       "7                     b'VENDO DUPLEX EN'  U$S 114.000   \n",
       "8                     b'VENTA- DUPLEX E'   U$S 86.000   \n",
       "9                     b'Condominio Prem'   U$S 78.800   \n",
       "10           b'\\xe2\\x98\\x85 2 Dormotori'  U$S 105.000   \n",
       "11                    b'EXCELENTE DPTO '   U$S 75.000   \n",
       "12                    b'DEPARTAMENTO EN'  U$S 140.000   \n",
       "13                    b'KABALS VENDE DE'   U$S 65.000   \n",
       "14                    b'KABAL&#039;S VE'  U$S 120.000   \n",
       "\n",
       "                           ubicacion dorm        ban        sup  \n",
       "0                       San Vicente     1          1         45  \n",
       "1                       General Paz     1          1  sin datos  \n",
       "2                       General Paz     1          1  sin datos  \n",
       "3                     Nueva Córdoba     1          1         45  \n",
       "4                      sin ubicacion    3          3        130  \n",
       "5                       General Paz     1  sin datos         47  \n",
       "6                       Manantiales     3          3  sin datos  \n",
       "7                      sin ubicacion    3          3  sin datos  \n",
       "8    Docta Urbanización Inteligente     2          2  sin datos  \n",
       "9                  Chateau Carreras     1          1         47  \n",
       "10                      General Paz     2          2         75  \n",
       "11                      General Paz     2          2         65  \n",
       "12                    Nueva Córdoba     2          2  sin datos  \n",
       "13                    Nueva Córdoba     1          1         49  \n",
       "14                    Nueva Córdoba     2          2         97  "
      ]
     },
     "execution_count": 2,
     "metadata": {},
     "output_type": "execute_result"
    }
   ],
   "source": [
    "import pandas as pd\n",
    "import numpy as np\n",
    "import matplotlib.pyplot as pyplot\n",
    "%matplotlib inline\n",
    "import seaborn as sns\n",
    "sns.set_theme()\n",
    "\n",
    "df = pd.read_csv('deptosDataset.csv')\n",
    "df.head(15)"
   ]
  },
  {
   "cell_type": "code",
   "execution_count": 2,
   "id": "8558a720",
   "metadata": {
    "scrolled": true
   },
   "outputs": [
    {
     "name": "stdout",
     "output_type": "stream",
     "text": [
      "<class 'pandas.core.frame.DataFrame'>\n",
      "RangeIndex: 3693 entries, 0 to 3692\n",
      "Data columns (total 6 columns):\n",
      " #   Column     Non-Null Count  Dtype \n",
      "---  ------     --------------  ----- \n",
      " 0   titulo     3693 non-null   object\n",
      " 1   precio     3693 non-null   object\n",
      " 2   ubicacion  3693 non-null   object\n",
      " 3   dorm       3693 non-null   object\n",
      " 4   ban        3693 non-null   object\n",
      " 5   sup        3693 non-null   object\n",
      "dtypes: object(6)\n",
      "memory usage: 173.2+ KB\n"
     ]
    }
   ],
   "source": [
    "df.info()"
   ]
  },
  {
   "cell_type": "code",
   "execution_count": 3,
   "id": "45973b25",
   "metadata": {},
   "outputs": [],
   "source": [
    "df.drop(df[df['precio']=='consultar'].index, inplace=True)"
   ]
  },
  {
   "cell_type": "code",
   "execution_count": 4,
   "id": "15453bf2",
   "metadata": {},
   "outputs": [
    {
     "data": {
      "text/plain": [
       "titulo       0\n",
       "precio       0\n",
       "ubicacion    0\n",
       "dorm         0\n",
       "ban          0\n",
       "sup          0\n",
       "dtype: int64"
      ]
     },
     "execution_count": 4,
     "metadata": {},
     "output_type": "execute_result"
    }
   ],
   "source": [
    "df[df['precio']=='consultar'].count()"
   ]
  },
  {
   "cell_type": "code",
   "execution_count": 5,
   "id": "5e52d4b6",
   "metadata": {},
   "outputs": [],
   "source": [
    "def convertirPrecio(value):\n",
    "    newValue = value.replace('.','').replace('U$S ','')\n",
    "    \n",
    "    return int(newValue)"
   ]
  },
  {
   "cell_type": "code",
   "execution_count": 6,
   "id": "39d7f9ed",
   "metadata": {
    "scrolled": true
   },
   "outputs": [],
   "source": [
    "df['precio'] = df['precio'].apply(convertirPrecio)"
   ]
  },
  {
   "cell_type": "code",
   "execution_count": 7,
   "id": "68f4bbe4",
   "metadata": {
    "scrolled": false
   },
   "outputs": [
    {
     "data": {
      "text/html": [
       "<div>\n",
       "<style scoped>\n",
       "    .dataframe tbody tr th:only-of-type {\n",
       "        vertical-align: middle;\n",
       "    }\n",
       "\n",
       "    .dataframe tbody tr th {\n",
       "        vertical-align: top;\n",
       "    }\n",
       "\n",
       "    .dataframe thead th {\n",
       "        text-align: right;\n",
       "    }\n",
       "</style>\n",
       "<table border=\"1\" class=\"dataframe\">\n",
       "  <thead>\n",
       "    <tr style=\"text-align: right;\">\n",
       "      <th></th>\n",
       "      <th>titulo</th>\n",
       "      <th>precio</th>\n",
       "      <th>ubicacion</th>\n",
       "      <th>dorm</th>\n",
       "      <th>ban</th>\n",
       "      <th>sup</th>\n",
       "    </tr>\n",
       "  </thead>\n",
       "  <tbody>\n",
       "    <tr>\n",
       "      <th>0</th>\n",
       "      <td>b'VENDO DEPARTAME'</td>\n",
       "      <td>40000</td>\n",
       "      <td>San Vicente</td>\n",
       "      <td>1</td>\n",
       "      <td>1</td>\n",
       "      <td>45</td>\n",
       "    </tr>\n",
       "    <tr>\n",
       "      <th>1</th>\n",
       "      <td>b'GRAL PAZ-2 BALC'</td>\n",
       "      <td>55000</td>\n",
       "      <td>General Paz</td>\n",
       "      <td>1</td>\n",
       "      <td>1</td>\n",
       "      <td>sin datos</td>\n",
       "    </tr>\n",
       "    <tr>\n",
       "      <th>2</th>\n",
       "      <td>b'GENERAL PAZ-CAT'</td>\n",
       "      <td>60000</td>\n",
       "      <td>General Paz</td>\n",
       "      <td>1</td>\n",
       "      <td>1</td>\n",
       "      <td>sin datos</td>\n",
       "    </tr>\n",
       "    <tr>\n",
       "      <th>3</th>\n",
       "      <td>b'Tr\\xc3\\xa1nsito C\\xc3\\xa1ce'</td>\n",
       "      <td>67000</td>\n",
       "      <td>Nueva Córdoba</td>\n",
       "      <td>1</td>\n",
       "      <td>1</td>\n",
       "      <td>45</td>\n",
       "    </tr>\n",
       "    <tr>\n",
       "      <th>4</th>\n",
       "      <td>b'B\\xc2\\xba LOMAS DE MA'</td>\n",
       "      <td>130000</td>\n",
       "      <td>sin ubicacion</td>\n",
       "      <td>3</td>\n",
       "      <td>3</td>\n",
       "      <td>130</td>\n",
       "    </tr>\n",
       "    <tr>\n",
       "      <th>5</th>\n",
       "      <td>b'\\xe2\\x80\\xa2Gral PAZ\\xe2\\x80\\xa2 '</td>\n",
       "      <td>63000</td>\n",
       "      <td>General Paz</td>\n",
       "      <td>1</td>\n",
       "      <td>sin datos</td>\n",
       "      <td>47</td>\n",
       "    </tr>\n",
       "    <tr>\n",
       "      <th>6</th>\n",
       "      <td>b'CASA MIRADORES '</td>\n",
       "      <td>211000</td>\n",
       "      <td>Manantiales</td>\n",
       "      <td>3</td>\n",
       "      <td>3</td>\n",
       "      <td>sin datos</td>\n",
       "    </tr>\n",
       "    <tr>\n",
       "      <th>7</th>\n",
       "      <td>b'VENDO DUPLEX EN'</td>\n",
       "      <td>114000</td>\n",
       "      <td>sin ubicacion</td>\n",
       "      <td>3</td>\n",
       "      <td>3</td>\n",
       "      <td>sin datos</td>\n",
       "    </tr>\n",
       "    <tr>\n",
       "      <th>8</th>\n",
       "      <td>b'VENTA- DUPLEX E'</td>\n",
       "      <td>86000</td>\n",
       "      <td>Docta Urbanización Inteligente</td>\n",
       "      <td>2</td>\n",
       "      <td>2</td>\n",
       "      <td>sin datos</td>\n",
       "    </tr>\n",
       "    <tr>\n",
       "      <th>9</th>\n",
       "      <td>b'Condominio Prem'</td>\n",
       "      <td>78800</td>\n",
       "      <td>Chateau Carreras</td>\n",
       "      <td>1</td>\n",
       "      <td>1</td>\n",
       "      <td>47</td>\n",
       "    </tr>\n",
       "  </tbody>\n",
       "</table>\n",
       "</div>"
      ],
      "text/plain": [
       "                                 titulo  precio  \\\n",
       "0                    b'VENDO DEPARTAME'   40000   \n",
       "1                    b'GRAL PAZ-2 BALC'   55000   \n",
       "2                    b'GENERAL PAZ-CAT'   60000   \n",
       "3        b'Tr\\xc3\\xa1nsito C\\xc3\\xa1ce'   67000   \n",
       "4              b'B\\xc2\\xba LOMAS DE MA'  130000   \n",
       "5  b'\\xe2\\x80\\xa2Gral PAZ\\xe2\\x80\\xa2 '   63000   \n",
       "6                    b'CASA MIRADORES '  211000   \n",
       "7                    b'VENDO DUPLEX EN'  114000   \n",
       "8                    b'VENTA- DUPLEX E'   86000   \n",
       "9                    b'Condominio Prem'   78800   \n",
       "\n",
       "                          ubicacion dorm        ban        sup  \n",
       "0                      San Vicente     1          1         45  \n",
       "1                      General Paz     1          1  sin datos  \n",
       "2                      General Paz     1          1  sin datos  \n",
       "3                    Nueva Córdoba     1          1         45  \n",
       "4                     sin ubicacion    3          3        130  \n",
       "5                      General Paz     1  sin datos         47  \n",
       "6                      Manantiales     3          3  sin datos  \n",
       "7                     sin ubicacion    3          3  sin datos  \n",
       "8   Docta Urbanización Inteligente     2          2  sin datos  \n",
       "9                 Chateau Carreras     1          1         47  "
      ]
     },
     "execution_count": 7,
     "metadata": {},
     "output_type": "execute_result"
    }
   ],
   "source": [
    "df.head(10)"
   ]
  },
  {
   "cell_type": "code",
   "execution_count": 8,
   "id": "24cde110",
   "metadata": {
    "scrolled": true
   },
   "outputs": [
    {
     "data": {
      "text/plain": [
       "Index(['titulo', 'precio', 'ubicacion', 'dorm', 'ban', 'sup'], dtype='object')"
      ]
     },
     "execution_count": 8,
     "metadata": {},
     "output_type": "execute_result"
    }
   ],
   "source": [
    "df.columns"
   ]
  },
  {
   "cell_type": "code",
   "execution_count": 6,
   "id": "8d37ada9",
   "metadata": {},
   "outputs": [
    {
     "data": {
      "text/html": [
       "<div>\n",
       "<style scoped>\n",
       "    .dataframe tbody tr th:only-of-type {\n",
       "        vertical-align: middle;\n",
       "    }\n",
       "\n",
       "    .dataframe tbody tr th {\n",
       "        vertical-align: top;\n",
       "    }\n",
       "\n",
       "    .dataframe thead th {\n",
       "        text-align: right;\n",
       "    }\n",
       "</style>\n",
       "<table border=\"1\" class=\"dataframe\">\n",
       "  <thead>\n",
       "    <tr style=\"text-align: right;\">\n",
       "      <th></th>\n",
       "      <th>titulo</th>\n",
       "      <th>precio</th>\n",
       "      <th>ubicacion</th>\n",
       "      <th>dorm</th>\n",
       "      <th>ban</th>\n",
       "      <th>sup</th>\n",
       "    </tr>\n",
       "  </thead>\n",
       "  <tbody>\n",
       "    <tr>\n",
       "      <th>1</th>\n",
       "      <td>b'GRAL PAZ-2 BALC'</td>\n",
       "      <td>U$S 55.000</td>\n",
       "      <td>General Paz</td>\n",
       "      <td>1</td>\n",
       "      <td>1</td>\n",
       "      <td>sin datos</td>\n",
       "    </tr>\n",
       "    <tr>\n",
       "      <th>2</th>\n",
       "      <td>b'GENERAL PAZ-CAT'</td>\n",
       "      <td>U$S 60.000</td>\n",
       "      <td>General Paz</td>\n",
       "      <td>1</td>\n",
       "      <td>1</td>\n",
       "      <td>sin datos</td>\n",
       "    </tr>\n",
       "    <tr>\n",
       "      <th>6</th>\n",
       "      <td>b'CASA MIRADORES '</td>\n",
       "      <td>U$S 211.000</td>\n",
       "      <td>Manantiales</td>\n",
       "      <td>3</td>\n",
       "      <td>3</td>\n",
       "      <td>sin datos</td>\n",
       "    </tr>\n",
       "    <tr>\n",
       "      <th>7</th>\n",
       "      <td>b'VENDO DUPLEX EN'</td>\n",
       "      <td>U$S 114.000</td>\n",
       "      <td>sin ubicacion</td>\n",
       "      <td>3</td>\n",
       "      <td>3</td>\n",
       "      <td>sin datos</td>\n",
       "    </tr>\n",
       "    <tr>\n",
       "      <th>8</th>\n",
       "      <td>b'VENTA- DUPLEX E'</td>\n",
       "      <td>U$S 86.000</td>\n",
       "      <td>Docta Urbanización Inteligente</td>\n",
       "      <td>2</td>\n",
       "      <td>2</td>\n",
       "      <td>sin datos</td>\n",
       "    </tr>\n",
       "    <tr>\n",
       "      <th>...</th>\n",
       "      <td>...</td>\n",
       "      <td>...</td>\n",
       "      <td>...</td>\n",
       "      <td>...</td>\n",
       "      <td>...</td>\n",
       "      <td>...</td>\n",
       "    </tr>\n",
       "    <tr>\n",
       "      <th>3658</th>\n",
       "      <td>b'Excelente opci\\xc3'</td>\n",
       "      <td>U$S 55.000</td>\n",
       "      <td>Centro</td>\n",
       "      <td>1</td>\n",
       "      <td>1</td>\n",
       "      <td>sin datos</td>\n",
       "    </tr>\n",
       "    <tr>\n",
       "      <th>3659</th>\n",
       "      <td>b'OPORTUNIDAD HOU'</td>\n",
       "      <td>U$S 110.000</td>\n",
       "      <td>Otro</td>\n",
       "      <td>2</td>\n",
       "      <td>2</td>\n",
       "      <td>sin datos</td>\n",
       "    </tr>\n",
       "    <tr>\n",
       "      <th>3670</th>\n",
       "      <td>b'EXCELENTE UBICA'</td>\n",
       "      <td>U$S 95.000</td>\n",
       "      <td>Centro</td>\n",
       "      <td>2</td>\n",
       "      <td>2</td>\n",
       "      <td>sin datos</td>\n",
       "    </tr>\n",
       "    <tr>\n",
       "      <th>3671</th>\n",
       "      <td>b'MUY BUENA OPCIO'</td>\n",
       "      <td>U$S 80.000</td>\n",
       "      <td>Nueva Córdoba</td>\n",
       "      <td>1</td>\n",
       "      <td>1</td>\n",
       "      <td>sin datos</td>\n",
       "    </tr>\n",
       "    <tr>\n",
       "      <th>3692</th>\n",
       "      <td>b'VENDO duplex A '</td>\n",
       "      <td>U$S 100.000</td>\n",
       "      <td>Prados de Manantiales</td>\n",
       "      <td>3</td>\n",
       "      <td>2</td>\n",
       "      <td>sin datos</td>\n",
       "    </tr>\n",
       "  </tbody>\n",
       "</table>\n",
       "<p>2560 rows × 6 columns</p>\n",
       "</div>"
      ],
      "text/plain": [
       "                     titulo       precio                         ubicacion  \\\n",
       "1        b'GRAL PAZ-2 BALC'   U$S 55.000                      General Paz    \n",
       "2        b'GENERAL PAZ-CAT'   U$S 60.000                      General Paz    \n",
       "6        b'CASA MIRADORES '  U$S 211.000                      Manantiales    \n",
       "7        b'VENDO DUPLEX EN'  U$S 114.000                     sin ubicacion   \n",
       "8        b'VENTA- DUPLEX E'   U$S 86.000   Docta Urbanización Inteligente    \n",
       "...                     ...          ...                               ...   \n",
       "3658  b'Excelente opci\\xc3'   U$S 55.000                           Centro    \n",
       "3659     b'OPORTUNIDAD HOU'  U$S 110.000                             Otro    \n",
       "3670     b'EXCELENTE UBICA'   U$S 95.000                           Centro    \n",
       "3671     b'MUY BUENA OPCIO'   U$S 80.000                    Nueva Córdoba    \n",
       "3692     b'VENDO duplex A '  U$S 100.000            Prados de Manantiales    \n",
       "\n",
       "     dorm ban        sup  \n",
       "1       1   1  sin datos  \n",
       "2       1   1  sin datos  \n",
       "6       3   3  sin datos  \n",
       "7       3   3  sin datos  \n",
       "8       2   2  sin datos  \n",
       "...   ...  ..        ...  \n",
       "3658    1   1  sin datos  \n",
       "3659    2   2  sin datos  \n",
       "3670    2   2  sin datos  \n",
       "3671    1   1  sin datos  \n",
       "3692    3   2  sin datos  \n",
       "\n",
       "[2560 rows x 6 columns]"
      ]
     },
     "execution_count": 6,
     "metadata": {},
     "output_type": "execute_result"
    }
   ],
   "source": [
    "df[df.sup == 'sin datos']"
   ]
  },
  {
   "cell_type": "code",
   "execution_count": 9,
   "id": "0d189f15",
   "metadata": {
    "scrolled": false
   },
   "outputs": [
    {
     "data": {
      "text/plain": [
       "<bound method NDFrame.head of ubicacion\n",
       " 10 de Agosto            4\n",
       " A.T.E.                  2\n",
       " Alberdi               218\n",
       " Alejandro Centeno       2\n",
       " Alta Córdoba          111\n",
       "                      ... \n",
       " Villa Urquiza           1\n",
       " Villa Warcalde          4\n",
       " Yofre Sud               1\n",
       " Zumaran                 1\n",
       "sin ubicacion          102\n",
       "Name: ubicacion, Length: 169, dtype: int64>"
      ]
     },
     "execution_count": 9,
     "metadata": {},
     "output_type": "execute_result"
    }
   ],
   "source": [
    "dfBarrios = df.groupby('ubicacion')['ubicacion'].agg('count')\n",
    "dfBarrios.head"
   ]
  },
  {
   "cell_type": "code",
   "execution_count": 10,
   "id": "9e06bc46",
   "metadata": {
    "scrolled": true
   },
   "outputs": [
    {
     "data": {
      "text/plain": [
       "ubicacion\n",
       "Nueva Córdoba          903\n",
       "Centro                 426\n",
       "General Paz            395\n",
       "Alberdi                218\n",
       "Alto Alberdi           119\n",
       "                      ... \n",
       "Cañitas                  1\n",
       "San Ignacio Village      1\n",
       "Bella Vista Oeste        1\n",
       "San José                 1\n",
       "Los Platanos             1\n",
       "Name: ubicacion, Length: 169, dtype: int64"
      ]
     },
     "execution_count": 10,
     "metadata": {},
     "output_type": "execute_result"
    }
   ],
   "source": [
    "df.ubicacion = df.ubicacion.apply(lambda x: x.strip())\n",
    "estadisticasUbicacion = df.groupby('ubicacion')['ubicacion'].agg('count').sort_values(ascending=False)\n",
    "estadisticasUbicacion"
   ]
  },
  {
   "cell_type": "code",
   "execution_count": 11,
   "id": "23a84bd0",
   "metadata": {
    "scrolled": true
   },
   "outputs": [
    {
     "name": "stdout",
     "output_type": "stream",
     "text": [
      "ubicacion\n",
      "Nueva Córdoba                     903\n",
      "Centro                            426\n",
      "General Paz                       395\n",
      "Alberdi                           218\n",
      "Alto Alberdi                      119\n",
      "Cofico                            118\n",
      "Alta Córdoba                      111\n",
      "sin ubicacion                     102\n",
      "Manantiales                        95\n",
      "Guemes                             55\n",
      "Villa Belgrano                     52\n",
      "Chateau Carreras                   44\n",
      "Otro                               41\n",
      "Pueyrredon                         39\n",
      "Greenville 2                       37\n",
      "San Martin                         37\n",
      "Providencia                        33\n",
      "Valle Escondido                    33\n",
      "Quebrada de las Rosas              31\n",
      "Observatorio                       30\n",
      "Docta Urbanización Inteligente     28\n",
      "San Vicente                        27\n",
      "Jardín                             22\n",
      "Jardín Claret                      20\n",
      "Urca                               19\n",
      "Las Palmas                         18\n",
      "Jardín Espinosa                    18\n",
      "Las Rosas                          14\n",
      "Cerro de las Rosas                 13\n",
      "Tejas 1                            12\n",
      "Juniors                            12\n",
      "Altos de Villa Sol                 12\n",
      "Claros del Bosque                  12\n",
      "Residencial Santa Ana              11\n",
      "Arguello                           10\n",
      "Cañuelas                           10\n",
      "San Ignacio                         9\n",
      "Jardín Hipodromo                    9\n",
      "Paso de los Andes                   9\n",
      "Villa Revol                         9\n",
      "Alto Verde                          8\n",
      "Prados de Manantiales               8\n",
      "Miradores de Manantiales            7\n",
      "Lomas del Chateau                   7\n",
      "Lomas de San Martín                 6\n",
      "General Bustos                      6\n",
      "Balcones del Chateu                 6\n",
      "Los Naranjos                        6\n",
      "Don Bosco                           6\n",
      "San Francisco                       6\n",
      "Cañuelas Chicos                     6\n",
      "San Fernando                        6\n",
      "Chacra del Norte                    6\n",
      "Maipu Sección 1                     5\n",
      "Villa Sol                           5\n",
      "Amp. Pueyrredón                     5\n",
      "San Martin Norte                    5\n",
      "La Paya II                          5\n",
      "Chacra del Sur                      5\n",
      "Nuevo Poeta Lugones                 5\n",
      "Crisol Norte                        5\n",
      "Solares de Manantiales              4\n",
      "Marq. de Sobremonte                 4\n",
      "Valle Cercano                       4\n",
      "San Salvador                        4\n",
      "Nuevo Urca                          4\n",
      "San Isidro                          4\n",
      "Villa Warcalde                      4\n",
      "La Catalina                         4\n",
      "10 de Agosto                        4\n",
      "Ipona                               4\n",
      "Villa Alberdi                       3\n",
      "Teodoro Felds                       3\n",
      "Palmas de Claret                    3\n",
      "Alto General Paz                    3\n",
      "Parque Velez Sarsfield              3\n",
      "Inaudi                              3\n",
      "Primero de Mayo                     3\n",
      "Jockey Club                         3\n",
      "Parque Capital Sud                  3\n",
      "Parque Capital                      3\n",
      "Colón                               2\n",
      "Parque Corema                       2\n",
      "Altos de Manantiales                2\n",
      "Parque Chacabuco                    2\n",
      "San Rafael                          2\n",
      "Parque Liceo II                     2\n",
      "Panamericano                        2\n",
      "Colinas de V. Sarsfield             2\n",
      "Residencial America                 2\n",
      "Residencial San Carlos              2\n",
      "Terrazas de Manantiales             2\n",
      "Residencial Velez Sarfield          2\n",
      "SEP                                 2\n",
      "SMATA                               2\n",
      "Tejas 2                             2\n",
      "Talleres Este                       2\n",
      "Bialet Masse                        2\n",
      "Amp. San Pablo                      2\n",
      "Quintas de Arguello                 2\n",
      "Avenida                             2\n",
      "Padre Claret                        2\n",
      "Villa Cabrera                       2\n",
      "Las Flores                          2\n",
      "Alejandro Centeno                   2\n",
      "Jardín de los Boulevares            2\n",
      "Lomas del Suquía                    2\n",
      "Villa Rivera Indarte                2\n",
      "Villa Allende Parque                2\n",
      "A.T.E.                              2\n",
      "General Artigas                     2\n",
      "Villa Argentina                     2\n",
      "General Belgrano                    2\n",
      "Fontanas del Sur                    2\n",
      "Villa Union                         1\n",
      "Arguello Norte                      1\n",
      "Santina Norte                       1\n",
      "Zumaran                             1\n",
      "Tablada Park                        1\n",
      "Yofre Sud                           1\n",
      "Amp. Las Palmas                     1\n",
      "Villa Urquiza                       1\n",
      "Altos de San Martín                 1\n",
      "Ameghino Sud                        1\n",
      "Terranova                           1\n",
      "Villa Azalais                       1\n",
      "Altamira                            1\n",
      "Alto Palermo                        1\n",
      "Villa Paez                          1\n",
      "Terrazas de Ohiggins                1\n",
      "Villa Corina                        1\n",
      "Villa Claret                        1\n",
      "Villa Carlos Paz                    1\n",
      "La France                           1\n",
      "Ciudadela                           1\n",
      "Bajo Galan                          1\n",
      "Los Olmos                           1\n",
      "Mirador                             1\n",
      "Matienzo                            1\n",
      "Ituzaingo                           1\n",
      "Maipu Sección 2                     1\n",
      "Jardines del Jockey                 1\n",
      "Los Robles                          1\n",
      "Jardines del Olmo                   1\n",
      "Bajo Palermo                        1\n",
      "Los Boulevares                      1\n",
      "Jardín del Pilar                    1\n",
      "Lomas de Manantiales                1\n",
      "La Calandria                        1\n",
      "La Carolina                         1\n",
      "La Paya I                           1\n",
      "Nuevo Jardín                        1\n",
      "Obrero                              1\n",
      "Ejercito Argentino                  1\n",
      "Ducasse                             1\n",
      "Parque República                    1\n",
      "Cáceres                             1\n",
      "Costas de Manantiales               1\n",
      "Colinas de Manantiales              1\n",
      "La Luisita                          1\n",
      "Riberas de Manantiales              1\n",
      "Rivadavia                           1\n",
      "SMATA II                            1\n",
      "Centenario                          1\n",
      "Cañitas                             1\n",
      "San Ignacio Village                 1\n",
      "Bella Vista Oeste                   1\n",
      "San José                            1\n",
      "Los Platanos                        1\n",
      "Name: ubicacion, dtype: int64\n"
     ]
    }
   ],
   "source": [
    "with pd.option_context('display.max_rows', None,\n",
    "                       'display.max_columns', None,\n",
    "                       'display.precision', 3,\n",
    "                       ):\n",
    "    print(estadisticasUbicacion)"
   ]
  },
  {
   "cell_type": "code",
   "execution_count": 12,
   "id": "f59b5b57",
   "metadata": {},
   "outputs": [
    {
     "data": {
      "text/plain": [
       "ubicacion\n",
       "San Ignacio            9\n",
       "Jardín Hipodromo       9\n",
       "Paso de los Andes      9\n",
       "Villa Revol            9\n",
       "Alto Verde             8\n",
       "                      ..\n",
       "Cañitas                1\n",
       "San Ignacio Village    1\n",
       "Bella Vista Oeste      1\n",
       "San José               1\n",
       "Los Platanos           1\n",
       "Name: ubicacion, Length: 133, dtype: int64"
      ]
     },
     "execution_count": 12,
     "metadata": {},
     "output_type": "execute_result"
    }
   ],
   "source": [
    "otras_ubicaciones = estadisticasUbicacion[estadisticasUbicacion<10]\n",
    "otras_ubicaciones"
   ]
  },
  {
   "cell_type": "code",
   "execution_count": 13,
   "id": "31099aa8",
   "metadata": {},
   "outputs": [],
   "source": [
    "df.ubicacion = df.ubicacion.apply(lambda x: 'other' if x in otras_ubicaciones else x)"
   ]
  },
  {
   "cell_type": "code",
   "execution_count": 14,
   "id": "2cebfcaf",
   "metadata": {
    "scrolled": false
   },
   "outputs": [
    {
     "data": {
      "text/plain": [
       "ubicacion\n",
       "Nueva Córdoba                     903\n",
       "Centro                            426\n",
       "General Paz                       395\n",
       "other                             351\n",
       "Alberdi                           218\n",
       "Alto Alberdi                      119\n",
       "Cofico                            118\n",
       "Alta Córdoba                      111\n",
       "sin ubicacion                     102\n",
       "Manantiales                        95\n",
       "Guemes                             55\n",
       "Villa Belgrano                     52\n",
       "Chateau Carreras                   44\n",
       "Otro                               41\n",
       "Pueyrredon                         39\n",
       "San Martin                         37\n",
       "Greenville 2                       37\n",
       "Valle Escondido                    33\n",
       "Providencia                        33\n",
       "Quebrada de las Rosas              31\n",
       "Observatorio                       30\n",
       "Docta Urbanización Inteligente     28\n",
       "San Vicente                        27\n",
       "Jardín                             22\n",
       "Jardín Claret                      20\n",
       "Urca                               19\n",
       "Las Palmas                         18\n",
       "Jardín Espinosa                    18\n",
       "Las Rosas                          14\n",
       "Cerro de las Rosas                 13\n",
       "Altos de Villa Sol                 12\n",
       "Claros del Bosque                  12\n",
       "Tejas 1                            12\n",
       "Juniors                            12\n",
       "Residencial Santa Ana              11\n",
       "Arguello                           10\n",
       "Cañuelas                           10\n",
       "Name: ubicacion, dtype: int64"
      ]
     },
     "execution_count": 14,
     "metadata": {},
     "output_type": "execute_result"
    }
   ],
   "source": [
    "estadisticasUbicacionFinal = df.groupby('ubicacion')['ubicacion'].agg('count').sort_values(ascending=False)\n",
    "estadisticasUbicacionFinal"
   ]
  },
  {
   "cell_type": "code",
   "execution_count": 15,
   "id": "426a91bc",
   "metadata": {
    "scrolled": true
   },
   "outputs": [
    {
     "data": {
      "text/html": [
       "<div>\n",
       "<style scoped>\n",
       "    .dataframe tbody tr th:only-of-type {\n",
       "        vertical-align: middle;\n",
       "    }\n",
       "\n",
       "    .dataframe tbody tr th {\n",
       "        vertical-align: top;\n",
       "    }\n",
       "\n",
       "    .dataframe thead th {\n",
       "        text-align: right;\n",
       "    }\n",
       "</style>\n",
       "<table border=\"1\" class=\"dataframe\">\n",
       "  <thead>\n",
       "    <tr style=\"text-align: right;\">\n",
       "      <th></th>\n",
       "      <th>titulo</th>\n",
       "      <th>precio</th>\n",
       "      <th>ubicacion</th>\n",
       "      <th>dorm</th>\n",
       "      <th>ban</th>\n",
       "      <th>sup</th>\n",
       "    </tr>\n",
       "  </thead>\n",
       "  <tbody>\n",
       "    <tr>\n",
       "      <th>0</th>\n",
       "      <td>b'VENDO DEPARTAME'</td>\n",
       "      <td>40000</td>\n",
       "      <td>San Vicente</td>\n",
       "      <td>1</td>\n",
       "      <td>1</td>\n",
       "      <td>45</td>\n",
       "    </tr>\n",
       "    <tr>\n",
       "      <th>1</th>\n",
       "      <td>b'GRAL PAZ-2 BALC'</td>\n",
       "      <td>55000</td>\n",
       "      <td>General Paz</td>\n",
       "      <td>1</td>\n",
       "      <td>1</td>\n",
       "      <td>sin datos</td>\n",
       "    </tr>\n",
       "    <tr>\n",
       "      <th>2</th>\n",
       "      <td>b'GENERAL PAZ-CAT'</td>\n",
       "      <td>60000</td>\n",
       "      <td>General Paz</td>\n",
       "      <td>1</td>\n",
       "      <td>1</td>\n",
       "      <td>sin datos</td>\n",
       "    </tr>\n",
       "    <tr>\n",
       "      <th>3</th>\n",
       "      <td>b'Tr\\xc3\\xa1nsito C\\xc3\\xa1ce'</td>\n",
       "      <td>67000</td>\n",
       "      <td>Nueva Córdoba</td>\n",
       "      <td>1</td>\n",
       "      <td>1</td>\n",
       "      <td>45</td>\n",
       "    </tr>\n",
       "    <tr>\n",
       "      <th>4</th>\n",
       "      <td>b'B\\xc2\\xba LOMAS DE MA'</td>\n",
       "      <td>130000</td>\n",
       "      <td>sin ubicacion</td>\n",
       "      <td>3</td>\n",
       "      <td>3</td>\n",
       "      <td>130</td>\n",
       "    </tr>\n",
       "  </tbody>\n",
       "</table>\n",
       "</div>"
      ],
      "text/plain": [
       "                           titulo  precio      ubicacion dorm ban        sup\n",
       "0              b'VENDO DEPARTAME'   40000    San Vicente    1   1         45\n",
       "1              b'GRAL PAZ-2 BALC'   55000    General Paz    1   1  sin datos\n",
       "2              b'GENERAL PAZ-CAT'   60000    General Paz    1   1  sin datos\n",
       "3  b'Tr\\xc3\\xa1nsito C\\xc3\\xa1ce'   67000  Nueva Córdoba    1   1         45\n",
       "4        b'B\\xc2\\xba LOMAS DE MA'  130000  sin ubicacion    3   3        130"
      ]
     },
     "execution_count": 15,
     "metadata": {},
     "output_type": "execute_result"
    }
   ],
   "source": [
    "df.head(5)"
   ]
  },
  {
   "cell_type": "code",
   "execution_count": 16,
   "id": "bfa274ff",
   "metadata": {},
   "outputs": [],
   "source": [
    "dorm_sindatos_indexes = df[df['dorm'] == 'sin datos'].index\n",
    "df.drop(dorm_sindatos_indexes, inplace= True)"
   ]
  },
  {
   "cell_type": "code",
   "execution_count": 17,
   "id": "1fff0e8a",
   "metadata": {
    "scrolled": true
   },
   "outputs": [
    {
     "data": {
      "text/plain": [
       "dorm\n",
       "1               1726\n",
       "2               1017\n",
       "3                668\n",
       "4                 46\n",
       "Monoambiente      42\n",
       "Name: dorm, dtype: int64"
      ]
     },
     "execution_count": 17,
     "metadata": {},
     "output_type": "execute_result"
    }
   ],
   "source": [
    "conteo_dormitorios = df.groupby('dorm')['dorm'].agg('count')\n",
    "conteo_dormitorios"
   ]
  },
  {
   "cell_type": "code",
   "execution_count": 18,
   "id": "f20c8f0c",
   "metadata": {},
   "outputs": [],
   "source": [
    "df.dorm = df.dorm.apply(lambda x: '0' if x =='Monoambiente' else x)"
   ]
  },
  {
   "cell_type": "code",
   "execution_count": 19,
   "id": "c1db9652",
   "metadata": {},
   "outputs": [
    {
     "data": {
      "text/plain": [
       "dorm\n",
       "0      42\n",
       "1    1726\n",
       "2    1017\n",
       "3     668\n",
       "4      46\n",
       "Name: dorm, dtype: int64"
      ]
     },
     "execution_count": 19,
     "metadata": {},
     "output_type": "execute_result"
    }
   ],
   "source": [
    "conteo_dormitorios = df.groupby('dorm')['dorm'].agg('count')\n",
    "conteo_dormitorios"
   ]
  },
  {
   "cell_type": "code",
   "execution_count": 20,
   "id": "3f08d551",
   "metadata": {
    "scrolled": true
   },
   "outputs": [],
   "source": [
    "df[\"dorm\"] = df[\"dorm\"].astype(\"int64\")"
   ]
  },
  {
   "cell_type": "code",
   "execution_count": 21,
   "id": "9dc27ed4",
   "metadata": {},
   "outputs": [
    {
     "name": "stdout",
     "output_type": "stream",
     "text": [
      "<class 'pandas.core.frame.DataFrame'>\n",
      "Int64Index: 3499 entries, 0 to 3692\n",
      "Data columns (total 6 columns):\n",
      " #   Column     Non-Null Count  Dtype \n",
      "---  ------     --------------  ----- \n",
      " 0   titulo     3499 non-null   object\n",
      " 1   precio     3499 non-null   int64 \n",
      " 2   ubicacion  3499 non-null   object\n",
      " 3   dorm       3499 non-null   int64 \n",
      " 4   ban        3499 non-null   object\n",
      " 5   sup        3499 non-null   object\n",
      "dtypes: int64(2), object(4)\n",
      "memory usage: 191.4+ KB\n"
     ]
    }
   ],
   "source": [
    "df.info()"
   ]
  },
  {
   "cell_type": "code",
   "execution_count": 22,
   "id": "76a748e0",
   "metadata": {
    "scrolled": true
   },
   "outputs": [],
   "source": [
    "df.drop(df[df['ban']=='+'].index, inplace = True)"
   ]
  },
  {
   "cell_type": "code",
   "execution_count": 23,
   "id": "ee2f4a14",
   "metadata": {
    "scrolled": false
   },
   "outputs": [],
   "source": [
    "df.drop(df[df['ban']=='sin datos'].index, inplace = True)"
   ]
  },
  {
   "cell_type": "code",
   "execution_count": 24,
   "id": "53893dbf",
   "metadata": {},
   "outputs": [],
   "source": [
    "df[\"ban\"] = df[\"ban\"].astype(\"int64\")"
   ]
  },
  {
   "cell_type": "code",
   "execution_count": 25,
   "id": "f9fdd118",
   "metadata": {},
   "outputs": [
    {
     "name": "stdout",
     "output_type": "stream",
     "text": [
      "<class 'pandas.core.frame.DataFrame'>\n",
      "Int64Index: 3351 entries, 0 to 3692\n",
      "Data columns (total 6 columns):\n",
      " #   Column     Non-Null Count  Dtype \n",
      "---  ------     --------------  ----- \n",
      " 0   titulo     3351 non-null   object\n",
      " 1   precio     3351 non-null   int64 \n",
      " 2   ubicacion  3351 non-null   object\n",
      " 3   dorm       3351 non-null   int64 \n",
      " 4   ban        3351 non-null   int64 \n",
      " 5   sup        3351 non-null   object\n",
      "dtypes: int64(3), object(3)\n",
      "memory usage: 183.3+ KB\n"
     ]
    }
   ],
   "source": [
    "df.info()"
   ]
  },
  {
   "cell_type": "code",
   "execution_count": 26,
   "id": "a64d3b34",
   "metadata": {
    "scrolled": false
   },
   "outputs": [
    {
     "data": {
      "text/plain": [
       "(3257, 6)"
      ]
     },
     "execution_count": 26,
     "metadata": {},
     "output_type": "execute_result"
    }
   ],
   "source": [
    "df.drop(df[df['ubicacion'] == 'sin ubicacion'].index, inplace = True)\n",
    "df.shape"
   ]
  },
  {
   "cell_type": "code",
   "execution_count": 27,
   "id": "0f6861ef",
   "metadata": {
    "scrolled": false
   },
   "outputs": [
    {
     "name": "stdout",
     "output_type": "stream",
     "text": [
      "<class 'pandas.core.frame.DataFrame'>\n",
      "Int64Index: 3257 entries, 0 to 3692\n",
      "Data columns (total 6 columns):\n",
      " #   Column     Non-Null Count  Dtype \n",
      "---  ------     --------------  ----- \n",
      " 0   titulo     3257 non-null   object\n",
      " 1   precio     3257 non-null   int64 \n",
      " 2   ubicacion  3257 non-null   object\n",
      " 3   dorm       3257 non-null   int64 \n",
      " 4   ban        3257 non-null   int64 \n",
      " 5   sup        3257 non-null   object\n",
      "dtypes: int64(3), object(3)\n",
      "memory usage: 178.1+ KB\n"
     ]
    }
   ],
   "source": [
    "df.info()"
   ]
  },
  {
   "cell_type": "code",
   "execution_count": 28,
   "id": "451870b9",
   "metadata": {
    "scrolled": true
   },
   "outputs": [
    {
     "data": {
      "text/html": [
       "<div>\n",
       "<style scoped>\n",
       "    .dataframe tbody tr th:only-of-type {\n",
       "        vertical-align: middle;\n",
       "    }\n",
       "\n",
       "    .dataframe tbody tr th {\n",
       "        vertical-align: top;\n",
       "    }\n",
       "\n",
       "    .dataframe thead th {\n",
       "        text-align: right;\n",
       "    }\n",
       "</style>\n",
       "<table border=\"1\" class=\"dataframe\">\n",
       "  <thead>\n",
       "    <tr style=\"text-align: right;\">\n",
       "      <th></th>\n",
       "      <th>precio</th>\n",
       "      <th>ubicacion</th>\n",
       "      <th>dorm</th>\n",
       "      <th>ban</th>\n",
       "      <th>sup</th>\n",
       "    </tr>\n",
       "  </thead>\n",
       "  <tbody>\n",
       "    <tr>\n",
       "      <th>0</th>\n",
       "      <td>40000</td>\n",
       "      <td>San Vicente</td>\n",
       "      <td>1</td>\n",
       "      <td>1</td>\n",
       "      <td>45</td>\n",
       "    </tr>\n",
       "    <tr>\n",
       "      <th>1</th>\n",
       "      <td>55000</td>\n",
       "      <td>General Paz</td>\n",
       "      <td>1</td>\n",
       "      <td>1</td>\n",
       "      <td>sin datos</td>\n",
       "    </tr>\n",
       "    <tr>\n",
       "      <th>2</th>\n",
       "      <td>60000</td>\n",
       "      <td>General Paz</td>\n",
       "      <td>1</td>\n",
       "      <td>1</td>\n",
       "      <td>sin datos</td>\n",
       "    </tr>\n",
       "    <tr>\n",
       "      <th>3</th>\n",
       "      <td>67000</td>\n",
       "      <td>Nueva Córdoba</td>\n",
       "      <td>1</td>\n",
       "      <td>1</td>\n",
       "      <td>45</td>\n",
       "    </tr>\n",
       "    <tr>\n",
       "      <th>6</th>\n",
       "      <td>211000</td>\n",
       "      <td>Manantiales</td>\n",
       "      <td>3</td>\n",
       "      <td>3</td>\n",
       "      <td>sin datos</td>\n",
       "    </tr>\n",
       "  </tbody>\n",
       "</table>\n",
       "</div>"
      ],
      "text/plain": [
       "   precio      ubicacion  dorm  ban        sup\n",
       "0   40000    San Vicente     1    1         45\n",
       "1   55000    General Paz     1    1  sin datos\n",
       "2   60000    General Paz     1    1  sin datos\n",
       "3   67000  Nueva Córdoba     1    1         45\n",
       "6  211000    Manantiales     3    3  sin datos"
      ]
     },
     "execution_count": 28,
     "metadata": {},
     "output_type": "execute_result"
    }
   ],
   "source": [
    "df.drop(['titulo'], axis=1, inplace=True)\n",
    "df.head()"
   ]
  },
  {
   "cell_type": "code",
   "execution_count": 29,
   "id": "50aab66c",
   "metadata": {},
   "outputs": [],
   "source": [
    "df = df.drop(df[df['sup']=='sin datos'].index)"
   ]
  },
  {
   "cell_type": "code",
   "execution_count": 30,
   "id": "e05f8b63",
   "metadata": {},
   "outputs": [],
   "source": [
    "df['sup'] = df['sup'].astype('int64')"
   ]
  },
  {
   "cell_type": "code",
   "execution_count": 31,
   "id": "e3d9352c",
   "metadata": {},
   "outputs": [],
   "source": [
    "df['precio/m2'] = df['precio']/df['sup']"
   ]
  },
  {
   "cell_type": "code",
   "execution_count": 32,
   "id": "ab5d5273",
   "metadata": {},
   "outputs": [
    {
     "name": "stdout",
     "output_type": "stream",
     "text": [
      "<class 'pandas.core.frame.DataFrame'>\n",
      "Int64Index: 988 entries, 0 to 3691\n",
      "Data columns (total 6 columns):\n",
      " #   Column     Non-Null Count  Dtype  \n",
      "---  ------     --------------  -----  \n",
      " 0   precio     988 non-null    int64  \n",
      " 1   ubicacion  988 non-null    object \n",
      " 2   dorm       988 non-null    int64  \n",
      " 3   ban        988 non-null    int64  \n",
      " 4   sup        988 non-null    int64  \n",
      " 5   precio/m2  988 non-null    float64\n",
      "dtypes: float64(1), int64(4), object(1)\n",
      "memory usage: 54.0+ KB\n"
     ]
    }
   ],
   "source": [
    "df.info()"
   ]
  },
  {
   "cell_type": "code",
   "execution_count": 33,
   "id": "a9611c31",
   "metadata": {
    "scrolled": true
   },
   "outputs": [
    {
     "data": {
      "text/html": [
       "<div>\n",
       "<style scoped>\n",
       "    .dataframe tbody tr th:only-of-type {\n",
       "        vertical-align: middle;\n",
       "    }\n",
       "\n",
       "    .dataframe tbody tr th {\n",
       "        vertical-align: top;\n",
       "    }\n",
       "\n",
       "    .dataframe thead th {\n",
       "        text-align: right;\n",
       "    }\n",
       "</style>\n",
       "<table border=\"1\" class=\"dataframe\">\n",
       "  <thead>\n",
       "    <tr style=\"text-align: right;\">\n",
       "      <th></th>\n",
       "      <th>precio</th>\n",
       "      <th>ubicacion</th>\n",
       "      <th>dorm</th>\n",
       "      <th>ban</th>\n",
       "      <th>sup</th>\n",
       "      <th>precio/m2</th>\n",
       "    </tr>\n",
       "  </thead>\n",
       "  <tbody>\n",
       "    <tr>\n",
       "      <th>0</th>\n",
       "      <td>40000</td>\n",
       "      <td>San Vicente</td>\n",
       "      <td>1</td>\n",
       "      <td>1</td>\n",
       "      <td>45</td>\n",
       "      <td>888.89</td>\n",
       "    </tr>\n",
       "    <tr>\n",
       "      <th>3</th>\n",
       "      <td>67000</td>\n",
       "      <td>Nueva Córdoba</td>\n",
       "      <td>1</td>\n",
       "      <td>1</td>\n",
       "      <td>45</td>\n",
       "      <td>1488.89</td>\n",
       "    </tr>\n",
       "    <tr>\n",
       "      <th>9</th>\n",
       "      <td>78800</td>\n",
       "      <td>Chateau Carreras</td>\n",
       "      <td>1</td>\n",
       "      <td>1</td>\n",
       "      <td>47</td>\n",
       "      <td>1676.60</td>\n",
       "    </tr>\n",
       "    <tr>\n",
       "      <th>10</th>\n",
       "      <td>105000</td>\n",
       "      <td>General Paz</td>\n",
       "      <td>2</td>\n",
       "      <td>2</td>\n",
       "      <td>75</td>\n",
       "      <td>1400.00</td>\n",
       "    </tr>\n",
       "    <tr>\n",
       "      <th>11</th>\n",
       "      <td>75000</td>\n",
       "      <td>General Paz</td>\n",
       "      <td>2</td>\n",
       "      <td>2</td>\n",
       "      <td>65</td>\n",
       "      <td>1153.85</td>\n",
       "    </tr>\n",
       "  </tbody>\n",
       "</table>\n",
       "</div>"
      ],
      "text/plain": [
       "    precio         ubicacion  dorm  ban  sup  precio/m2\n",
       "0    40000       San Vicente     1    1   45     888.89\n",
       "3    67000     Nueva Córdoba     1    1   45    1488.89\n",
       "9    78800  Chateau Carreras     1    1   47    1676.60\n",
       "10  105000       General Paz     2    2   75    1400.00\n",
       "11   75000       General Paz     2    2   65    1153.85"
      ]
     },
     "execution_count": 33,
     "metadata": {},
     "output_type": "execute_result"
    }
   ],
   "source": [
    "pd.options.display.float_format = '{:.2f}'.format\n",
    "df.head()"
   ]
  },
  {
   "cell_type": "code",
   "execution_count": 34,
   "id": "f364e6e0",
   "metadata": {
    "scrolled": true
   },
   "outputs": [
    {
     "name": "stdout",
     "output_type": "stream",
     "text": [
      "<class 'pandas.core.frame.DataFrame'>\n",
      "Int64Index: 988 entries, 0 to 3691\n",
      "Data columns (total 6 columns):\n",
      " #   Column     Non-Null Count  Dtype  \n",
      "---  ------     --------------  -----  \n",
      " 0   precio     988 non-null    int64  \n",
      " 1   ubicacion  988 non-null    object \n",
      " 2   dorm       988 non-null    int64  \n",
      " 3   ban        988 non-null    int64  \n",
      " 4   sup        988 non-null    int64  \n",
      " 5   precio/m2  988 non-null    float64\n",
      "dtypes: float64(1), int64(4), object(1)\n",
      "memory usage: 54.0+ KB\n"
     ]
    }
   ],
   "source": [
    "df.info()"
   ]
  },
  {
   "cell_type": "code",
   "execution_count": 35,
   "id": "0353fa8c",
   "metadata": {
    "scrolled": false
   },
   "outputs": [],
   "source": [
    "df.drop(df[df['sup'] == 5926].index, inplace = True)"
   ]
  },
  {
   "cell_type": "code",
   "execution_count": 36,
   "id": "dbeeda5b",
   "metadata": {
    "scrolled": true
   },
   "outputs": [
    {
     "data": {
      "text/plain": [
       "<seaborn.axisgrid.FacetGrid at 0x124596a91c0>"
      ]
     },
     "execution_count": 36,
     "metadata": {},
     "output_type": "execute_result"
    },
    {
     "data": {
      "image/png": "[encoded data removed]",
      "text/plain": [
       "<Figure size 500x500 with 1 Axes>"
      ]
     },
     "metadata": {},
     "output_type": "display_data"
    }
   ],
   "source": [
    "sns.displot(df.precio)"
   ]
  },
  {
   "cell_type": "code",
   "execution_count": 37,
   "id": "7241b58b",
   "metadata": {
    "scrolled": true
   },
   "outputs": [
    {
     "data": {
      "text/plain": [
       "<AxesSubplot:xlabel='precio/m2'>"
      ]
     },
     "execution_count": 37,
     "metadata": {},
     "output_type": "execute_result"
    },
    {
     "data": {
      "image/png": "[encoded data removed]",
      "text/plain": [
       "<Figure size 640x480 with 1 Axes>"
      ]
     },
     "metadata": {},
     "output_type": "display_data"
    }
   ],
   "source": [
    "sns.boxplot(x='precio/m2', data=df)"
   ]
  },
  {
   "cell_type": "code",
   "execution_count": 38,
   "id": "a6ec404d",
   "metadata": {
    "scrolled": true
   },
   "outputs": [],
   "source": [
    "df.drop(df[df['precio/m2']>2500].index, inplace = True)"
   ]
  },
  {
   "cell_type": "code",
   "execution_count": 39,
   "id": "e041fb1c",
   "metadata": {},
   "outputs": [],
   "source": [
    "df.drop(df[df['precio/m2']<400].index, inplace = True)"
   ]
  },
  {
   "cell_type": "code",
   "execution_count": 40,
   "id": "b53d519b",
   "metadata": {
    "scrolled": false
   },
   "outputs": [
    {
     "data": {
      "text/plain": [
       "<seaborn.axisgrid.FacetGrid at 0x124596bca00>"
      ]
     },
     "execution_count": 40,
     "metadata": {},
     "output_type": "execute_result"
    },
    {
     "data": {
      "image/png": "[encoded data removed]",
      "text/plain": [
       "<Figure size 500x500 with 1 Axes>"
      ]
     },
     "metadata": {},
     "output_type": "display_data"
    }
   ],
   "source": [
    "sns.displot(data=df, x='precio/m2')"
   ]
  },
  {
   "cell_type": "code",
   "execution_count": 41,
   "id": "33003309",
   "metadata": {
    "scrolled": true
   },
   "outputs": [
    {
     "data": {
      "text/plain": [
       "<AxesSubplot:xlabel='precio/m2'>"
      ]
     },
     "execution_count": 41,
     "metadata": {},
     "output_type": "execute_result"
    },
    {
     "data": {
      "image/png": "[encoded data removed]",
      "text/plain": [
       "<Figure size 640x480 with 1 Axes>"
      ]
     },
     "metadata": {},
     "output_type": "display_data"
    }
   ],
   "source": [
    "sns.boxplot(x='precio/m2', data=df)"
   ]
  },
  {
   "cell_type": "code",
   "execution_count": 42,
   "id": "de739365",
   "metadata": {
    "scrolled": false
   },
   "outputs": [
    {
     "data": {
      "text/plain": [
       "<AxesSubplot:xlabel='precio'>"
      ]
     },
     "execution_count": 42,
     "metadata": {},
     "output_type": "execute_result"
    },
    {
     "data": {
      "image/png": "[encoded data removed]",
      "text/plain": [
       "<Figure size 640x480 with 1 Axes>"
      ]
     },
     "metadata": {},
     "output_type": "display_data"
    }
   ],
   "source": [
    "sns.boxplot(x='precio', data=df)"
   ]
  },
  {
   "cell_type": "code",
   "execution_count": 43,
   "id": "1a299e23",
   "metadata": {
    "scrolled": true
   },
   "outputs": [],
   "source": [
    "df.drop(df[df['precio']>300000].index, inplace = True)"
   ]
  },
  {
   "cell_type": "code",
   "execution_count": 44,
   "id": "84a79ee2",
   "metadata": {},
   "outputs": [],
   "source": [
    "df.drop(df[df['precio']<11000].index, inplace = True)"
   ]
  },
  {
   "cell_type": "code",
   "execution_count": 45,
   "id": "6d6f5523",
   "metadata": {
    "scrolled": true
   },
   "outputs": [
    {
     "data": {
      "text/plain": [
       "<AxesSubplot:xlabel='precio'>"
      ]
     },
     "execution_count": 45,
     "metadata": {},
     "output_type": "execute_result"
    },
    {
     "data": {
      "image/png": "[encoded data removed]",
      "text/plain": [
       "<Figure size 640x480 with 1 Axes>"
      ]
     },
     "metadata": {},
     "output_type": "display_data"
    }
   ],
   "source": [
    "sns.boxplot(x='precio', data=df)"
   ]
  },
  {
   "cell_type": "code",
   "execution_count": 46,
   "id": "e02e79b2",
   "metadata": {
    "scrolled": false
   },
   "outputs": [
    {
     "data": {
      "text/plain": [
       "<AxesSubplot:xlabel='sup'>"
      ]
     },
     "execution_count": 46,
     "metadata": {},
     "output_type": "execute_result"
    },
    {
     "data": {
      "image/png": "[encoded data removed]",
      "text/plain": [
       "<Figure size 640x480 with 1 Axes>"
      ]
     },
     "metadata": {},
     "output_type": "display_data"
    }
   ],
   "source": [
    "sns.boxplot(x='sup', data=df)"
   ]
  },
  {
   "cell_type": "code",
   "execution_count": 47,
   "id": "7b293d03",
   "metadata": {},
   "outputs": [],
   "source": [
    "df.drop(df[df['sup']>100].index, inplace = True)"
   ]
  },
  {
   "cell_type": "code",
   "execution_count": 48,
   "id": "1f9efea9",
   "metadata": {},
   "outputs": [],
   "source": [
    "df.drop(df[df['sup']<25].index, inplace = True)"
   ]
  },
  {
   "cell_type": "code",
   "execution_count": 49,
   "id": "ee9d84d5",
   "metadata": {
    "scrolled": false
   },
   "outputs": [
    {
     "data": {
      "text/plain": [
       "<AxesSubplot:xlabel='sup'>"
      ]
     },
     "execution_count": 49,
     "metadata": {},
     "output_type": "execute_result"
    },
    {
     "data": {
      "image/png": "[encoded data removed]",
      "text/plain": [
       "<Figure size 640x480 with 1 Axes>"
      ]
     },
     "metadata": {},
     "output_type": "display_data"
    }
   ],
   "source": [
    "sns.boxplot(x='sup', data=df)"
   ]
  },
  {
   "cell_type": "code",
   "execution_count": 50,
   "id": "e2f9489f",
   "metadata": {
    "scrolled": false
   },
   "outputs": [
    {
     "data": {
      "text/plain": [
       "<seaborn.axisgrid.FacetGrid at 0x1245c9d9f70>"
      ]
     },
     "execution_count": 50,
     "metadata": {},
     "output_type": "execute_result"
    },
    {
     "data": {
      "image/png": "[encoded data removed]",
      "text/plain": [
       "<Figure size 500x500 with 1 Axes>"
      ]
     },
     "metadata": {},
     "output_type": "display_data"
    }
   ],
   "source": [
    "sns.displot(x='precio', data=df, kde=True)"
   ]
  },
  {
   "cell_type": "code",
   "execution_count": 51,
   "id": "aa4dcecb",
   "metadata": {},
   "outputs": [],
   "source": [
    "df['sup/ban'] = df['sup']/df['ban']"
   ]
  },
  {
   "cell_type": "code",
   "execution_count": 52,
   "id": "4ffc2ce9",
   "metadata": {
    "scrolled": true
   },
   "outputs": [
    {
     "data": {
      "text/html": [
       "<div>\n",
       "<style scoped>\n",
       "    .dataframe tbody tr th:only-of-type {\n",
       "        vertical-align: middle;\n",
       "    }\n",
       "\n",
       "    .dataframe tbody tr th {\n",
       "        vertical-align: top;\n",
       "    }\n",
       "\n",
       "    .dataframe thead th {\n",
       "        text-align: right;\n",
       "    }\n",
       "</style>\n",
       "<table border=\"1\" class=\"dataframe\">\n",
       "  <thead>\n",
       "    <tr style=\"text-align: right;\">\n",
       "      <th></th>\n",
       "      <th>precio</th>\n",
       "      <th>dorm</th>\n",
       "      <th>ban</th>\n",
       "      <th>sup</th>\n",
       "      <th>precio/m2</th>\n",
       "      <th>sup/ban</th>\n",
       "    </tr>\n",
       "  </thead>\n",
       "  <tbody>\n",
       "    <tr>\n",
       "      <th>count</th>\n",
       "      <td>877.00</td>\n",
       "      <td>877.00</td>\n",
       "      <td>877.00</td>\n",
       "      <td>877.00</td>\n",
       "      <td>877.00</td>\n",
       "      <td>877.00</td>\n",
       "    </tr>\n",
       "    <tr>\n",
       "      <th>mean</th>\n",
       "      <td>72127.46</td>\n",
       "      <td>1.43</td>\n",
       "      <td>1.25</td>\n",
       "      <td>59.90</td>\n",
       "      <td>1199.75</td>\n",
       "      <td>49.30</td>\n",
       "    </tr>\n",
       "    <tr>\n",
       "      <th>std</th>\n",
       "      <td>39534.88</td>\n",
       "      <td>0.67</td>\n",
       "      <td>0.47</td>\n",
       "      <td>22.28</td>\n",
       "      <td>406.23</td>\n",
       "      <td>13.56</td>\n",
       "    </tr>\n",
       "    <tr>\n",
       "      <th>min</th>\n",
       "      <td>16000.00</td>\n",
       "      <td>0.00</td>\n",
       "      <td>1.00</td>\n",
       "      <td>25.00</td>\n",
       "      <td>402.99</td>\n",
       "      <td>20.00</td>\n",
       "    </tr>\n",
       "    <tr>\n",
       "      <th>25%</th>\n",
       "      <td>45000.00</td>\n",
       "      <td>1.00</td>\n",
       "      <td>1.00</td>\n",
       "      <td>45.00</td>\n",
       "      <td>900.00</td>\n",
       "      <td>41.00</td>\n",
       "    </tr>\n",
       "    <tr>\n",
       "      <th>50%</th>\n",
       "      <td>60000.00</td>\n",
       "      <td>1.00</td>\n",
       "      <td>1.00</td>\n",
       "      <td>50.00</td>\n",
       "      <td>1156.25</td>\n",
       "      <td>45.00</td>\n",
       "    </tr>\n",
       "    <tr>\n",
       "      <th>75%</th>\n",
       "      <td>85000.00</td>\n",
       "      <td>2.00</td>\n",
       "      <td>1.00</td>\n",
       "      <td>70.00</td>\n",
       "      <td>1428.57</td>\n",
       "      <td>55.00</td>\n",
       "    </tr>\n",
       "    <tr>\n",
       "      <th>max</th>\n",
       "      <td>290000.00</td>\n",
       "      <td>4.00</td>\n",
       "      <td>3.00</td>\n",
       "      <td>130.00</td>\n",
       "      <td>2454.55</td>\n",
       "      <td>111.00</td>\n",
       "    </tr>\n",
       "  </tbody>\n",
       "</table>\n",
       "</div>"
      ],
      "text/plain": [
       "         precio   dorm    ban    sup  precio/m2  sup/ban\n",
       "count    877.00 877.00 877.00 877.00     877.00   877.00\n",
       "mean   72127.46   1.43   1.25  59.90    1199.75    49.30\n",
       "std    39534.88   0.67   0.47  22.28     406.23    13.56\n",
       "min    16000.00   0.00   1.00  25.00     402.99    20.00\n",
       "25%    45000.00   1.00   1.00  45.00     900.00    41.00\n",
       "50%    60000.00   1.00   1.00  50.00    1156.25    45.00\n",
       "75%    85000.00   2.00   1.00  70.00    1428.57    55.00\n",
       "max   290000.00   4.00   3.00 130.00    2454.55   111.00"
      ]
     },
     "execution_count": 52,
     "metadata": {},
     "output_type": "execute_result"
    }
   ],
   "source": [
    "df.describe()"
   ]
  },
  {
   "cell_type": "code",
   "execution_count": 53,
   "id": "fc089524",
   "metadata": {
    "scrolled": true
   },
   "outputs": [
    {
     "data": {
      "text/html": [
       "<div>\n",
       "<style scoped>\n",
       "    .dataframe tbody tr th:only-of-type {\n",
       "        vertical-align: middle;\n",
       "    }\n",
       "\n",
       "    .dataframe tbody tr th {\n",
       "        vertical-align: top;\n",
       "    }\n",
       "\n",
       "    .dataframe thead th {\n",
       "        text-align: right;\n",
       "    }\n",
       "</style>\n",
       "<table border=\"1\" class=\"dataframe\">\n",
       "  <thead>\n",
       "    <tr style=\"text-align: right;\">\n",
       "      <th></th>\n",
       "      <th>precio</th>\n",
       "      <th>ubicacion</th>\n",
       "      <th>dorm</th>\n",
       "      <th>ban</th>\n",
       "      <th>sup</th>\n",
       "      <th>precio/m2</th>\n",
       "      <th>sup/ban</th>\n",
       "    </tr>\n",
       "  </thead>\n",
       "  <tbody>\n",
       "    <tr>\n",
       "      <th>160</th>\n",
       "      <td>188000</td>\n",
       "      <td>Quebrada de las Rosas</td>\n",
       "      <td>2</td>\n",
       "      <td>1</td>\n",
       "      <td>111</td>\n",
       "      <td>1693.69</td>\n",
       "      <td>111.00</td>\n",
       "    </tr>\n",
       "    <tr>\n",
       "      <th>480</th>\n",
       "      <td>188000</td>\n",
       "      <td>Quebrada de las Rosas</td>\n",
       "      <td>2</td>\n",
       "      <td>1</td>\n",
       "      <td>111</td>\n",
       "      <td>1693.69</td>\n",
       "      <td>111.00</td>\n",
       "    </tr>\n",
       "    <tr>\n",
       "      <th>1763</th>\n",
       "      <td>235000</td>\n",
       "      <td>other</td>\n",
       "      <td>2</td>\n",
       "      <td>1</td>\n",
       "      <td>103</td>\n",
       "      <td>2281.55</td>\n",
       "      <td>103.00</td>\n",
       "    </tr>\n",
       "    <tr>\n",
       "      <th>3669</th>\n",
       "      <td>155000</td>\n",
       "      <td>Nueva Córdoba</td>\n",
       "      <td>2</td>\n",
       "      <td>1</td>\n",
       "      <td>110</td>\n",
       "      <td>1409.09</td>\n",
       "      <td>110.00</td>\n",
       "    </tr>\n",
       "  </tbody>\n",
       "</table>\n",
       "</div>"
      ],
      "text/plain": [
       "      precio              ubicacion  dorm  ban  sup  precio/m2  sup/ban\n",
       "160   188000  Quebrada de las Rosas     2    1  111    1693.69   111.00\n",
       "480   188000  Quebrada de las Rosas     2    1  111    1693.69   111.00\n",
       "1763  235000                  other     2    1  103    2281.55   103.00\n",
       "3669  155000          Nueva Córdoba     2    1  110    1409.09   110.00"
      ]
     },
     "execution_count": 53,
     "metadata": {},
     "output_type": "execute_result"
    }
   ],
   "source": [
    "df[df['sup/ban']>100]"
   ]
  },
  {
   "cell_type": "code",
   "execution_count": 54,
   "id": "e318f8f1",
   "metadata": {
    "scrolled": true
   },
   "outputs": [],
   "source": [
    "df.drop(df[df['ban']>df['dorm']+1].index, inplace = True)"
   ]
  },
  {
   "cell_type": "code",
   "execution_count": 55,
   "id": "ffed82db",
   "metadata": {},
   "outputs": [
    {
     "data": {
      "text/html": [
       "<div>\n",
       "<style scoped>\n",
       "    .dataframe tbody tr th:only-of-type {\n",
       "        vertical-align: middle;\n",
       "    }\n",
       "\n",
       "    .dataframe tbody tr th {\n",
       "        vertical-align: top;\n",
       "    }\n",
       "\n",
       "    .dataframe thead th {\n",
       "        text-align: right;\n",
       "    }\n",
       "</style>\n",
       "<table border=\"1\" class=\"dataframe\">\n",
       "  <thead>\n",
       "    <tr style=\"text-align: right;\">\n",
       "      <th></th>\n",
       "      <th>Alberdi</th>\n",
       "      <th>Alta Córdoba</th>\n",
       "      <th>Alto Alberdi</th>\n",
       "      <th>Altos de Villa Sol</th>\n",
       "      <th>Centro</th>\n",
       "      <th>Cerro de las Rosas</th>\n",
       "      <th>Chateau Carreras</th>\n",
       "      <th>Cofico</th>\n",
       "      <th>Docta Urbanización Inteligente</th>\n",
       "      <th>General Paz</th>\n",
       "      <th>...</th>\n",
       "      <th>Providencia</th>\n",
       "      <th>Pueyrredon</th>\n",
       "      <th>Quebrada de las Rosas</th>\n",
       "      <th>San Martin</th>\n",
       "      <th>San Vicente</th>\n",
       "      <th>Tejas 1</th>\n",
       "      <th>Urca</th>\n",
       "      <th>Valle Escondido</th>\n",
       "      <th>Villa Belgrano</th>\n",
       "      <th>other</th>\n",
       "    </tr>\n",
       "  </thead>\n",
       "  <tbody>\n",
       "    <tr>\n",
       "      <th>0</th>\n",
       "      <td>0</td>\n",
       "      <td>0</td>\n",
       "      <td>0</td>\n",
       "      <td>0</td>\n",
       "      <td>0</td>\n",
       "      <td>0</td>\n",
       "      <td>0</td>\n",
       "      <td>0</td>\n",
       "      <td>0</td>\n",
       "      <td>0</td>\n",
       "      <td>...</td>\n",
       "      <td>0</td>\n",
       "      <td>0</td>\n",
       "      <td>0</td>\n",
       "      <td>0</td>\n",
       "      <td>1</td>\n",
       "      <td>0</td>\n",
       "      <td>0</td>\n",
       "      <td>0</td>\n",
       "      <td>0</td>\n",
       "      <td>0</td>\n",
       "    </tr>\n",
       "    <tr>\n",
       "      <th>3</th>\n",
       "      <td>0</td>\n",
       "      <td>0</td>\n",
       "      <td>0</td>\n",
       "      <td>0</td>\n",
       "      <td>0</td>\n",
       "      <td>0</td>\n",
       "      <td>0</td>\n",
       "      <td>0</td>\n",
       "      <td>0</td>\n",
       "      <td>0</td>\n",
       "      <td>...</td>\n",
       "      <td>0</td>\n",
       "      <td>0</td>\n",
       "      <td>0</td>\n",
       "      <td>0</td>\n",
       "      <td>0</td>\n",
       "      <td>0</td>\n",
       "      <td>0</td>\n",
       "      <td>0</td>\n",
       "      <td>0</td>\n",
       "      <td>0</td>\n",
       "    </tr>\n",
       "    <tr>\n",
       "      <th>9</th>\n",
       "      <td>0</td>\n",
       "      <td>0</td>\n",
       "      <td>0</td>\n",
       "      <td>0</td>\n",
       "      <td>0</td>\n",
       "      <td>0</td>\n",
       "      <td>1</td>\n",
       "      <td>0</td>\n",
       "      <td>0</td>\n",
       "      <td>0</td>\n",
       "      <td>...</td>\n",
       "      <td>0</td>\n",
       "      <td>0</td>\n",
       "      <td>0</td>\n",
       "      <td>0</td>\n",
       "      <td>0</td>\n",
       "      <td>0</td>\n",
       "      <td>0</td>\n",
       "      <td>0</td>\n",
       "      <td>0</td>\n",
       "      <td>0</td>\n",
       "    </tr>\n",
       "  </tbody>\n",
       "</table>\n",
       "<p>3 rows × 32 columns</p>\n",
       "</div>"
      ],
      "text/plain": [
       "   Alberdi  Alta Córdoba  Alto Alberdi  Altos de Villa Sol  Centro  \\\n",
       "0        0             0             0                   0       0   \n",
       "3        0             0             0                   0       0   \n",
       "9        0             0             0                   0       0   \n",
       "\n",
       "   Cerro de las Rosas  Chateau Carreras  Cofico  \\\n",
       "0                   0                 0       0   \n",
       "3                   0                 0       0   \n",
       "9                   0                 1       0   \n",
       "\n",
       "   Docta Urbanización Inteligente  General Paz  ...  Providencia  Pueyrredon  \\\n",
       "0                               0            0  ...            0           0   \n",
       "3                               0            0  ...            0           0   \n",
       "9                               0            0  ...            0           0   \n",
       "\n",
       "   Quebrada de las Rosas  San Martin  San Vicente  Tejas 1  Urca  \\\n",
       "0                      0           0            1        0     0   \n",
       "3                      0           0            0        0     0   \n",
       "9                      0           0            0        0     0   \n",
       "\n",
       "   Valle Escondido  Villa Belgrano  other  \n",
       "0                0               0      0  \n",
       "3                0               0      0  \n",
       "9                0               0      0  \n",
       "\n",
       "[3 rows x 32 columns]"
      ]
     },
     "execution_count": 55,
     "metadata": {},
     "output_type": "execute_result"
    }
   ],
   "source": [
    "dummies = pd.get_dummies(df.ubicacion)\n",
    "dummies.head(3)"
   ]
  },
  {
   "cell_type": "code",
   "execution_count": null,
   "id": "687b36ea",
   "metadata": {},
   "outputs": [],
   "source": []
  }
 ],
 "metadata": {
  "kernelspec": {
   "display_name": "Python 3 (ipykernel)",
   "language": "python",
   "name": "python3"
  },
  "language_info": {
   "codemirror_mode": {
    "name": "ipython",
    "version": 3
   },
   "file_extension": ".py",
   "mimetype": "text/x-python",
   "name": "python",
   "nbconvert_exporter": "python",
   "pygments_lexer": "ipython3",
   "version": "3.9.13"
  }
 },
 "nbformat": 4,
 "nbformat_minor": 5
}
