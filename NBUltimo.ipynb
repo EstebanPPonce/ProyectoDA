{
 "cells": [
  {
   "cell_type": "code",
   "execution_count": 1,
   "id": "fe06e8f6",
   "metadata": {
    "scrolled": false
   },
   "outputs": [
    {
     "data": {
      "text/html": [
       "<div>\n",
       "<style scoped>\n",
       "    .dataframe tbody tr th:only-of-type {\n",
       "        vertical-align: middle;\n",
       "    }\n",
       "\n",
       "    .dataframe tbody tr th {\n",
       "        vertical-align: top;\n",
       "    }\n",
       "\n",
       "    .dataframe thead th {\n",
       "        text-align: right;\n",
       "    }\n",
       "</style>\n",
       "<table border=\"1\" class=\"dataframe\">\n",
       "  <thead>\n",
       "    <tr style=\"text-align: right;\">\n",
       "      <th></th>\n",
       "      <th>titulo</th>\n",
       "      <th>precio</th>\n",
       "      <th>ubicacion</th>\n",
       "      <th>dorm</th>\n",
       "      <th>ban</th>\n",
       "      <th>sup</th>\n",
       "    </tr>\n",
       "  </thead>\n",
       "  <tbody>\n",
       "    <tr>\n",
       "      <th>0</th>\n",
       "      <td>b'VENDO DEPARTAME'</td>\n",
       "      <td>U$S 40.000</td>\n",
       "      <td>San Vicente</td>\n",
       "      <td>1</td>\n",
       "      <td>1</td>\n",
       "      <td>45</td>\n",
       "    </tr>\n",
       "    <tr>\n",
       "      <th>1</th>\n",
       "      <td>b'GRAL PAZ-2 BALC'</td>\n",
       "      <td>U$S 55.000</td>\n",
       "      <td>General Paz</td>\n",
       "      <td>1</td>\n",
       "      <td>1</td>\n",
       "      <td>sin datos</td>\n",
       "    </tr>\n",
       "    <tr>\n",
       "      <th>2</th>\n",
       "      <td>b'GENERAL PAZ-CAT'</td>\n",
       "      <td>U$S 60.000</td>\n",
       "      <td>General Paz</td>\n",
       "      <td>1</td>\n",
       "      <td>1</td>\n",
       "      <td>sin datos</td>\n",
       "    </tr>\n",
       "    <tr>\n",
       "      <th>3</th>\n",
       "      <td>b'Tr\\xc3\\xa1nsito C\\xc3\\xa1ce'</td>\n",
       "      <td>U$S 67.000</td>\n",
       "      <td>Nueva Córdoba</td>\n",
       "      <td>1</td>\n",
       "      <td>1</td>\n",
       "      <td>45</td>\n",
       "    </tr>\n",
       "    <tr>\n",
       "      <th>4</th>\n",
       "      <td>b'B\\xc2\\xba LOMAS DE MA'</td>\n",
       "      <td>U$S 130.000</td>\n",
       "      <td>sin ubicacion</td>\n",
       "      <td>3</td>\n",
       "      <td>3</td>\n",
       "      <td>130</td>\n",
       "    </tr>\n",
       "    <tr>\n",
       "      <th>5</th>\n",
       "      <td>b'\\xe2\\x80\\xa2Gral PAZ\\xe2\\x80\\xa2 '</td>\n",
       "      <td>U$S 63.000</td>\n",
       "      <td>General Paz</td>\n",
       "      <td>1</td>\n",
       "      <td>sin datos</td>\n",
       "      <td>47</td>\n",
       "    </tr>\n",
       "    <tr>\n",
       "      <th>6</th>\n",
       "      <td>b'CASA MIRADORES '</td>\n",
       "      <td>U$S 211.000</td>\n",
       "      <td>Manantiales</td>\n",
       "      <td>3</td>\n",
       "      <td>3</td>\n",
       "      <td>sin datos</td>\n",
       "    </tr>\n",
       "    <tr>\n",
       "      <th>7</th>\n",
       "      <td>b'VENDO DUPLEX EN'</td>\n",
       "      <td>U$S 114.000</td>\n",
       "      <td>sin ubicacion</td>\n",
       "      <td>3</td>\n",
       "      <td>3</td>\n",
       "      <td>sin datos</td>\n",
       "    </tr>\n",
       "    <tr>\n",
       "      <th>8</th>\n",
       "      <td>b'VENTA- DUPLEX E'</td>\n",
       "      <td>U$S 86.000</td>\n",
       "      <td>Docta Urbanización Inteligente</td>\n",
       "      <td>2</td>\n",
       "      <td>2</td>\n",
       "      <td>sin datos</td>\n",
       "    </tr>\n",
       "    <tr>\n",
       "      <th>9</th>\n",
       "      <td>b'Condominio Prem'</td>\n",
       "      <td>U$S 78.800</td>\n",
       "      <td>Chateau Carreras</td>\n",
       "      <td>1</td>\n",
       "      <td>1</td>\n",
       "      <td>47</td>\n",
       "    </tr>\n",
       "  </tbody>\n",
       "</table>\n",
       "</div>"
      ],
      "text/plain": [
       "                                 titulo       precio  \\\n",
       "0                    b'VENDO DEPARTAME'   U$S 40.000   \n",
       "1                    b'GRAL PAZ-2 BALC'   U$S 55.000   \n",
       "2                    b'GENERAL PAZ-CAT'   U$S 60.000   \n",
       "3        b'Tr\\xc3\\xa1nsito C\\xc3\\xa1ce'   U$S 67.000   \n",
       "4              b'B\\xc2\\xba LOMAS DE MA'  U$S 130.000   \n",
       "5  b'\\xe2\\x80\\xa2Gral PAZ\\xe2\\x80\\xa2 '   U$S 63.000   \n",
       "6                    b'CASA MIRADORES '  U$S 211.000   \n",
       "7                    b'VENDO DUPLEX EN'  U$S 114.000   \n",
       "8                    b'VENTA- DUPLEX E'   U$S 86.000   \n",
       "9                    b'Condominio Prem'   U$S 78.800   \n",
       "\n",
       "                          ubicacion dorm        ban        sup  \n",
       "0                      San Vicente     1          1         45  \n",
       "1                      General Paz     1          1  sin datos  \n",
       "2                      General Paz     1          1  sin datos  \n",
       "3                    Nueva Córdoba     1          1         45  \n",
       "4                     sin ubicacion    3          3        130  \n",
       "5                      General Paz     1  sin datos         47  \n",
       "6                      Manantiales     3          3  sin datos  \n",
       "7                     sin ubicacion    3          3  sin datos  \n",
       "8   Docta Urbanización Inteligente     2          2  sin datos  \n",
       "9                 Chateau Carreras     1          1         47  "
      ]
     },
     "execution_count": 1,
     "metadata": {},
     "output_type": "execute_result"
    }
   ],
   "source": [
    "import pandas as pd\n",
    "import numpy as np\n",
    "import matplotlib.pyplot as plt\n",
    "import seaborn as sns\n",
    "\n",
    "#%matplotlib inline\n",
    "sns.set_theme()\n",
    "pd.options.display.float_format = '{:.2f}'.format\n",
    "\n",
    "\n",
    "df = pd.read_csv('deptosDataset.csv')\n",
    "df.head(10)"
   ]
  },
  {
   "cell_type": "code",
   "execution_count": 2,
   "id": "86ca2be1",
   "metadata": {},
   "outputs": [],
   "source": [
    "df.drop(df[df['precio']=='consultar'].index, inplace=True)"
   ]
  },
  {
   "cell_type": "code",
   "execution_count": 3,
   "id": "08071a20",
   "metadata": {},
   "outputs": [],
   "source": [
    "def convertirPrecio(value):\n",
    "    newValue = value.replace('.','').replace('U$S ','')\n",
    "    \n",
    "    return int(newValue)"
   ]
  },
  {
   "cell_type": "code",
   "execution_count": 4,
   "id": "948e3091",
   "metadata": {},
   "outputs": [],
   "source": [
    "df['precio'] = df['precio'].apply(convertirPrecio)"
   ]
  },
  {
   "cell_type": "code",
   "execution_count": 5,
   "id": "75e17c47",
   "metadata": {},
   "outputs": [
    {
     "data": {
      "text/plain": [
       "<bound method NDFrame.head of ubicacion\n",
       " 10 de Agosto            4\n",
       " A.T.E.                  2\n",
       " Alberdi               218\n",
       " Alejandro Centeno       2\n",
       " Alta Córdoba          111\n",
       "                      ... \n",
       " Villa Urquiza           1\n",
       " Villa Warcalde          4\n",
       " Yofre Sud               1\n",
       " Zumaran                 1\n",
       "sin ubicacion          102\n",
       "Name: ubicacion, Length: 169, dtype: int64>"
      ]
     },
     "execution_count": 5,
     "metadata": {},
     "output_type": "execute_result"
    }
   ],
   "source": [
    "dfBarrios = df.groupby('ubicacion')['ubicacion'].agg('count')\n",
    "dfBarrios.head"
   ]
  },
  {
   "cell_type": "code",
   "execution_count": 6,
   "id": "ef83065d",
   "metadata": {},
   "outputs": [
    {
     "data": {
      "text/plain": [
       "ubicacion\n",
       "Nueva Córdoba          903\n",
       "Centro                 426\n",
       "General Paz            395\n",
       "Alberdi                218\n",
       "Alto Alberdi           119\n",
       "                      ... \n",
       "Cañitas                  1\n",
       "San Ignacio Village      1\n",
       "Bella Vista Oeste        1\n",
       "San José                 1\n",
       "Los Platanos             1\n",
       "Name: ubicacion, Length: 169, dtype: int64"
      ]
     },
     "execution_count": 6,
     "metadata": {},
     "output_type": "execute_result"
    }
   ],
   "source": [
    "df.ubicacion = df.ubicacion.apply(lambda x: x.strip())\n",
    "estadisticasUbicacion = df.groupby('ubicacion')['ubicacion'].agg('count').sort_values(ascending=False)\n",
    "estadisticasUbicacion"
   ]
  },
  {
   "cell_type": "code",
   "execution_count": 7,
   "id": "16a32986",
   "metadata": {},
   "outputs": [
    {
     "data": {
      "text/plain": [
       "ubicacion\n",
       "San Ignacio            9\n",
       "Jardín Hipodromo       9\n",
       "Paso de los Andes      9\n",
       "Villa Revol            9\n",
       "Alto Verde             8\n",
       "                      ..\n",
       "Cañitas                1\n",
       "San Ignacio Village    1\n",
       "Bella Vista Oeste      1\n",
       "San José               1\n",
       "Los Platanos           1\n",
       "Name: ubicacion, Length: 133, dtype: int64"
      ]
     },
     "execution_count": 7,
     "metadata": {},
     "output_type": "execute_result"
    }
   ],
   "source": [
    "otras_ubicaciones = estadisticasUbicacion[estadisticasUbicacion<10]\n",
    "otras_ubicaciones"
   ]
  },
  {
   "cell_type": "code",
   "execution_count": 8,
   "id": "b1d7b6a9",
   "metadata": {},
   "outputs": [],
   "source": [
    "df.ubicacion = df.ubicacion.apply(lambda x: 'other' if x in otras_ubicaciones else x)"
   ]
  },
  {
   "cell_type": "code",
   "execution_count": 9,
   "id": "6ce0945f",
   "metadata": {
    "scrolled": true
   },
   "outputs": [
    {
     "data": {
      "text/plain": [
       "ubicacion\n",
       "Nueva Córdoba                     903\n",
       "Centro                            426\n",
       "General Paz                       395\n",
       "other                             351\n",
       "Alberdi                           218\n",
       "Alto Alberdi                      119\n",
       "Cofico                            118\n",
       "Alta Córdoba                      111\n",
       "sin ubicacion                     102\n",
       "Manantiales                        95\n",
       "Guemes                             55\n",
       "Villa Belgrano                     52\n",
       "Chateau Carreras                   44\n",
       "Otro                               41\n",
       "Pueyrredon                         39\n",
       "San Martin                         37\n",
       "Greenville 2                       37\n",
       "Valle Escondido                    33\n",
       "Providencia                        33\n",
       "Quebrada de las Rosas              31\n",
       "Observatorio                       30\n",
       "Docta Urbanización Inteligente     28\n",
       "San Vicente                        27\n",
       "Jardín                             22\n",
       "Jardín Claret                      20\n",
       "Urca                               19\n",
       "Las Palmas                         18\n",
       "Jardín Espinosa                    18\n",
       "Las Rosas                          14\n",
       "Cerro de las Rosas                 13\n",
       "Altos de Villa Sol                 12\n",
       "Claros del Bosque                  12\n",
       "Tejas 1                            12\n",
       "Juniors                            12\n",
       "Residencial Santa Ana              11\n",
       "Arguello                           10\n",
       "Cañuelas                           10\n",
       "Name: ubicacion, dtype: int64"
      ]
     },
     "execution_count": 9,
     "metadata": {},
     "output_type": "execute_result"
    }
   ],
   "source": [
    "estadisticasUbicacionFinal = df.groupby('ubicacion')['ubicacion'].agg('count').sort_values(ascending=False)\n",
    "estadisticasUbicacionFinal"
   ]
  },
  {
   "cell_type": "code",
   "execution_count": 10,
   "id": "47fe73ff",
   "metadata": {},
   "outputs": [],
   "source": [
    "dorm_sindatos_indexes = df[df['dorm'] == 'sin datos'].index\n",
    "df.drop(dorm_sindatos_indexes, inplace= True)"
   ]
  },
  {
   "cell_type": "code",
   "execution_count": 11,
   "id": "bccc7ad0",
   "metadata": {},
   "outputs": [
    {
     "data": {
      "text/plain": [
       "dorm\n",
       "1               1726\n",
       "2               1017\n",
       "3                668\n",
       "4                 46\n",
       "Monoambiente      42\n",
       "Name: dorm, dtype: int64"
      ]
     },
     "execution_count": 11,
     "metadata": {},
     "output_type": "execute_result"
    }
   ],
   "source": [
    "conteo_dormitorios = df.groupby('dorm')['dorm'].agg('count')\n",
    "conteo_dormitorios"
   ]
  },
  {
   "cell_type": "code",
   "execution_count": 12,
   "id": "ff9b04e7",
   "metadata": {},
   "outputs": [],
   "source": [
    "df.dorm = df.dorm.apply(lambda x: '0' if x =='Monoambiente' else x)"
   ]
  },
  {
   "cell_type": "code",
   "execution_count": 13,
   "id": "f8e23887",
   "metadata": {},
   "outputs": [
    {
     "data": {
      "text/plain": [
       "dorm\n",
       "0      42\n",
       "1    1726\n",
       "2    1017\n",
       "3     668\n",
       "4      46\n",
       "Name: dorm, dtype: int64"
      ]
     },
     "execution_count": 13,
     "metadata": {},
     "output_type": "execute_result"
    }
   ],
   "source": [
    "conteo_dormitorios = df.groupby('dorm')['dorm'].agg('count')\n",
    "conteo_dormitorios"
   ]
  },
  {
   "cell_type": "code",
   "execution_count": 14,
   "id": "91654cb6",
   "metadata": {},
   "outputs": [],
   "source": [
    "df[\"dorm\"] = df[\"dorm\"].astype(\"int64\")"
   ]
  },
  {
   "cell_type": "code",
   "execution_count": 15,
   "id": "c579ef62",
   "metadata": {},
   "outputs": [],
   "source": [
    "df.drop(df[df['ban']=='+'].index, inplace = True)"
   ]
  },
  {
   "cell_type": "code",
   "execution_count": 16,
   "id": "c42d9752",
   "metadata": {},
   "outputs": [],
   "source": [
    "df.drop(df[df['ban']=='sin datos'].index, inplace = True)"
   ]
  },
  {
   "cell_type": "code",
   "execution_count": 17,
   "id": "5f13cb22",
   "metadata": {},
   "outputs": [],
   "source": [
    "df[\"ban\"] = df[\"ban\"].astype(\"int64\")"
   ]
  },
  {
   "cell_type": "code",
   "execution_count": 18,
   "id": "2589ce8b",
   "metadata": {},
   "outputs": [
    {
     "data": {
      "text/plain": [
       "(3257, 6)"
      ]
     },
     "execution_count": 18,
     "metadata": {},
     "output_type": "execute_result"
    }
   ],
   "source": [
    "df.drop(df[df['ubicacion'] == 'sin ubicacion'].index, inplace = True)\n",
    "df.shape"
   ]
  },
  {
   "cell_type": "code",
   "execution_count": 19,
   "id": "912f5327",
   "metadata": {
    "scrolled": true
   },
   "outputs": [
    {
     "data": {
      "text/html": [
       "<div>\n",
       "<style scoped>\n",
       "    .dataframe tbody tr th:only-of-type {\n",
       "        vertical-align: middle;\n",
       "    }\n",
       "\n",
       "    .dataframe tbody tr th {\n",
       "        vertical-align: top;\n",
       "    }\n",
       "\n",
       "    .dataframe thead th {\n",
       "        text-align: right;\n",
       "    }\n",
       "</style>\n",
       "<table border=\"1\" class=\"dataframe\">\n",
       "  <thead>\n",
       "    <tr style=\"text-align: right;\">\n",
       "      <th></th>\n",
       "      <th>precio</th>\n",
       "      <th>ubicacion</th>\n",
       "      <th>dorm</th>\n",
       "      <th>ban</th>\n",
       "      <th>sup</th>\n",
       "    </tr>\n",
       "  </thead>\n",
       "  <tbody>\n",
       "    <tr>\n",
       "      <th>0</th>\n",
       "      <td>40000</td>\n",
       "      <td>San Vicente</td>\n",
       "      <td>1</td>\n",
       "      <td>1</td>\n",
       "      <td>45</td>\n",
       "    </tr>\n",
       "    <tr>\n",
       "      <th>1</th>\n",
       "      <td>55000</td>\n",
       "      <td>General Paz</td>\n",
       "      <td>1</td>\n",
       "      <td>1</td>\n",
       "      <td>sin datos</td>\n",
       "    </tr>\n",
       "    <tr>\n",
       "      <th>2</th>\n",
       "      <td>60000</td>\n",
       "      <td>General Paz</td>\n",
       "      <td>1</td>\n",
       "      <td>1</td>\n",
       "      <td>sin datos</td>\n",
       "    </tr>\n",
       "    <tr>\n",
       "      <th>3</th>\n",
       "      <td>67000</td>\n",
       "      <td>Nueva Córdoba</td>\n",
       "      <td>1</td>\n",
       "      <td>1</td>\n",
       "      <td>45</td>\n",
       "    </tr>\n",
       "    <tr>\n",
       "      <th>6</th>\n",
       "      <td>211000</td>\n",
       "      <td>Manantiales</td>\n",
       "      <td>3</td>\n",
       "      <td>3</td>\n",
       "      <td>sin datos</td>\n",
       "    </tr>\n",
       "  </tbody>\n",
       "</table>\n",
       "</div>"
      ],
      "text/plain": [
       "   precio      ubicacion  dorm  ban        sup\n",
       "0   40000    San Vicente     1    1         45\n",
       "1   55000    General Paz     1    1  sin datos\n",
       "2   60000    General Paz     1    1  sin datos\n",
       "3   67000  Nueva Córdoba     1    1         45\n",
       "6  211000    Manantiales     3    3  sin datos"
      ]
     },
     "execution_count": 19,
     "metadata": {},
     "output_type": "execute_result"
    }
   ],
   "source": [
    "df.drop(['titulo'], axis=1, inplace=True)\n",
    "df.head()"
   ]
  },
  {
   "cell_type": "code",
   "execution_count": 20,
   "id": "25afb0d1",
   "metadata": {},
   "outputs": [],
   "source": [
    "df = df.drop(df[df['sup']=='sin datos'].index)"
   ]
  },
  {
   "cell_type": "code",
   "execution_count": 21,
   "id": "dc3d35aa",
   "metadata": {},
   "outputs": [],
   "source": [
    "df['sup'] = df['sup'].astype('int64')"
   ]
  },
  {
   "cell_type": "code",
   "execution_count": 22,
   "id": "2bac2751",
   "metadata": {},
   "outputs": [],
   "source": [
    "df['precio/m2'] = df['precio']/df['sup']"
   ]
  },
  {
   "cell_type": "code",
   "execution_count": 23,
   "id": "91a2e440",
   "metadata": {},
   "outputs": [],
   "source": [
    "df['sup/ban'] = df['sup']/df['ban']"
   ]
  },
  {
   "cell_type": "code",
   "execution_count": 24,
   "id": "775253e0",
   "metadata": {
    "scrolled": true
   },
   "outputs": [
    {
     "data": {
      "text/html": [
       "<div>\n",
       "<style scoped>\n",
       "    .dataframe tbody tr th:only-of-type {\n",
       "        vertical-align: middle;\n",
       "    }\n",
       "\n",
       "    .dataframe tbody tr th {\n",
       "        vertical-align: top;\n",
       "    }\n",
       "\n",
       "    .dataframe thead th {\n",
       "        text-align: right;\n",
       "    }\n",
       "</style>\n",
       "<table border=\"1\" class=\"dataframe\">\n",
       "  <thead>\n",
       "    <tr style=\"text-align: right;\">\n",
       "      <th></th>\n",
       "      <th>precio</th>\n",
       "      <th>dorm</th>\n",
       "      <th>ban</th>\n",
       "      <th>sup</th>\n",
       "      <th>precio/m2</th>\n",
       "      <th>sup/ban</th>\n",
       "    </tr>\n",
       "  </thead>\n",
       "  <tbody>\n",
       "    <tr>\n",
       "      <th>count</th>\n",
       "      <td>988.00</td>\n",
       "      <td>988.00</td>\n",
       "      <td>988.00</td>\n",
       "      <td>988.00</td>\n",
       "      <td>988.00</td>\n",
       "      <td>988.00</td>\n",
       "    </tr>\n",
       "    <tr>\n",
       "      <th>mean</th>\n",
       "      <td>84944.50</td>\n",
       "      <td>1.55</td>\n",
       "      <td>1.38</td>\n",
       "      <td>76.88</td>\n",
       "      <td>2691.96</td>\n",
       "      <td>57.45</td>\n",
       "    </tr>\n",
       "    <tr>\n",
       "      <th>std</th>\n",
       "      <td>66712.79</td>\n",
       "      <td>0.77</td>\n",
       "      <td>0.63</td>\n",
       "      <td>192.89</td>\n",
       "      <td>21022.88</td>\n",
       "      <td>188.20</td>\n",
       "    </tr>\n",
       "    <tr>\n",
       "      <th>min</th>\n",
       "      <td>10000.00</td>\n",
       "      <td>0.00</td>\n",
       "      <td>1.00</td>\n",
       "      <td>1.00</td>\n",
       "      <td>3.37</td>\n",
       "      <td>0.25</td>\n",
       "    </tr>\n",
       "    <tr>\n",
       "      <th>25%</th>\n",
       "      <td>47000.00</td>\n",
       "      <td>1.00</td>\n",
       "      <td>1.00</td>\n",
       "      <td>45.00</td>\n",
       "      <td>888.89</td>\n",
       "      <td>41.50</td>\n",
       "    </tr>\n",
       "    <tr>\n",
       "      <th>50%</th>\n",
       "      <td>65000.00</td>\n",
       "      <td>1.00</td>\n",
       "      <td>1.00</td>\n",
       "      <td>54.00</td>\n",
       "      <td>1154.93</td>\n",
       "      <td>45.00</td>\n",
       "    </tr>\n",
       "    <tr>\n",
       "      <th>75%</th>\n",
       "      <td>95000.00</td>\n",
       "      <td>2.00</td>\n",
       "      <td>2.00</td>\n",
       "      <td>80.00</td>\n",
       "      <td>1445.63</td>\n",
       "      <td>60.00</td>\n",
       "    </tr>\n",
       "    <tr>\n",
       "      <th>max</th>\n",
       "      <td>598000.00</td>\n",
       "      <td>4.00</td>\n",
       "      <td>4.00</td>\n",
       "      <td>5926.00</td>\n",
       "      <td>598000.00</td>\n",
       "      <td>5926.00</td>\n",
       "    </tr>\n",
       "  </tbody>\n",
       "</table>\n",
       "</div>"
      ],
      "text/plain": [
       "         precio   dorm    ban     sup  precio/m2  sup/ban\n",
       "count    988.00 988.00 988.00  988.00     988.00   988.00\n",
       "mean   84944.50   1.55   1.38   76.88    2691.96    57.45\n",
       "std    66712.79   0.77   0.63  192.89   21022.88   188.20\n",
       "min    10000.00   0.00   1.00    1.00       3.37     0.25\n",
       "25%    47000.00   1.00   1.00   45.00     888.89    41.50\n",
       "50%    65000.00   1.00   1.00   54.00    1154.93    45.00\n",
       "75%    95000.00   2.00   2.00   80.00    1445.63    60.00\n",
       "max   598000.00   4.00   4.00 5926.00  598000.00  5926.00"
      ]
     },
     "execution_count": 24,
     "metadata": {},
     "output_type": "execute_result"
    }
   ],
   "source": [
    "df.describe()"
   ]
  },
  {
   "cell_type": "markdown",
   "id": "dc9b82be",
   "metadata": {},
   "source": [
    "BANOS:la cantidad de banos no puede ser mayor a la cantidad de dormitorios+1 (ejemplo: un monoambiente tiene 0 dormitorios, y solo puede tener hasta 1 bano)"
   ]
  },
  {
   "cell_type": "code",
   "execution_count": 25,
   "id": "aa79e8ea",
   "metadata": {},
   "outputs": [
    {
     "data": {
      "text/html": [
       "<div>\n",
       "<style scoped>\n",
       "    .dataframe tbody tr th:only-of-type {\n",
       "        vertical-align: middle;\n",
       "    }\n",
       "\n",
       "    .dataframe tbody tr th {\n",
       "        vertical-align: top;\n",
       "    }\n",
       "\n",
       "    .dataframe thead th {\n",
       "        text-align: right;\n",
       "    }\n",
       "</style>\n",
       "<table border=\"1\" class=\"dataframe\">\n",
       "  <thead>\n",
       "    <tr style=\"text-align: right;\">\n",
       "      <th></th>\n",
       "      <th>precio</th>\n",
       "      <th>ubicacion</th>\n",
       "      <th>dorm</th>\n",
       "      <th>ban</th>\n",
       "      <th>sup</th>\n",
       "      <th>precio/m2</th>\n",
       "      <th>sup/ban</th>\n",
       "    </tr>\n",
       "  </thead>\n",
       "  <tbody>\n",
       "    <tr>\n",
       "      <th>877</th>\n",
       "      <td>50000</td>\n",
       "      <td>Centro</td>\n",
       "      <td>0</td>\n",
       "      <td>2</td>\n",
       "      <td>105</td>\n",
       "      <td>476.19</td>\n",
       "      <td>52.50</td>\n",
       "    </tr>\n",
       "    <tr>\n",
       "      <th>1441</th>\n",
       "      <td>424985</td>\n",
       "      <td>Cerro de las Rosas</td>\n",
       "      <td>2</td>\n",
       "      <td>4</td>\n",
       "      <td>200</td>\n",
       "      <td>2124.93</td>\n",
       "      <td>50.00</td>\n",
       "    </tr>\n",
       "    <tr>\n",
       "      <th>1826</th>\n",
       "      <td>195000</td>\n",
       "      <td>Urca</td>\n",
       "      <td>2</td>\n",
       "      <td>4</td>\n",
       "      <td>300</td>\n",
       "      <td>650.00</td>\n",
       "      <td>75.00</td>\n",
       "    </tr>\n",
       "    <tr>\n",
       "      <th>2011</th>\n",
       "      <td>35000</td>\n",
       "      <td>San Vicente</td>\n",
       "      <td>1</td>\n",
       "      <td>3</td>\n",
       "      <td>60</td>\n",
       "      <td>583.33</td>\n",
       "      <td>20.00</td>\n",
       "    </tr>\n",
       "    <tr>\n",
       "      <th>2240</th>\n",
       "      <td>18000</td>\n",
       "      <td>General Paz</td>\n",
       "      <td>0</td>\n",
       "      <td>3</td>\n",
       "      <td>24</td>\n",
       "      <td>750.00</td>\n",
       "      <td>8.00</td>\n",
       "    </tr>\n",
       "  </tbody>\n",
       "</table>\n",
       "</div>"
      ],
      "text/plain": [
       "      precio           ubicacion  dorm  ban  sup  precio/m2  sup/ban\n",
       "877    50000              Centro     0    2  105     476.19    52.50\n",
       "1441  424985  Cerro de las Rosas     2    4  200    2124.93    50.00\n",
       "1826  195000                Urca     2    4  300     650.00    75.00\n",
       "2011   35000         San Vicente     1    3   60     583.33    20.00\n",
       "2240   18000         General Paz     0    3   24     750.00     8.00"
      ]
     },
     "execution_count": 25,
     "metadata": {},
     "output_type": "execute_result"
    }
   ],
   "source": [
    "df[df['ban']>df['dorm']+1]"
   ]
  },
  {
   "cell_type": "code",
   "execution_count": 26,
   "id": "dd79fe1d",
   "metadata": {},
   "outputs": [],
   "source": [
    "df.drop(df[df['ban']>df['dorm']+1].index, inplace = True)"
   ]
  },
  {
   "cell_type": "markdown",
   "id": "caab6bc1",
   "metadata": {},
   "source": [
    "debido a que se encuentran valores máximos muy atípicos (superficie de 5926 m2, se procede a eliminar dichos registros)"
   ]
  },
  {
   "cell_type": "code",
   "execution_count": 27,
   "id": "d38e3bf2",
   "metadata": {},
   "outputs": [],
   "source": [
    "df.drop(df[df['sup'] == 5926].index, inplace = True)"
   ]
  },
  {
   "cell_type": "code",
   "execution_count": 28,
   "id": "150482b3",
   "metadata": {
    "scrolled": true
   },
   "outputs": [
    {
     "data": {
      "text/html": [
       "<div>\n",
       "<style scoped>\n",
       "    .dataframe tbody tr th:only-of-type {\n",
       "        vertical-align: middle;\n",
       "    }\n",
       "\n",
       "    .dataframe tbody tr th {\n",
       "        vertical-align: top;\n",
       "    }\n",
       "\n",
       "    .dataframe thead th {\n",
       "        text-align: right;\n",
       "    }\n",
       "</style>\n",
       "<table border=\"1\" class=\"dataframe\">\n",
       "  <thead>\n",
       "    <tr style=\"text-align: right;\">\n",
       "      <th></th>\n",
       "      <th>precio</th>\n",
       "      <th>dorm</th>\n",
       "      <th>ban</th>\n",
       "      <th>sup</th>\n",
       "      <th>precio/m2</th>\n",
       "      <th>sup/ban</th>\n",
       "    </tr>\n",
       "  </thead>\n",
       "  <tbody>\n",
       "    <tr>\n",
       "      <th>count</th>\n",
       "      <td>982.00</td>\n",
       "      <td>982.00</td>\n",
       "      <td>982.00</td>\n",
       "      <td>982.00</td>\n",
       "      <td>982.00</td>\n",
       "      <td>982.00</td>\n",
       "    </tr>\n",
       "    <tr>\n",
       "      <th>mean</th>\n",
       "      <td>84706.91</td>\n",
       "      <td>1.55</td>\n",
       "      <td>1.37</td>\n",
       "      <td>70.61</td>\n",
       "      <td>2703.73</td>\n",
       "      <td>51.56</td>\n",
       "    </tr>\n",
       "    <tr>\n",
       "      <th>std</th>\n",
       "      <td>65839.89</td>\n",
       "      <td>0.77</td>\n",
       "      <td>0.62</td>\n",
       "      <td>49.48</td>\n",
       "      <td>21086.47</td>\n",
       "      <td>22.17</td>\n",
       "    </tr>\n",
       "    <tr>\n",
       "      <th>min</th>\n",
       "      <td>10000.00</td>\n",
       "      <td>0.00</td>\n",
       "      <td>1.00</td>\n",
       "      <td>1.00</td>\n",
       "      <td>112.00</td>\n",
       "      <td>0.25</td>\n",
       "    </tr>\n",
       "    <tr>\n",
       "      <th>25%</th>\n",
       "      <td>47000.00</td>\n",
       "      <td>1.00</td>\n",
       "      <td>1.00</td>\n",
       "      <td>45.00</td>\n",
       "      <td>890.23</td>\n",
       "      <td>41.50</td>\n",
       "    </tr>\n",
       "    <tr>\n",
       "      <th>50%</th>\n",
       "      <td>65000.00</td>\n",
       "      <td>1.00</td>\n",
       "      <td>1.00</td>\n",
       "      <td>54.00</td>\n",
       "      <td>1155.90</td>\n",
       "      <td>45.00</td>\n",
       "    </tr>\n",
       "    <tr>\n",
       "      <th>75%</th>\n",
       "      <td>95000.00</td>\n",
       "      <td>2.00</td>\n",
       "      <td>2.00</td>\n",
       "      <td>80.00</td>\n",
       "      <td>1445.98</td>\n",
       "      <td>60.00</td>\n",
       "    </tr>\n",
       "    <tr>\n",
       "      <th>max</th>\n",
       "      <td>598000.00</td>\n",
       "      <td>4.00</td>\n",
       "      <td>4.00</td>\n",
       "      <td>518.00</td>\n",
       "      <td>598000.00</td>\n",
       "      <td>259.00</td>\n",
       "    </tr>\n",
       "  </tbody>\n",
       "</table>\n",
       "</div>"
      ],
      "text/plain": [
       "         precio   dorm    ban    sup  precio/m2  sup/ban\n",
       "count    982.00 982.00 982.00 982.00     982.00   982.00\n",
       "mean   84706.91   1.55   1.37  70.61    2703.73    51.56\n",
       "std    65839.89   0.77   0.62  49.48   21086.47    22.17\n",
       "min    10000.00   0.00   1.00   1.00     112.00     0.25\n",
       "25%    47000.00   1.00   1.00  45.00     890.23    41.50\n",
       "50%    65000.00   1.00   1.00  54.00    1155.90    45.00\n",
       "75%    95000.00   2.00   2.00  80.00    1445.98    60.00\n",
       "max   598000.00   4.00   4.00 518.00  598000.00   259.00"
      ]
     },
     "execution_count": 28,
     "metadata": {},
     "output_type": "execute_result"
    }
   ],
   "source": [
    "df.describe()"
   ]
  },
  {
   "cell_type": "markdown",
   "id": "cad02b8c",
   "metadata": {},
   "source": [
    "SUPERFICIE MIN:\n",
    "se toma como referencia departamentos desde 25 m2.\n",
    "SUPERFICIE MAX:\n",
    "se toman como referencia departamentos de hasta 100 m2."
   ]
  },
  {
   "cell_type": "code",
   "execution_count": 29,
   "id": "205d17bd",
   "metadata": {},
   "outputs": [],
   "source": [
    "df.drop(df[df['sup']>100].index, inplace = True)"
   ]
  },
  {
   "cell_type": "code",
   "execution_count": 30,
   "id": "fafe0c1e",
   "metadata": {},
   "outputs": [],
   "source": [
    "df.drop(df[df['sup']<25].index, inplace = True)"
   ]
  },
  {
   "cell_type": "code",
   "execution_count": 31,
   "id": "59ce2fdd",
   "metadata": {
    "scrolled": false
   },
   "outputs": [
    {
     "data": {
      "text/html": [
       "<div>\n",
       "<style scoped>\n",
       "    .dataframe tbody tr th:only-of-type {\n",
       "        vertical-align: middle;\n",
       "    }\n",
       "\n",
       "    .dataframe tbody tr th {\n",
       "        vertical-align: top;\n",
       "    }\n",
       "\n",
       "    .dataframe thead th {\n",
       "        text-align: right;\n",
       "    }\n",
       "</style>\n",
       "<table border=\"1\" class=\"dataframe\">\n",
       "  <thead>\n",
       "    <tr style=\"text-align: right;\">\n",
       "      <th></th>\n",
       "      <th>precio</th>\n",
       "      <th>dorm</th>\n",
       "      <th>ban</th>\n",
       "      <th>sup</th>\n",
       "      <th>precio/m2</th>\n",
       "      <th>sup/ban</th>\n",
       "    </tr>\n",
       "  </thead>\n",
       "  <tbody>\n",
       "    <tr>\n",
       "      <th>count</th>\n",
       "      <td>830.00</td>\n",
       "      <td>830.00</td>\n",
       "      <td>830.00</td>\n",
       "      <td>830.00</td>\n",
       "      <td>830.00</td>\n",
       "      <td>830.00</td>\n",
       "    </tr>\n",
       "    <tr>\n",
       "      <th>mean</th>\n",
       "      <td>68281.42</td>\n",
       "      <td>1.36</td>\n",
       "      <td>1.20</td>\n",
       "      <td>56.27</td>\n",
       "      <td>1205.42</td>\n",
       "      <td>48.77</td>\n",
       "    </tr>\n",
       "    <tr>\n",
       "      <th>std</th>\n",
       "      <td>36272.81</td>\n",
       "      <td>0.61</td>\n",
       "      <td>0.41</td>\n",
       "      <td>17.12</td>\n",
       "      <td>428.46</td>\n",
       "      <td>13.28</td>\n",
       "    </tr>\n",
       "    <tr>\n",
       "      <th>min</th>\n",
       "      <td>10000.00</td>\n",
       "      <td>0.00</td>\n",
       "      <td>1.00</td>\n",
       "      <td>25.00</td>\n",
       "      <td>128.21</td>\n",
       "      <td>20.00</td>\n",
       "    </tr>\n",
       "    <tr>\n",
       "      <th>25%</th>\n",
       "      <td>45000.00</td>\n",
       "      <td>1.00</td>\n",
       "      <td>1.00</td>\n",
       "      <td>44.00</td>\n",
       "      <td>900.00</td>\n",
       "      <td>41.00</td>\n",
       "    </tr>\n",
       "    <tr>\n",
       "      <th>50%</th>\n",
       "      <td>59700.00</td>\n",
       "      <td>1.00</td>\n",
       "      <td>1.00</td>\n",
       "      <td>50.00</td>\n",
       "      <td>1157.89</td>\n",
       "      <td>45.00</td>\n",
       "    </tr>\n",
       "    <tr>\n",
       "      <th>75%</th>\n",
       "      <td>80000.00</td>\n",
       "      <td>2.00</td>\n",
       "      <td>1.00</td>\n",
       "      <td>65.00</td>\n",
       "      <td>1435.27</td>\n",
       "      <td>53.75</td>\n",
       "    </tr>\n",
       "    <tr>\n",
       "      <th>max</th>\n",
       "      <td>320000.00</td>\n",
       "      <td>4.00</td>\n",
       "      <td>3.00</td>\n",
       "      <td>100.00</td>\n",
       "      <td>4000.00</td>\n",
       "      <td>100.00</td>\n",
       "    </tr>\n",
       "  </tbody>\n",
       "</table>\n",
       "</div>"
      ],
      "text/plain": [
       "         precio   dorm    ban    sup  precio/m2  sup/ban\n",
       "count    830.00 830.00 830.00 830.00     830.00   830.00\n",
       "mean   68281.42   1.36   1.20  56.27    1205.42    48.77\n",
       "std    36272.81   0.61   0.41  17.12     428.46    13.28\n",
       "min    10000.00   0.00   1.00  25.00     128.21    20.00\n",
       "25%    45000.00   1.00   1.00  44.00     900.00    41.00\n",
       "50%    59700.00   1.00   1.00  50.00    1157.89    45.00\n",
       "75%    80000.00   2.00   1.00  65.00    1435.27    53.75\n",
       "max   320000.00   4.00   3.00 100.00    4000.00   100.00"
      ]
     },
     "execution_count": 31,
     "metadata": {},
     "output_type": "execute_result"
    }
   ],
   "source": [
    "df.describe()"
   ]
  },
  {
   "cell_type": "markdown",
   "id": "9cbf958d",
   "metadata": {},
   "source": [
    "Eliminación de outliers en 'precio/m2'.\n",
    "Debido a que se siguien encontrando valores atípicos en la variable precio/m2 (ej:habiendo un valor max de 4000 precio/m2 muy alejado del resto de los datos, y valores minimos cercanos a 100 usd/m2) se procede a eliminarlo."
   ]
  },
  {
   "cell_type": "code",
   "execution_count": 32,
   "id": "32c57f9b",
   "metadata": {
    "scrolled": true
   },
   "outputs": [
    {
     "data": {
      "text/plain": [
       "<AxesSubplot:xlabel='precio/m2'>"
      ]
     },
     "execution_count": 32,
     "metadata": {},
     "output_type": "execute_result"
    },
    {
     "data": {
      "image/png": "[encoded data removed]",
      "text/plain": [
       "<Figure size 640x480 with 1 Axes>"
      ]
     },
     "metadata": {},
     "output_type": "display_data"
    }
   ],
   "source": [
    "sns.boxplot(x='precio/m2', data=df)"
   ]
  },
  {
   "cell_type": "code",
   "execution_count": 33,
   "id": "fee3ddd1",
   "metadata": {
    "scrolled": true
   },
   "outputs": [],
   "source": [
    "media = df['precio/m2'].mean()\n",
    "desvEstandar = df['precio/m2'].std()\n",
    "\n",
    "df.drop(df[df['precio/m2'] < media - 1.8*desvEstandar].index, inplace = True)"
   ]
  },
  {
   "cell_type": "code",
   "execution_count": 34,
   "id": "fb9dc92b",
   "metadata": {
    "scrolled": true
   },
   "outputs": [],
   "source": [
    "media2 = df['precio/m2'].mean()\n",
    "desvEstandar2 = df['precio/m2'].std()\n",
    "\n",
    "df.drop(df[df['precio/m2'] > media2 + 3*desvEstandar2].index, inplace = True)"
   ]
  },
  {
   "cell_type": "markdown",
   "id": "b632524f",
   "metadata": {},
   "source": [
    "se puede observar que con la muestra actual, la distribución de la variable precio/m2 sigue una distribución que no llega a ser del todo normal, ya que se encuentra sesgada hacia la derecha. Esto no ocurre porque haya datos incorrectos, sino, porque con mucha menos frecuencia existen unidades de precios mas altos, pudiédose tratar de otro segmento. Además, un departamento parte de un precio/m2 siempre mayor a 0 (en este caso entre los 400 y 500 precio/m2), esto hace que, desde la izquierda, la curva comience en un nivel mas alto que su cola (se concentran con mayor frecuencia que las unidades en su cola)"
   ]
  },
  {
   "cell_type": "code",
   "execution_count": 35,
   "id": "263acbb3",
   "metadata": {
    "scrolled": true
   },
   "outputs": [
    {
     "data": {
      "text/plain": [
       "<seaborn.axisgrid.FacetGrid at 0x1d662642460>"
      ]
     },
     "execution_count": 35,
     "metadata": {},
     "output_type": "execute_result"
    },
    {
     "data": {
      "image/png": "[encoded data removed]",
      "text/plain": [
       "<Figure size 500x500 with 1 Axes>"
      ]
     },
     "metadata": {},
     "output_type": "display_data"
    }
   ],
   "source": [
    "sns.displot(x='precio/m2', data=df, kde=True)"
   ]
  },
  {
   "cell_type": "code",
   "execution_count": 36,
   "id": "7df5cb90",
   "metadata": {},
   "outputs": [],
   "source": [
    "#agregar aca QQPLOT"
   ]
  },
  {
   "cell_type": "markdown",
   "id": "04121509",
   "metadata": {},
   "source": [
    "Debido a que la variable a predecir se trata de una variable continua, se elegirán modelos de regresión."
   ]
  },
  {
   "cell_type": "markdown",
   "id": "bed1d1b9",
   "metadata": {},
   "source": [
    "Ya que los modelos de machine learning no pueden interpretar dato de texto, se procederá a transformar la variable 'ubicación' de texto a número."
   ]
  },
  {
   "cell_type": "code",
   "execution_count": 37,
   "id": "b096315b",
   "metadata": {},
   "outputs": [
    {
     "data": {
      "text/html": [
       "<div>\n",
       "<style scoped>\n",
       "    .dataframe tbody tr th:only-of-type {\n",
       "        vertical-align: middle;\n",
       "    }\n",
       "\n",
       "    .dataframe tbody tr th {\n",
       "        vertical-align: top;\n",
       "    }\n",
       "\n",
       "    .dataframe thead th {\n",
       "        text-align: right;\n",
       "    }\n",
       "</style>\n",
       "<table border=\"1\" class=\"dataframe\">\n",
       "  <thead>\n",
       "    <tr style=\"text-align: right;\">\n",
       "      <th></th>\n",
       "      <th>Alberdi</th>\n",
       "      <th>Alta Córdoba</th>\n",
       "      <th>Alto Alberdi</th>\n",
       "      <th>Altos de Villa Sol</th>\n",
       "      <th>Centro</th>\n",
       "      <th>Cerro de las Rosas</th>\n",
       "      <th>Chateau Carreras</th>\n",
       "      <th>Cofico</th>\n",
       "      <th>Docta Urbanización Inteligente</th>\n",
       "      <th>General Paz</th>\n",
       "      <th>...</th>\n",
       "      <th>Providencia</th>\n",
       "      <th>Pueyrredon</th>\n",
       "      <th>Quebrada de las Rosas</th>\n",
       "      <th>San Martin</th>\n",
       "      <th>San Vicente</th>\n",
       "      <th>Tejas 1</th>\n",
       "      <th>Urca</th>\n",
       "      <th>Valle Escondido</th>\n",
       "      <th>Villa Belgrano</th>\n",
       "      <th>other</th>\n",
       "    </tr>\n",
       "  </thead>\n",
       "  <tbody>\n",
       "    <tr>\n",
       "      <th>0</th>\n",
       "      <td>0</td>\n",
       "      <td>0</td>\n",
       "      <td>0</td>\n",
       "      <td>0</td>\n",
       "      <td>0</td>\n",
       "      <td>0</td>\n",
       "      <td>0</td>\n",
       "      <td>0</td>\n",
       "      <td>0</td>\n",
       "      <td>0</td>\n",
       "      <td>...</td>\n",
       "      <td>0</td>\n",
       "      <td>0</td>\n",
       "      <td>0</td>\n",
       "      <td>0</td>\n",
       "      <td>1</td>\n",
       "      <td>0</td>\n",
       "      <td>0</td>\n",
       "      <td>0</td>\n",
       "      <td>0</td>\n",
       "      <td>0</td>\n",
       "    </tr>\n",
       "    <tr>\n",
       "      <th>3</th>\n",
       "      <td>0</td>\n",
       "      <td>0</td>\n",
       "      <td>0</td>\n",
       "      <td>0</td>\n",
       "      <td>0</td>\n",
       "      <td>0</td>\n",
       "      <td>0</td>\n",
       "      <td>0</td>\n",
       "      <td>0</td>\n",
       "      <td>0</td>\n",
       "      <td>...</td>\n",
       "      <td>0</td>\n",
       "      <td>0</td>\n",
       "      <td>0</td>\n",
       "      <td>0</td>\n",
       "      <td>0</td>\n",
       "      <td>0</td>\n",
       "      <td>0</td>\n",
       "      <td>0</td>\n",
       "      <td>0</td>\n",
       "      <td>0</td>\n",
       "    </tr>\n",
       "    <tr>\n",
       "      <th>9</th>\n",
       "      <td>0</td>\n",
       "      <td>0</td>\n",
       "      <td>0</td>\n",
       "      <td>0</td>\n",
       "      <td>0</td>\n",
       "      <td>0</td>\n",
       "      <td>1</td>\n",
       "      <td>0</td>\n",
       "      <td>0</td>\n",
       "      <td>0</td>\n",
       "      <td>...</td>\n",
       "      <td>0</td>\n",
       "      <td>0</td>\n",
       "      <td>0</td>\n",
       "      <td>0</td>\n",
       "      <td>0</td>\n",
       "      <td>0</td>\n",
       "      <td>0</td>\n",
       "      <td>0</td>\n",
       "      <td>0</td>\n",
       "      <td>0</td>\n",
       "    </tr>\n",
       "  </tbody>\n",
       "</table>\n",
       "<p>3 rows × 31 columns</p>\n",
       "</div>"
      ],
      "text/plain": [
       "   Alberdi  Alta Córdoba  Alto Alberdi  Altos de Villa Sol  Centro  \\\n",
       "0        0             0             0                   0       0   \n",
       "3        0             0             0                   0       0   \n",
       "9        0             0             0                   0       0   \n",
       "\n",
       "   Cerro de las Rosas  Chateau Carreras  Cofico  \\\n",
       "0                   0                 0       0   \n",
       "3                   0                 0       0   \n",
       "9                   0                 1       0   \n",
       "\n",
       "   Docta Urbanización Inteligente  General Paz  ...  Providencia  Pueyrredon  \\\n",
       "0                               0            0  ...            0           0   \n",
       "3                               0            0  ...            0           0   \n",
       "9                               0            0  ...            0           0   \n",
       "\n",
       "   Quebrada de las Rosas  San Martin  San Vicente  Tejas 1  Urca  \\\n",
       "0                      0           0            1        0     0   \n",
       "3                      0           0            0        0     0   \n",
       "9                      0           0            0        0     0   \n",
       "\n",
       "   Valle Escondido  Villa Belgrano  other  \n",
       "0                0               0      0  \n",
       "3                0               0      0  \n",
       "9                0               0      0  \n",
       "\n",
       "[3 rows x 31 columns]"
      ]
     },
     "execution_count": 37,
     "metadata": {},
     "output_type": "execute_result"
    }
   ],
   "source": [
    "dummies = pd.get_dummies(df.ubicacion)\n",
    "dummies.head(3)"
   ]
  },
  {
   "cell_type": "code",
   "execution_count": 38,
   "id": "e269edf6",
   "metadata": {
    "scrolled": false
   },
   "outputs": [
    {
     "data": {
      "text/html": [
       "<div>\n",
       "<style scoped>\n",
       "    .dataframe tbody tr th:only-of-type {\n",
       "        vertical-align: middle;\n",
       "    }\n",
       "\n",
       "    .dataframe tbody tr th {\n",
       "        vertical-align: top;\n",
       "    }\n",
       "\n",
       "    .dataframe thead th {\n",
       "        text-align: right;\n",
       "    }\n",
       "</style>\n",
       "<table border=\"1\" class=\"dataframe\">\n",
       "  <thead>\n",
       "    <tr style=\"text-align: right;\">\n",
       "      <th></th>\n",
       "      <th>precio</th>\n",
       "      <th>ubicacion</th>\n",
       "      <th>dorm</th>\n",
       "      <th>ban</th>\n",
       "      <th>sup</th>\n",
       "      <th>precio/m2</th>\n",
       "      <th>sup/ban</th>\n",
       "      <th>Alberdi</th>\n",
       "      <th>Alta Córdoba</th>\n",
       "      <th>Alto Alberdi</th>\n",
       "      <th>...</th>\n",
       "      <th>Otro</th>\n",
       "      <th>Providencia</th>\n",
       "      <th>Pueyrredon</th>\n",
       "      <th>Quebrada de las Rosas</th>\n",
       "      <th>San Martin</th>\n",
       "      <th>San Vicente</th>\n",
       "      <th>Tejas 1</th>\n",
       "      <th>Urca</th>\n",
       "      <th>Valle Escondido</th>\n",
       "      <th>Villa Belgrano</th>\n",
       "    </tr>\n",
       "  </thead>\n",
       "  <tbody>\n",
       "    <tr>\n",
       "      <th>0</th>\n",
       "      <td>40000</td>\n",
       "      <td>San Vicente</td>\n",
       "      <td>1</td>\n",
       "      <td>1</td>\n",
       "      <td>45</td>\n",
       "      <td>888.89</td>\n",
       "      <td>45.00</td>\n",
       "      <td>0</td>\n",
       "      <td>0</td>\n",
       "      <td>0</td>\n",
       "      <td>...</td>\n",
       "      <td>0</td>\n",
       "      <td>0</td>\n",
       "      <td>0</td>\n",
       "      <td>0</td>\n",
       "      <td>0</td>\n",
       "      <td>1</td>\n",
       "      <td>0</td>\n",
       "      <td>0</td>\n",
       "      <td>0</td>\n",
       "      <td>0</td>\n",
       "    </tr>\n",
       "    <tr>\n",
       "      <th>3</th>\n",
       "      <td>67000</td>\n",
       "      <td>Nueva Córdoba</td>\n",
       "      <td>1</td>\n",
       "      <td>1</td>\n",
       "      <td>45</td>\n",
       "      <td>1488.89</td>\n",
       "      <td>45.00</td>\n",
       "      <td>0</td>\n",
       "      <td>0</td>\n",
       "      <td>0</td>\n",
       "      <td>...</td>\n",
       "      <td>0</td>\n",
       "      <td>0</td>\n",
       "      <td>0</td>\n",
       "      <td>0</td>\n",
       "      <td>0</td>\n",
       "      <td>0</td>\n",
       "      <td>0</td>\n",
       "      <td>0</td>\n",
       "      <td>0</td>\n",
       "      <td>0</td>\n",
       "    </tr>\n",
       "    <tr>\n",
       "      <th>9</th>\n",
       "      <td>78800</td>\n",
       "      <td>Chateau Carreras</td>\n",
       "      <td>1</td>\n",
       "      <td>1</td>\n",
       "      <td>47</td>\n",
       "      <td>1676.60</td>\n",
       "      <td>47.00</td>\n",
       "      <td>0</td>\n",
       "      <td>0</td>\n",
       "      <td>0</td>\n",
       "      <td>...</td>\n",
       "      <td>0</td>\n",
       "      <td>0</td>\n",
       "      <td>0</td>\n",
       "      <td>0</td>\n",
       "      <td>0</td>\n",
       "      <td>0</td>\n",
       "      <td>0</td>\n",
       "      <td>0</td>\n",
       "      <td>0</td>\n",
       "      <td>0</td>\n",
       "    </tr>\n",
       "    <tr>\n",
       "      <th>10</th>\n",
       "      <td>105000</td>\n",
       "      <td>General Paz</td>\n",
       "      <td>2</td>\n",
       "      <td>2</td>\n",
       "      <td>75</td>\n",
       "      <td>1400.00</td>\n",
       "      <td>37.50</td>\n",
       "      <td>0</td>\n",
       "      <td>0</td>\n",
       "      <td>0</td>\n",
       "      <td>...</td>\n",
       "      <td>0</td>\n",
       "      <td>0</td>\n",
       "      <td>0</td>\n",
       "      <td>0</td>\n",
       "      <td>0</td>\n",
       "      <td>0</td>\n",
       "      <td>0</td>\n",
       "      <td>0</td>\n",
       "      <td>0</td>\n",
       "      <td>0</td>\n",
       "    </tr>\n",
       "    <tr>\n",
       "      <th>11</th>\n",
       "      <td>75000</td>\n",
       "      <td>General Paz</td>\n",
       "      <td>2</td>\n",
       "      <td>2</td>\n",
       "      <td>65</td>\n",
       "      <td>1153.85</td>\n",
       "      <td>32.50</td>\n",
       "      <td>0</td>\n",
       "      <td>0</td>\n",
       "      <td>0</td>\n",
       "      <td>...</td>\n",
       "      <td>0</td>\n",
       "      <td>0</td>\n",
       "      <td>0</td>\n",
       "      <td>0</td>\n",
       "      <td>0</td>\n",
       "      <td>0</td>\n",
       "      <td>0</td>\n",
       "      <td>0</td>\n",
       "      <td>0</td>\n",
       "      <td>0</td>\n",
       "    </tr>\n",
       "  </tbody>\n",
       "</table>\n",
       "<p>5 rows × 37 columns</p>\n",
       "</div>"
      ],
      "text/plain": [
       "    precio         ubicacion  dorm  ban  sup  precio/m2  sup/ban  Alberdi  \\\n",
       "0    40000       San Vicente     1    1   45     888.89    45.00        0   \n",
       "3    67000     Nueva Córdoba     1    1   45    1488.89    45.00        0   \n",
       "9    78800  Chateau Carreras     1    1   47    1676.60    47.00        0   \n",
       "10  105000       General Paz     2    2   75    1400.00    37.50        0   \n",
       "11   75000       General Paz     2    2   65    1153.85    32.50        0   \n",
       "\n",
       "    Alta Córdoba  Alto Alberdi  ...  Otro  Providencia  Pueyrredon  \\\n",
       "0              0             0  ...     0            0           0   \n",
       "3              0             0  ...     0            0           0   \n",
       "9              0             0  ...     0            0           0   \n",
       "10             0             0  ...     0            0           0   \n",
       "11             0             0  ...     0            0           0   \n",
       "\n",
       "    Quebrada de las Rosas  San Martin  San Vicente  Tejas 1  Urca  \\\n",
       "0                       0           0            1        0     0   \n",
       "3                       0           0            0        0     0   \n",
       "9                       0           0            0        0     0   \n",
       "10                      0           0            0        0     0   \n",
       "11                      0           0            0        0     0   \n",
       "\n",
       "    Valle Escondido  Villa Belgrano  \n",
       "0                 0               0  \n",
       "3                 0               0  \n",
       "9                 0               0  \n",
       "10                0               0  \n",
       "11                0               0  \n",
       "\n",
       "[5 rows x 37 columns]"
      ]
     },
     "execution_count": 38,
     "metadata": {},
     "output_type": "execute_result"
    }
   ],
   "source": [
    "dfML = pd.concat([df,dummies.drop('other',axis='columns')], axis = 'columns')\n",
    "dfML.head()"
   ]
  },
  {
   "cell_type": "code",
   "execution_count": 39,
   "id": "ab5f06cd",
   "metadata": {
    "scrolled": true
   },
   "outputs": [
    {
     "data": {
      "text/html": [
       "<div>\n",
       "<style scoped>\n",
       "    .dataframe tbody tr th:only-of-type {\n",
       "        vertical-align: middle;\n",
       "    }\n",
       "\n",
       "    .dataframe tbody tr th {\n",
       "        vertical-align: top;\n",
       "    }\n",
       "\n",
       "    .dataframe thead th {\n",
       "        text-align: right;\n",
       "    }\n",
       "</style>\n",
       "<table border=\"1\" class=\"dataframe\">\n",
       "  <thead>\n",
       "    <tr style=\"text-align: right;\">\n",
       "      <th></th>\n",
       "      <th>precio</th>\n",
       "      <th>dorm</th>\n",
       "      <th>ban</th>\n",
       "      <th>sup</th>\n",
       "      <th>precio/m2</th>\n",
       "      <th>sup/ban</th>\n",
       "      <th>Alberdi</th>\n",
       "      <th>Alta Córdoba</th>\n",
       "      <th>Alto Alberdi</th>\n",
       "      <th>Altos de Villa Sol</th>\n",
       "      <th>...</th>\n",
       "      <th>Otro</th>\n",
       "      <th>Providencia</th>\n",
       "      <th>Pueyrredon</th>\n",
       "      <th>Quebrada de las Rosas</th>\n",
       "      <th>San Martin</th>\n",
       "      <th>San Vicente</th>\n",
       "      <th>Tejas 1</th>\n",
       "      <th>Urca</th>\n",
       "      <th>Valle Escondido</th>\n",
       "      <th>Villa Belgrano</th>\n",
       "    </tr>\n",
       "  </thead>\n",
       "  <tbody>\n",
       "    <tr>\n",
       "      <th>0</th>\n",
       "      <td>40000</td>\n",
       "      <td>1</td>\n",
       "      <td>1</td>\n",
       "      <td>45</td>\n",
       "      <td>888.89</td>\n",
       "      <td>45.00</td>\n",
       "      <td>0</td>\n",
       "      <td>0</td>\n",
       "      <td>0</td>\n",
       "      <td>0</td>\n",
       "      <td>...</td>\n",
       "      <td>0</td>\n",
       "      <td>0</td>\n",
       "      <td>0</td>\n",
       "      <td>0</td>\n",
       "      <td>0</td>\n",
       "      <td>1</td>\n",
       "      <td>0</td>\n",
       "      <td>0</td>\n",
       "      <td>0</td>\n",
       "      <td>0</td>\n",
       "    </tr>\n",
       "    <tr>\n",
       "      <th>3</th>\n",
       "      <td>67000</td>\n",
       "      <td>1</td>\n",
       "      <td>1</td>\n",
       "      <td>45</td>\n",
       "      <td>1488.89</td>\n",
       "      <td>45.00</td>\n",
       "      <td>0</td>\n",
       "      <td>0</td>\n",
       "      <td>0</td>\n",
       "      <td>0</td>\n",
       "      <td>...</td>\n",
       "      <td>0</td>\n",
       "      <td>0</td>\n",
       "      <td>0</td>\n",
       "      <td>0</td>\n",
       "      <td>0</td>\n",
       "      <td>0</td>\n",
       "      <td>0</td>\n",
       "      <td>0</td>\n",
       "      <td>0</td>\n",
       "      <td>0</td>\n",
       "    </tr>\n",
       "  </tbody>\n",
       "</table>\n",
       "<p>2 rows × 36 columns</p>\n",
       "</div>"
      ],
      "text/plain": [
       "   precio  dorm  ban  sup  precio/m2  sup/ban  Alberdi  Alta Córdoba  \\\n",
       "0   40000     1    1   45     888.89    45.00        0             0   \n",
       "3   67000     1    1   45    1488.89    45.00        0             0   \n",
       "\n",
       "   Alto Alberdi  Altos de Villa Sol  ...  Otro  Providencia  Pueyrredon  \\\n",
       "0             0                   0  ...     0            0           0   \n",
       "3             0                   0  ...     0            0           0   \n",
       "\n",
       "   Quebrada de las Rosas  San Martin  San Vicente  Tejas 1  Urca  \\\n",
       "0                      0           0            1        0     0   \n",
       "3                      0           0            0        0     0   \n",
       "\n",
       "   Valle Escondido  Villa Belgrano  \n",
       "0                0               0  \n",
       "3                0               0  \n",
       "\n",
       "[2 rows x 36 columns]"
      ]
     },
     "execution_count": 39,
     "metadata": {},
     "output_type": "execute_result"
    }
   ],
   "source": [
    "dfML2 = dfML.drop('ubicacion', axis = 'columns')\n",
    "dfML2.head(2)"
   ]
  },
  {
   "cell_type": "code",
   "execution_count": 40,
   "id": "d0bd5984",
   "metadata": {},
   "outputs": [
    {
     "data": {
      "text/html": [
       "<div>\n",
       "<style scoped>\n",
       "    .dataframe tbody tr th:only-of-type {\n",
       "        vertical-align: middle;\n",
       "    }\n",
       "\n",
       "    .dataframe tbody tr th {\n",
       "        vertical-align: top;\n",
       "    }\n",
       "\n",
       "    .dataframe thead th {\n",
       "        text-align: right;\n",
       "    }\n",
       "</style>\n",
       "<table border=\"1\" class=\"dataframe\">\n",
       "  <thead>\n",
       "    <tr style=\"text-align: right;\">\n",
       "      <th></th>\n",
       "      <th>dorm</th>\n",
       "      <th>ban</th>\n",
       "      <th>sup</th>\n",
       "      <th>precio/m2</th>\n",
       "      <th>sup/ban</th>\n",
       "      <th>Alberdi</th>\n",
       "      <th>Alta Córdoba</th>\n",
       "      <th>Alto Alberdi</th>\n",
       "      <th>Altos de Villa Sol</th>\n",
       "      <th>Centro</th>\n",
       "      <th>...</th>\n",
       "      <th>Otro</th>\n",
       "      <th>Providencia</th>\n",
       "      <th>Pueyrredon</th>\n",
       "      <th>Quebrada de las Rosas</th>\n",
       "      <th>San Martin</th>\n",
       "      <th>San Vicente</th>\n",
       "      <th>Tejas 1</th>\n",
       "      <th>Urca</th>\n",
       "      <th>Valle Escondido</th>\n",
       "      <th>Villa Belgrano</th>\n",
       "    </tr>\n",
       "  </thead>\n",
       "  <tbody>\n",
       "    <tr>\n",
       "      <th>0</th>\n",
       "      <td>1</td>\n",
       "      <td>1</td>\n",
       "      <td>45</td>\n",
       "      <td>888.89</td>\n",
       "      <td>45.00</td>\n",
       "      <td>0</td>\n",
       "      <td>0</td>\n",
       "      <td>0</td>\n",
       "      <td>0</td>\n",
       "      <td>0</td>\n",
       "      <td>...</td>\n",
       "      <td>0</td>\n",
       "      <td>0</td>\n",
       "      <td>0</td>\n",
       "      <td>0</td>\n",
       "      <td>0</td>\n",
       "      <td>1</td>\n",
       "      <td>0</td>\n",
       "      <td>0</td>\n",
       "      <td>0</td>\n",
       "      <td>0</td>\n",
       "    </tr>\n",
       "    <tr>\n",
       "      <th>3</th>\n",
       "      <td>1</td>\n",
       "      <td>1</td>\n",
       "      <td>45</td>\n",
       "      <td>1488.89</td>\n",
       "      <td>45.00</td>\n",
       "      <td>0</td>\n",
       "      <td>0</td>\n",
       "      <td>0</td>\n",
       "      <td>0</td>\n",
       "      <td>0</td>\n",
       "      <td>...</td>\n",
       "      <td>0</td>\n",
       "      <td>0</td>\n",
       "      <td>0</td>\n",
       "      <td>0</td>\n",
       "      <td>0</td>\n",
       "      <td>0</td>\n",
       "      <td>0</td>\n",
       "      <td>0</td>\n",
       "      <td>0</td>\n",
       "      <td>0</td>\n",
       "    </tr>\n",
       "    <tr>\n",
       "      <th>9</th>\n",
       "      <td>1</td>\n",
       "      <td>1</td>\n",
       "      <td>47</td>\n",
       "      <td>1676.60</td>\n",
       "      <td>47.00</td>\n",
       "      <td>0</td>\n",
       "      <td>0</td>\n",
       "      <td>0</td>\n",
       "      <td>0</td>\n",
       "      <td>0</td>\n",
       "      <td>...</td>\n",
       "      <td>0</td>\n",
       "      <td>0</td>\n",
       "      <td>0</td>\n",
       "      <td>0</td>\n",
       "      <td>0</td>\n",
       "      <td>0</td>\n",
       "      <td>0</td>\n",
       "      <td>0</td>\n",
       "      <td>0</td>\n",
       "      <td>0</td>\n",
       "    </tr>\n",
       "    <tr>\n",
       "      <th>10</th>\n",
       "      <td>2</td>\n",
       "      <td>2</td>\n",
       "      <td>75</td>\n",
       "      <td>1400.00</td>\n",
       "      <td>37.50</td>\n",
       "      <td>0</td>\n",
       "      <td>0</td>\n",
       "      <td>0</td>\n",
       "      <td>0</td>\n",
       "      <td>0</td>\n",
       "      <td>...</td>\n",
       "      <td>0</td>\n",
       "      <td>0</td>\n",
       "      <td>0</td>\n",
       "      <td>0</td>\n",
       "      <td>0</td>\n",
       "      <td>0</td>\n",
       "      <td>0</td>\n",
       "      <td>0</td>\n",
       "      <td>0</td>\n",
       "      <td>0</td>\n",
       "    </tr>\n",
       "    <tr>\n",
       "      <th>11</th>\n",
       "      <td>2</td>\n",
       "      <td>2</td>\n",
       "      <td>65</td>\n",
       "      <td>1153.85</td>\n",
       "      <td>32.50</td>\n",
       "      <td>0</td>\n",
       "      <td>0</td>\n",
       "      <td>0</td>\n",
       "      <td>0</td>\n",
       "      <td>0</td>\n",
       "      <td>...</td>\n",
       "      <td>0</td>\n",
       "      <td>0</td>\n",
       "      <td>0</td>\n",
       "      <td>0</td>\n",
       "      <td>0</td>\n",
       "      <td>0</td>\n",
       "      <td>0</td>\n",
       "      <td>0</td>\n",
       "      <td>0</td>\n",
       "      <td>0</td>\n",
       "    </tr>\n",
       "  </tbody>\n",
       "</table>\n",
       "<p>5 rows × 35 columns</p>\n",
       "</div>"
      ],
      "text/plain": [
       "    dorm  ban  sup  precio/m2  sup/ban  Alberdi  Alta Córdoba  Alto Alberdi  \\\n",
       "0      1    1   45     888.89    45.00        0             0             0   \n",
       "3      1    1   45    1488.89    45.00        0             0             0   \n",
       "9      1    1   47    1676.60    47.00        0             0             0   \n",
       "10     2    2   75    1400.00    37.50        0             0             0   \n",
       "11     2    2   65    1153.85    32.50        0             0             0   \n",
       "\n",
       "    Altos de Villa Sol  Centro  ...  Otro  Providencia  Pueyrredon  \\\n",
       "0                    0       0  ...     0            0           0   \n",
       "3                    0       0  ...     0            0           0   \n",
       "9                    0       0  ...     0            0           0   \n",
       "10                   0       0  ...     0            0           0   \n",
       "11                   0       0  ...     0            0           0   \n",
       "\n",
       "    Quebrada de las Rosas  San Martin  San Vicente  Tejas 1  Urca  \\\n",
       "0                       0           0            1        0     0   \n",
       "3                       0           0            0        0     0   \n",
       "9                       0           0            0        0     0   \n",
       "10                      0           0            0        0     0   \n",
       "11                      0           0            0        0     0   \n",
       "\n",
       "    Valle Escondido  Villa Belgrano  \n",
       "0                 0               0  \n",
       "3                 0               0  \n",
       "9                 0               0  \n",
       "10                0               0  \n",
       "11                0               0  \n",
       "\n",
       "[5 rows x 35 columns]"
      ]
     },
     "execution_count": 40,
     "metadata": {},
     "output_type": "execute_result"
    }
   ],
   "source": [
    "x = dfML2.drop('precio', axis='columns')\n",
    "x.head()"
   ]
  },
  {
   "cell_type": "code",
   "execution_count": 41,
   "id": "58a20cc6",
   "metadata": {
    "scrolled": true
   },
   "outputs": [
    {
     "data": {
      "text/plain": [
       "0      40000\n",
       "3      67000\n",
       "9      78800\n",
       "10    105000\n",
       "11     75000\n",
       "Name: precio, dtype: int64"
      ]
     },
     "execution_count": 41,
     "metadata": {},
     "output_type": "execute_result"
    }
   ],
   "source": [
    "y = dfML2.precio\n",
    "y.head()"
   ]
  },
  {
   "cell_type": "code",
   "execution_count": 42,
   "id": "084e73ec",
   "metadata": {},
   "outputs": [],
   "source": [
    "from sklearn.model_selection import train_test_split"
   ]
  },
  {
   "cell_type": "code",
   "execution_count": 43,
   "id": "1a239cf0",
   "metadata": {},
   "outputs": [],
   "source": [
    "x_train, x_test, y_train, y_test = train_test_split(x,y,test_size = 0.3, random_state = 10)"
   ]
  },
  {
   "cell_type": "code",
   "execution_count": 44,
   "id": "7cbbdd2f",
   "metadata": {
    "scrolled": false
   },
   "outputs": [
    {
     "data": {
      "text/plain": [
       "0.9602090620247298"
      ]
     },
     "execution_count": 44,
     "metadata": {},
     "output_type": "execute_result"
    }
   ],
   "source": [
    "from sklearn.linear_model import LinearRegression\n",
    "modelLR = LinearRegression()\n",
    "modelLR.fit(x_train, y_train)\n",
    "modelLR.score(x_test, y_test)"
   ]
  },
  {
   "cell_type": "code",
   "execution_count": 45,
   "id": "86be6ec2",
   "metadata": {},
   "outputs": [
    {
     "data": {
      "text/plain": [
       "array([0.95760766, 0.96738663, 0.96726626, 0.95735856, 0.95281635])"
      ]
     },
     "execution_count": 45,
     "metadata": {},
     "output_type": "execute_result"
    }
   ],
   "source": [
    "from sklearn.model_selection import ShuffleSplit\n",
    "from sklearn.model_selection import cross_val_score\n",
    "\n",
    "cv = ShuffleSplit(n_splits=5, test_size=0.2, random_state=0)\n",
    "cross_val_score(LinearRegression(), x, y, cv=cv)"
   ]
  },
  {
   "cell_type": "code",
   "execution_count": 46,
   "id": "996018d2",
   "metadata": {},
   "outputs": [
    {
     "data": {
      "text/plain": [
       "array([0.98032312, 0.98328235, 0.98012733, 0.96212909, 0.98570424])"
      ]
     },
     "execution_count": 46,
     "metadata": {},
     "output_type": "execute_result"
    }
   ],
   "source": [
    "from sklearn.tree import DecisionTreeRegressor\n",
    "cross_val_score(DecisionTreeRegressor(), x, y, cv=cv)"
   ]
  },
  {
   "cell_type": "code",
   "execution_count": 47,
   "id": "69aec79b",
   "metadata": {
    "scrolled": false
   },
   "outputs": [
    {
     "name": "stderr",
     "output_type": "stream",
     "text": [
      "C:\\Users\\esteb\\AppData\\Roaming\\Python\\Python39\\site-packages\\sklearn\\linear_model\\_base.py:141: FutureWarning: 'normalize' was deprecated in version 1.0 and will be removed in 1.2.\n",
      "If you wish to scale the data, use Pipeline with a StandardScaler in a preprocessing stage. To reproduce the previous behavior:\n",
      "\n",
      "from sklearn.pipeline import make_pipeline\n",
      "\n",
      "model = make_pipeline(StandardScaler(with_mean=False), LinearRegression())\n",
      "\n",
      "If you wish to pass a sample_weight parameter, you need to pass it as a fit parameter to each step of the pipeline as follows:\n",
      "\n",
      "kwargs = {s[0] + '__sample_weight': sample_weight for s in model.steps}\n",
      "model.fit(X, y, **kwargs)\n",
      "\n",
      "\n",
      "  warnings.warn(\n",
      "C:\\Users\\esteb\\AppData\\Roaming\\Python\\Python39\\site-packages\\sklearn\\linear_model\\_base.py:141: FutureWarning: 'normalize' was deprecated in version 1.0 and will be removed in 1.2.\n",
      "If you wish to scale the data, use Pipeline with a StandardScaler in a preprocessing stage. To reproduce the previous behavior:\n",
      "\n",
      "from sklearn.pipeline import make_pipeline\n",
      "\n",
      "model = make_pipeline(StandardScaler(with_mean=False), LinearRegression())\n",
      "\n",
      "If you wish to pass a sample_weight parameter, you need to pass it as a fit parameter to each step of the pipeline as follows:\n",
      "\n",
      "kwargs = {s[0] + '__sample_weight': sample_weight for s in model.steps}\n",
      "model.fit(X, y, **kwargs)\n",
      "\n",
      "\n",
      "  warnings.warn(\n",
      "C:\\Users\\esteb\\AppData\\Roaming\\Python\\Python39\\site-packages\\sklearn\\linear_model\\_base.py:141: FutureWarning: 'normalize' was deprecated in version 1.0 and will be removed in 1.2.\n",
      "If you wish to scale the data, use Pipeline with a StandardScaler in a preprocessing stage. To reproduce the previous behavior:\n",
      "\n",
      "from sklearn.pipeline import make_pipeline\n",
      "\n",
      "model = make_pipeline(StandardScaler(with_mean=False), LinearRegression())\n",
      "\n",
      "If you wish to pass a sample_weight parameter, you need to pass it as a fit parameter to each step of the pipeline as follows:\n",
      "\n",
      "kwargs = {s[0] + '__sample_weight': sample_weight for s in model.steps}\n",
      "model.fit(X, y, **kwargs)\n",
      "\n",
      "\n",
      "  warnings.warn(\n",
      "C:\\Users\\esteb\\AppData\\Roaming\\Python\\Python39\\site-packages\\sklearn\\linear_model\\_base.py:141: FutureWarning: 'normalize' was deprecated in version 1.0 and will be removed in 1.2.\n",
      "If you wish to scale the data, use Pipeline with a StandardScaler in a preprocessing stage. To reproduce the previous behavior:\n",
      "\n",
      "from sklearn.pipeline import make_pipeline\n",
      "\n",
      "model = make_pipeline(StandardScaler(with_mean=False), LinearRegression())\n",
      "\n",
      "If you wish to pass a sample_weight parameter, you need to pass it as a fit parameter to each step of the pipeline as follows:\n",
      "\n",
      "kwargs = {s[0] + '__sample_weight': sample_weight for s in model.steps}\n",
      "model.fit(X, y, **kwargs)\n",
      "\n",
      "\n",
      "  warnings.warn(\n",
      "C:\\Users\\esteb\\AppData\\Roaming\\Python\\Python39\\site-packages\\sklearn\\linear_model\\_base.py:141: FutureWarning: 'normalize' was deprecated in version 1.0 and will be removed in 1.2.\n",
      "If you wish to scale the data, use Pipeline with a StandardScaler in a preprocessing stage. To reproduce the previous behavior:\n",
      "\n",
      "from sklearn.pipeline import make_pipeline\n",
      "\n",
      "model = make_pipeline(StandardScaler(with_mean=False), LinearRegression())\n",
      "\n",
      "If you wish to pass a sample_weight parameter, you need to pass it as a fit parameter to each step of the pipeline as follows:\n",
      "\n",
      "kwargs = {s[0] + '__sample_weight': sample_weight for s in model.steps}\n",
      "model.fit(X, y, **kwargs)\n",
      "\n",
      "\n",
      "  warnings.warn(\n",
      "C:\\Users\\esteb\\AppData\\Roaming\\Python\\Python39\\site-packages\\sklearn\\linear_model\\_base.py:148: FutureWarning: 'normalize' was deprecated in version 1.0 and will be removed in 1.2. Please leave the normalize parameter to its default value to silence this warning. The default behavior of this estimator is to not do any normalization. If normalization is needed please use sklearn.preprocessing.StandardScaler instead.\n",
      "  warnings.warn(\n",
      "C:\\Users\\esteb\\AppData\\Roaming\\Python\\Python39\\site-packages\\sklearn\\linear_model\\_base.py:148: FutureWarning: 'normalize' was deprecated in version 1.0 and will be removed in 1.2. Please leave the normalize parameter to its default value to silence this warning. The default behavior of this estimator is to not do any normalization. If normalization is needed please use sklearn.preprocessing.StandardScaler instead.\n",
      "  warnings.warn(\n",
      "C:\\Users\\esteb\\AppData\\Roaming\\Python\\Python39\\site-packages\\sklearn\\linear_model\\_base.py:148: FutureWarning: 'normalize' was deprecated in version 1.0 and will be removed in 1.2. Please leave the normalize parameter to its default value to silence this warning. The default behavior of this estimator is to not do any normalization. If normalization is needed please use sklearn.preprocessing.StandardScaler instead.\n",
      "  warnings.warn(\n",
      "C:\\Users\\esteb\\AppData\\Roaming\\Python\\Python39\\site-packages\\sklearn\\linear_model\\_base.py:148: FutureWarning: 'normalize' was deprecated in version 1.0 and will be removed in 1.2. Please leave the normalize parameter to its default value to silence this warning. The default behavior of this estimator is to not do any normalization. If normalization is needed please use sklearn.preprocessing.StandardScaler instead.\n",
      "  warnings.warn(\n",
      "C:\\Users\\esteb\\AppData\\Roaming\\Python\\Python39\\site-packages\\sklearn\\linear_model\\_base.py:148: FutureWarning: 'normalize' was deprecated in version 1.0 and will be removed in 1.2. Please leave the normalize parameter to its default value to silence this warning. The default behavior of this estimator is to not do any normalization. If normalization is needed please use sklearn.preprocessing.StandardScaler instead.\n",
      "  warnings.warn(\n",
      "C:\\Users\\esteb\\AppData\\Roaming\\Python\\Python39\\site-packages\\sklearn\\linear_model\\_base.py:148: FutureWarning: 'normalize' was deprecated in version 1.0 and will be removed in 1.2. Please leave the normalize parameter to its default value to silence this warning. The default behavior of this estimator is to not do any normalization. If normalization is needed please use sklearn.preprocessing.StandardScaler instead.\n",
      "  warnings.warn(\n"
     ]
    },
    {
     "data": {
      "text/html": [
       "<div>\n",
       "<style scoped>\n",
       "    .dataframe tbody tr th:only-of-type {\n",
       "        vertical-align: middle;\n",
       "    }\n",
       "\n",
       "    .dataframe tbody tr th {\n",
       "        vertical-align: top;\n",
       "    }\n",
       "\n",
       "    .dataframe thead th {\n",
       "        text-align: right;\n",
       "    }\n",
       "</style>\n",
       "<table border=\"1\" class=\"dataframe\">\n",
       "  <thead>\n",
       "    <tr style=\"text-align: right;\">\n",
       "      <th></th>\n",
       "      <th>model</th>\n",
       "      <th>best_score</th>\n",
       "      <th>best_params</th>\n",
       "    </tr>\n",
       "  </thead>\n",
       "  <tbody>\n",
       "    <tr>\n",
       "      <th>0</th>\n",
       "      <td>linear_regression</td>\n",
       "      <td>0.96</td>\n",
       "      <td>{'normalize': False}</td>\n",
       "    </tr>\n",
       "    <tr>\n",
       "      <th>1</th>\n",
       "      <td>lasso</td>\n",
       "      <td>0.96</td>\n",
       "      <td>{'alpha': 2, 'selection': 'random'}</td>\n",
       "    </tr>\n",
       "    <tr>\n",
       "      <th>2</th>\n",
       "      <td>decision_tree</td>\n",
       "      <td>0.98</td>\n",
       "      <td>{'criterion': 'squared_error', 'splitter': 'be...</td>\n",
       "    </tr>\n",
       "  </tbody>\n",
       "</table>\n",
       "</div>"
      ],
      "text/plain": [
       "               model  best_score  \\\n",
       "0  linear_regression        0.96   \n",
       "1              lasso        0.96   \n",
       "2      decision_tree        0.98   \n",
       "\n",
       "                                         best_params  \n",
       "0                               {'normalize': False}  \n",
       "1                {'alpha': 2, 'selection': 'random'}  \n",
       "2  {'criterion': 'squared_error', 'splitter': 'be...  "
      ]
     },
     "execution_count": 47,
     "metadata": {},
     "output_type": "execute_result"
    }
   ],
   "source": [
    "from sklearn.model_selection import GridSearchCV\n",
    "\n",
    "from sklearn.linear_model import Lasso\n",
    "from sklearn.tree import DecisionTreeRegressor\n",
    "def find_best_model_using_gridsearchcv(x,y):\n",
    "    algos = {\n",
    "        'linear_regression' : {\n",
    "            'model': LinearRegression(),\n",
    "            'params': {\n",
    "                'normalize': [True, False]\n",
    "            }\n",
    "        },\n",
    "        'lasso': {\n",
    "            'model': Lasso(),\n",
    "            'params': {\n",
    "                'alpha': [1,2],\n",
    "                'selection': ['random', 'cyclic']\n",
    "            }\n",
    "        },\n",
    "        'decision_tree': {\n",
    "            'model': DecisionTreeRegressor(),\n",
    "            'params': {\n",
    "                'criterion' : ['squared_error','friedman_mse'],\n",
    "                'splitter': ['best','random']\n",
    "            }\n",
    "        }\n",
    "    }\n",
    "    scores = []\n",
    "    cv = ShuffleSplit(n_splits=5, test_size=0.2, random_state=0)\n",
    "    for algo_name, config in algos.items():\n",
    "        gs =  GridSearchCV(config['model'], config['params'], cv=cv, return_train_score=False)\n",
    "        gs.fit(x,y)\n",
    "        scores.append({\n",
    "            'model': algo_name,\n",
    "            'best_score': gs.best_score_,\n",
    "            'best_params': gs.best_params_\n",
    "        })\n",
    "\n",
    "    return pd.DataFrame(scores,columns=['model','best_score','best_params'])\n",
    "\n",
    "find_best_model_using_gridsearchcv(x,y)"
   ]
  },
  {
   "cell_type": "code",
   "execution_count": 48,
   "id": "21914104",
   "metadata": {
    "scrolled": true
   },
   "outputs": [
    {
     "data": {
      "text/html": [
       "<div>\n",
       "<style scoped>\n",
       "    .dataframe tbody tr th:only-of-type {\n",
       "        vertical-align: middle;\n",
       "    }\n",
       "\n",
       "    .dataframe tbody tr th {\n",
       "        vertical-align: top;\n",
       "    }\n",
       "\n",
       "    .dataframe thead th {\n",
       "        text-align: right;\n",
       "    }\n",
       "</style>\n",
       "<table border=\"1\" class=\"dataframe\">\n",
       "  <thead>\n",
       "    <tr style=\"text-align: right;\">\n",
       "      <th></th>\n",
       "      <th>precio</th>\n",
       "      <th>ubicacion</th>\n",
       "      <th>dorm</th>\n",
       "      <th>ban</th>\n",
       "      <th>sup</th>\n",
       "      <th>precio/m2</th>\n",
       "      <th>sup/ban</th>\n",
       "    </tr>\n",
       "  </thead>\n",
       "  <tbody>\n",
       "    <tr>\n",
       "      <th>0</th>\n",
       "      <td>40000</td>\n",
       "      <td>San Vicente</td>\n",
       "      <td>1</td>\n",
       "      <td>1</td>\n",
       "      <td>45</td>\n",
       "      <td>888.89</td>\n",
       "      <td>45.00</td>\n",
       "    </tr>\n",
       "    <tr>\n",
       "      <th>3</th>\n",
       "      <td>67000</td>\n",
       "      <td>Nueva Córdoba</td>\n",
       "      <td>1</td>\n",
       "      <td>1</td>\n",
       "      <td>45</td>\n",
       "      <td>1488.89</td>\n",
       "      <td>45.00</td>\n",
       "    </tr>\n",
       "    <tr>\n",
       "      <th>9</th>\n",
       "      <td>78800</td>\n",
       "      <td>Chateau Carreras</td>\n",
       "      <td>1</td>\n",
       "      <td>1</td>\n",
       "      <td>47</td>\n",
       "      <td>1676.60</td>\n",
       "      <td>47.00</td>\n",
       "    </tr>\n",
       "    <tr>\n",
       "      <th>10</th>\n",
       "      <td>105000</td>\n",
       "      <td>General Paz</td>\n",
       "      <td>2</td>\n",
       "      <td>2</td>\n",
       "      <td>75</td>\n",
       "      <td>1400.00</td>\n",
       "      <td>37.50</td>\n",
       "    </tr>\n",
       "    <tr>\n",
       "      <th>11</th>\n",
       "      <td>75000</td>\n",
       "      <td>General Paz</td>\n",
       "      <td>2</td>\n",
       "      <td>2</td>\n",
       "      <td>65</td>\n",
       "      <td>1153.85</td>\n",
       "      <td>32.50</td>\n",
       "    </tr>\n",
       "  </tbody>\n",
       "</table>\n",
       "</div>"
      ],
      "text/plain": [
       "    precio         ubicacion  dorm  ban  sup  precio/m2  sup/ban\n",
       "0    40000       San Vicente     1    1   45     888.89    45.00\n",
       "3    67000     Nueva Córdoba     1    1   45    1488.89    45.00\n",
       "9    78800  Chateau Carreras     1    1   47    1676.60    47.00\n",
       "10  105000       General Paz     2    2   75    1400.00    37.50\n",
       "11   75000       General Paz     2    2   65    1153.85    32.50"
      ]
     },
     "execution_count": 48,
     "metadata": {},
     "output_type": "execute_result"
    }
   ],
   "source": [
    "df.head()"
   ]
  },
  {
   "cell_type": "markdown",
   "id": "92480ff4",
   "metadata": {},
   "source": [
    "Graficando una matriz de correlación, se concluye que la superficie es la variable que más correlación tiene con el precio. Luego le siguen la cantidad de banos y la cantidad de dormitorios, levemente en menor medida."
   ]
  },
  {
   "cell_type": "code",
   "execution_count": 81,
   "id": "ab5102f0",
   "metadata": {
    "scrolled": true
   },
   "outputs": [
    {
     "name": "stderr",
     "output_type": "stream",
     "text": [
      "C:\\Users\\esteb\\AppData\\Local\\Temp\\ipykernel_14224\\3160324439.py:1: FutureWarning: The default value of numeric_only in DataFrame.corr is deprecated. In a future version, it will default to False. Select only valid columns or specify the value of numeric_only to silence this warning.\n",
      "  sns.heatmap(df.corr(), cmap=\"YlGnBu\", annot=True)\n"
     ]
    },
    {
     "data": {
      "text/plain": [
       "<AxesSubplot:>"
      ]
     },
     "execution_count": 81,
     "metadata": {},
     "output_type": "execute_result"
    },
    {
     "data": {
      "image/png": "[encoded data removed]",
      "text/plain": [
       "<Figure size 640x480 with 2 Axes>"
      ]
     },
     "metadata": {},
     "output_type": "display_data"
    }
   ],
   "source": [
    "sns.heatmap(df.corr(), cmap=\"YlGnBu\", annot=True)"
   ]
  }
 ],
 "metadata": {
  "kernelspec": {
   "display_name": "Python 3 (ipykernel)",
   "language": "python",
   "name": "python3"
  },
  "language_info": {
   "codemirror_mode": {
    "name": "ipython",
    "version": 3
   },
   "file_extension": ".py",
   "mimetype": "text/x-python",
   "name": "python",
   "nbconvert_exporter": "python",
   "pygments_lexer": "ipython3",
   "version": "3.9.13"
  }
 },
 "nbformat": 4,
 "nbformat_minor": 5
}
