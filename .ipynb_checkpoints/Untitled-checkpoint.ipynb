{
 "cells": [
  {
   "cell_type": "code",
   "execution_count": 2,
   "id": "c21c07bc",
   "metadata": {
    "scrolled": true
   },
   "outputs": [
    {
     "data": {
      "text/html": [
       "<div>\n",
       "<style scoped>\n",
       "    .dataframe tbody tr th:only-of-type {\n",
       "        vertical-align: middle;\n",
       "    }\n",
       "\n",
       "    .dataframe tbody tr th {\n",
       "        vertical-align: top;\n",
       "    }\n",
       "\n",
       "    .dataframe thead th {\n",
       "        text-align: right;\n",
       "    }\n",
       "</style>\n",
       "<table border=\"1\" class=\"dataframe\">\n",
       "  <thead>\n",
       "    <tr style=\"text-align: right;\">\n",
       "      <th></th>\n",
       "      <th>titulo</th>\n",
       "      <th>precio</th>\n",
       "      <th>ubicacion</th>\n",
       "      <th>dorm</th>\n",
       "      <th>ban</th>\n",
       "      <th>sup</th>\n",
       "    </tr>\n",
       "  </thead>\n",
       "  <tbody>\n",
       "    <tr>\n",
       "      <th>0</th>\n",
       "      <td>b'VENDO DEPARTAME'</td>\n",
       "      <td>U$S 40.000</td>\n",
       "      <td>San Vicente</td>\n",
       "      <td>1</td>\n",
       "      <td>1</td>\n",
       "      <td>45</td>\n",
       "    </tr>\n",
       "    <tr>\n",
       "      <th>1</th>\n",
       "      <td>b'GRAL PAZ-2 BALC'</td>\n",
       "      <td>U$S 55.000</td>\n",
       "      <td>General Paz</td>\n",
       "      <td>1</td>\n",
       "      <td>1</td>\n",
       "      <td>sin datos</td>\n",
       "    </tr>\n",
       "    <tr>\n",
       "      <th>2</th>\n",
       "      <td>b'GENERAL PAZ-CAT'</td>\n",
       "      <td>U$S 60.000</td>\n",
       "      <td>General Paz</td>\n",
       "      <td>1</td>\n",
       "      <td>1</td>\n",
       "      <td>sin datos</td>\n",
       "    </tr>\n",
       "    <tr>\n",
       "      <th>3</th>\n",
       "      <td>b'Tr\\xc3\\xa1nsito C\\xc3\\xa1ce'</td>\n",
       "      <td>U$S 67.000</td>\n",
       "      <td>Nueva Córdoba</td>\n",
       "      <td>1</td>\n",
       "      <td>1</td>\n",
       "      <td>45</td>\n",
       "    </tr>\n",
       "    <tr>\n",
       "      <th>4</th>\n",
       "      <td>b'B\\xc2\\xba LOMAS DE MA'</td>\n",
       "      <td>U$S 130.000</td>\n",
       "      <td>sin ubicacion</td>\n",
       "      <td>3</td>\n",
       "      <td>3</td>\n",
       "      <td>130</td>\n",
       "    </tr>\n",
       "    <tr>\n",
       "      <th>5</th>\n",
       "      <td>b'\\xe2\\x80\\xa2Gral PAZ\\xe2\\x80\\xa2 '</td>\n",
       "      <td>U$S 63.000</td>\n",
       "      <td>General Paz</td>\n",
       "      <td>1</td>\n",
       "      <td>sin datos</td>\n",
       "      <td>47</td>\n",
       "    </tr>\n",
       "    <tr>\n",
       "      <th>6</th>\n",
       "      <td>b'CASA MIRADORES '</td>\n",
       "      <td>U$S 211.000</td>\n",
       "      <td>Manantiales</td>\n",
       "      <td>3</td>\n",
       "      <td>3</td>\n",
       "      <td>sin datos</td>\n",
       "    </tr>\n",
       "    <tr>\n",
       "      <th>7</th>\n",
       "      <td>b'VENDO DUPLEX EN'</td>\n",
       "      <td>U$S 114.000</td>\n",
       "      <td>sin ubicacion</td>\n",
       "      <td>3</td>\n",
       "      <td>3</td>\n",
       "      <td>sin datos</td>\n",
       "    </tr>\n",
       "    <tr>\n",
       "      <th>8</th>\n",
       "      <td>b'VENTA- DUPLEX E'</td>\n",
       "      <td>U$S 86.000</td>\n",
       "      <td>Docta Urbanización Inteligente</td>\n",
       "      <td>2</td>\n",
       "      <td>2</td>\n",
       "      <td>sin datos</td>\n",
       "    </tr>\n",
       "    <tr>\n",
       "      <th>9</th>\n",
       "      <td>b'Condominio Prem'</td>\n",
       "      <td>U$S 78.800</td>\n",
       "      <td>Chateau Carreras</td>\n",
       "      <td>1</td>\n",
       "      <td>1</td>\n",
       "      <td>47</td>\n",
       "    </tr>\n",
       "  </tbody>\n",
       "</table>\n",
       "</div>"
      ],
      "text/plain": [
       "                                 titulo       precio  \\\n",
       "0                    b'VENDO DEPARTAME'   U$S 40.000   \n",
       "1                    b'GRAL PAZ-2 BALC'   U$S 55.000   \n",
       "2                    b'GENERAL PAZ-CAT'   U$S 60.000   \n",
       "3        b'Tr\\xc3\\xa1nsito C\\xc3\\xa1ce'   U$S 67.000   \n",
       "4              b'B\\xc2\\xba LOMAS DE MA'  U$S 130.000   \n",
       "5  b'\\xe2\\x80\\xa2Gral PAZ\\xe2\\x80\\xa2 '   U$S 63.000   \n",
       "6                    b'CASA MIRADORES '  U$S 211.000   \n",
       "7                    b'VENDO DUPLEX EN'  U$S 114.000   \n",
       "8                    b'VENTA- DUPLEX E'   U$S 86.000   \n",
       "9                    b'Condominio Prem'   U$S 78.800   \n",
       "\n",
       "                          ubicacion dorm        ban        sup  \n",
       "0                      San Vicente     1          1         45  \n",
       "1                      General Paz     1          1  sin datos  \n",
       "2                      General Paz     1          1  sin datos  \n",
       "3                    Nueva Córdoba     1          1         45  \n",
       "4                     sin ubicacion    3          3        130  \n",
       "5                      General Paz     1  sin datos         47  \n",
       "6                      Manantiales     3          3  sin datos  \n",
       "7                     sin ubicacion    3          3  sin datos  \n",
       "8   Docta Urbanización Inteligente     2          2  sin datos  \n",
       "9                 Chateau Carreras     1          1         47  "
      ]
     },
     "execution_count": 2,
     "metadata": {},
     "output_type": "execute_result"
    }
   ],
   "source": [
    "import pandas as pd\n",
    "\n",
    "df = pd.read_csv('deptosDataset.csv')\n",
    "df.head(10)"
   ]
  },
  {
   "cell_type": "code",
   "execution_count": 7,
   "id": "8558a720",
   "metadata": {
    "scrolled": true
   },
   "outputs": [
    {
     "name": "stdout",
     "output_type": "stream",
     "text": [
      "<class 'pandas.core.frame.DataFrame'>\n",
      "RangeIndex: 3693 entries, 0 to 3692\n",
      "Data columns (total 6 columns):\n",
      " #   Column     Non-Null Count  Dtype \n",
      "---  ------     --------------  ----- \n",
      " 0   titulo     3693 non-null   object\n",
      " 1   precio     3693 non-null   object\n",
      " 2   ubicacion  3693 non-null   object\n",
      " 3   dorm       3693 non-null   object\n",
      " 4   ban        3693 non-null   object\n",
      " 5   sup        3693 non-null   object\n",
      "dtypes: object(6)\n",
      "memory usage: 173.2+ KB\n"
     ]
    }
   ],
   "source": [
    "df.info()"
   ]
  },
  {
   "cell_type": "code",
   "execution_count": 3,
   "id": "45973b25",
   "metadata": {},
   "outputs": [],
   "source": [
    "df.drop(df[df['precio']=='consultar'].index, inplace=True)"
   ]
  },
  {
   "cell_type": "code",
   "execution_count": 4,
   "id": "15453bf2",
   "metadata": {},
   "outputs": [
    {
     "data": {
      "text/plain": [
       "titulo       0\n",
       "precio       0\n",
       "ubicacion    0\n",
       "dorm         0\n",
       "ban          0\n",
       "sup          0\n",
       "dtype: int64"
      ]
     },
     "execution_count": 4,
     "metadata": {},
     "output_type": "execute_result"
    }
   ],
   "source": [
    "df[df['precio']=='consultar'].count()"
   ]
  },
  {
   "cell_type": "code",
   "execution_count": 5,
   "id": "5e52d4b6",
   "metadata": {},
   "outputs": [],
   "source": [
    "def convertirPrecio(value):\n",
    "    newValue = value.replace('.','').replace('U$S ','')\n",
    "    \n",
    "    return int(newValue)"
   ]
  },
  {
   "cell_type": "code",
   "execution_count": 6,
   "id": "39d7f9ed",
   "metadata": {
    "scrolled": true
   },
   "outputs": [],
   "source": [
    "df['precio'] = df['precio'].apply(convertirPrecio)"
   ]
  },
  {
   "cell_type": "code",
   "execution_count": 7,
   "id": "68f4bbe4",
   "metadata": {
    "scrolled": false
   },
   "outputs": [
    {
     "data": {
      "text/html": [
       "<div>\n",
       "<style scoped>\n",
       "    .dataframe tbody tr th:only-of-type {\n",
       "        vertical-align: middle;\n",
       "    }\n",
       "\n",
       "    .dataframe tbody tr th {\n",
       "        vertical-align: top;\n",
       "    }\n",
       "\n",
       "    .dataframe thead th {\n",
       "        text-align: right;\n",
       "    }\n",
       "</style>\n",
       "<table border=\"1\" class=\"dataframe\">\n",
       "  <thead>\n",
       "    <tr style=\"text-align: right;\">\n",
       "      <th></th>\n",
       "      <th>titulo</th>\n",
       "      <th>precio</th>\n",
       "      <th>ubicacion</th>\n",
       "      <th>dorm</th>\n",
       "      <th>ban</th>\n",
       "      <th>sup</th>\n",
       "    </tr>\n",
       "  </thead>\n",
       "  <tbody>\n",
       "    <tr>\n",
       "      <th>0</th>\n",
       "      <td>b'VENDO DEPARTAME'</td>\n",
       "      <td>40000</td>\n",
       "      <td>San Vicente</td>\n",
       "      <td>1</td>\n",
       "      <td>1</td>\n",
       "      <td>45</td>\n",
       "    </tr>\n",
       "    <tr>\n",
       "      <th>1</th>\n",
       "      <td>b'GRAL PAZ-2 BALC'</td>\n",
       "      <td>55000</td>\n",
       "      <td>General Paz</td>\n",
       "      <td>1</td>\n",
       "      <td>1</td>\n",
       "      <td>sin datos</td>\n",
       "    </tr>\n",
       "    <tr>\n",
       "      <th>2</th>\n",
       "      <td>b'GENERAL PAZ-CAT'</td>\n",
       "      <td>60000</td>\n",
       "      <td>General Paz</td>\n",
       "      <td>1</td>\n",
       "      <td>1</td>\n",
       "      <td>sin datos</td>\n",
       "    </tr>\n",
       "    <tr>\n",
       "      <th>3</th>\n",
       "      <td>b'Tr\\xc3\\xa1nsito C\\xc3\\xa1ce'</td>\n",
       "      <td>67000</td>\n",
       "      <td>Nueva Córdoba</td>\n",
       "      <td>1</td>\n",
       "      <td>1</td>\n",
       "      <td>45</td>\n",
       "    </tr>\n",
       "    <tr>\n",
       "      <th>4</th>\n",
       "      <td>b'B\\xc2\\xba LOMAS DE MA'</td>\n",
       "      <td>130000</td>\n",
       "      <td>sin ubicacion</td>\n",
       "      <td>3</td>\n",
       "      <td>3</td>\n",
       "      <td>130</td>\n",
       "    </tr>\n",
       "    <tr>\n",
       "      <th>5</th>\n",
       "      <td>b'\\xe2\\x80\\xa2Gral PAZ\\xe2\\x80\\xa2 '</td>\n",
       "      <td>63000</td>\n",
       "      <td>General Paz</td>\n",
       "      <td>1</td>\n",
       "      <td>sin datos</td>\n",
       "      <td>47</td>\n",
       "    </tr>\n",
       "    <tr>\n",
       "      <th>6</th>\n",
       "      <td>b'CASA MIRADORES '</td>\n",
       "      <td>211000</td>\n",
       "      <td>Manantiales</td>\n",
       "      <td>3</td>\n",
       "      <td>3</td>\n",
       "      <td>sin datos</td>\n",
       "    </tr>\n",
       "    <tr>\n",
       "      <th>7</th>\n",
       "      <td>b'VENDO DUPLEX EN'</td>\n",
       "      <td>114000</td>\n",
       "      <td>sin ubicacion</td>\n",
       "      <td>3</td>\n",
       "      <td>3</td>\n",
       "      <td>sin datos</td>\n",
       "    </tr>\n",
       "    <tr>\n",
       "      <th>8</th>\n",
       "      <td>b'VENTA- DUPLEX E'</td>\n",
       "      <td>86000</td>\n",
       "      <td>Docta Urbanización Inteligente</td>\n",
       "      <td>2</td>\n",
       "      <td>2</td>\n",
       "      <td>sin datos</td>\n",
       "    </tr>\n",
       "    <tr>\n",
       "      <th>9</th>\n",
       "      <td>b'Condominio Prem'</td>\n",
       "      <td>78800</td>\n",
       "      <td>Chateau Carreras</td>\n",
       "      <td>1</td>\n",
       "      <td>1</td>\n",
       "      <td>47</td>\n",
       "    </tr>\n",
       "  </tbody>\n",
       "</table>\n",
       "</div>"
      ],
      "text/plain": [
       "                                 titulo  precio  \\\n",
       "0                    b'VENDO DEPARTAME'   40000   \n",
       "1                    b'GRAL PAZ-2 BALC'   55000   \n",
       "2                    b'GENERAL PAZ-CAT'   60000   \n",
       "3        b'Tr\\xc3\\xa1nsito C\\xc3\\xa1ce'   67000   \n",
       "4              b'B\\xc2\\xba LOMAS DE MA'  130000   \n",
       "5  b'\\xe2\\x80\\xa2Gral PAZ\\xe2\\x80\\xa2 '   63000   \n",
       "6                    b'CASA MIRADORES '  211000   \n",
       "7                    b'VENDO DUPLEX EN'  114000   \n",
       "8                    b'VENTA- DUPLEX E'   86000   \n",
       "9                    b'Condominio Prem'   78800   \n",
       "\n",
       "                          ubicacion dorm        ban        sup  \n",
       "0                      San Vicente     1          1         45  \n",
       "1                      General Paz     1          1  sin datos  \n",
       "2                      General Paz     1          1  sin datos  \n",
       "3                    Nueva Córdoba     1          1         45  \n",
       "4                     sin ubicacion    3          3        130  \n",
       "5                      General Paz     1  sin datos         47  \n",
       "6                      Manantiales     3          3  sin datos  \n",
       "7                     sin ubicacion    3          3  sin datos  \n",
       "8   Docta Urbanización Inteligente     2          2  sin datos  \n",
       "9                 Chateau Carreras     1          1         47  "
      ]
     },
     "execution_count": 7,
     "metadata": {},
     "output_type": "execute_result"
    }
   ],
   "source": [
    "df.head(10)"
   ]
  },
  {
   "cell_type": "code",
   "execution_count": 73,
   "id": "24cde110",
   "metadata": {
    "scrolled": true
   },
   "outputs": [
    {
     "data": {
      "text/plain": [
       "Index(['titulo', 'precio', 'ubicacion', 'dorm', 'ban', 'sup'], dtype='object')"
      ]
     },
     "execution_count": 73,
     "metadata": {},
     "output_type": "execute_result"
    }
   ],
   "source": [
    "df.columns"
   ]
  },
  {
   "cell_type": "code",
   "execution_count": 9,
   "id": "0d189f15",
   "metadata": {
    "scrolled": true
   },
   "outputs": [
    {
     "data": {
      "text/plain": [
       "ubicacion\n",
       " 10 de Agosto            4\n",
       " A.T.E.                  2\n",
       " Alberdi               218\n",
       " Alejandro Centeno       2\n",
       " Alta Córdoba          111\n",
       "                      ... \n",
       " Villa Urquiza           1\n",
       " Villa Warcalde          4\n",
       " Yofre Sud               1\n",
       " Zumaran                 1\n",
       "sin ubicacion          102\n",
       "Name: ubicacion, Length: 169, dtype: int64"
      ]
     },
     "execution_count": 9,
     "metadata": {},
     "output_type": "execute_result"
    }
   ],
   "source": [
    "dfBarrios = df.groupby('ubicacion')['ubicacion'].agg('count')\n",
    "dfBarrios.head"
   ]
  },
  {
   "cell_type": "code",
   "execution_count": 16,
   "id": "e1dc535d",
   "metadata": {
    "scrolled": true
   },
   "outputs": [
    {
     "data": {
      "text/plain": [
       "ubicacion\n",
       "Nueva Córdoba          903\n",
       "Centro                 426\n",
       "General Paz            395\n",
       "Alberdi                218\n",
       "Alto Alberdi           119\n",
       "                      ... \n",
       "Cañitas                  1\n",
       "San Ignacio Village      1\n",
       "Bella Vista Oeste        1\n",
       "San José                 1\n",
       "Los Platanos             1\n",
       "Name: ubicacion, Length: 169, dtype: int64"
      ]
     },
     "execution_count": 16,
     "metadata": {},
     "output_type": "execute_result"
    }
   ],
   "source": [
    "df.ubicacion = df.ubicacion.apply(lambda x: x.strip())\n",
    "estadisticasUbicacion = df.groupby('ubicacion')['ubicacion'].agg('count').sort_values(ascending=False)\n",
    "estadisticasUbicacion"
   ]
  },
  {
   "cell_type": "code",
   "execution_count": 17,
   "id": "3c896bd3",
   "metadata": {
    "scrolled": true
   },
   "outputs": [
    {
     "name": "stdout",
     "output_type": "stream",
     "text": [
      "ubicacion\n",
      "Nueva Córdoba                     903\n",
      "Centro                            426\n",
      "General Paz                       395\n",
      "Alberdi                           218\n",
      "Alto Alberdi                      119\n",
      "Cofico                            118\n",
      "Alta Córdoba                      111\n",
      "sin ubicacion                     102\n",
      "Manantiales                        95\n",
      "Guemes                             55\n",
      "Villa Belgrano                     52\n",
      "Chateau Carreras                   44\n",
      "Otro                               41\n",
      "Pueyrredon                         39\n",
      "Greenville 2                       37\n",
      "San Martin                         37\n",
      "Providencia                        33\n",
      "Valle Escondido                    33\n",
      "Quebrada de las Rosas              31\n",
      "Observatorio                       30\n",
      "Docta Urbanización Inteligente     28\n",
      "San Vicente                        27\n",
      "Jardín                             22\n",
      "Jardín Claret                      20\n",
      "Urca                               19\n",
      "Las Palmas                         18\n",
      "Jardín Espinosa                    18\n",
      "Las Rosas                          14\n",
      "Cerro de las Rosas                 13\n",
      "Tejas 1                            12\n",
      "Juniors                            12\n",
      "Altos de Villa Sol                 12\n",
      "Claros del Bosque                  12\n",
      "Residencial Santa Ana              11\n",
      "Arguello                           10\n",
      "Cañuelas                           10\n",
      "San Ignacio                         9\n",
      "Jardín Hipodromo                    9\n",
      "Paso de los Andes                   9\n",
      "Villa Revol                         9\n",
      "Alto Verde                          8\n",
      "Prados de Manantiales               8\n",
      "Miradores de Manantiales            7\n",
      "Lomas del Chateau                   7\n",
      "Lomas de San Martín                 6\n",
      "General Bustos                      6\n",
      "Balcones del Chateu                 6\n",
      "Los Naranjos                        6\n",
      "Don Bosco                           6\n",
      "San Francisco                       6\n",
      "Cañuelas Chicos                     6\n",
      "San Fernando                        6\n",
      "Chacra del Norte                    6\n",
      "Maipu Sección 1                     5\n",
      "Villa Sol                           5\n",
      "Amp. Pueyrredón                     5\n",
      "San Martin Norte                    5\n",
      "La Paya II                          5\n",
      "Chacra del Sur                      5\n",
      "Nuevo Poeta Lugones                 5\n",
      "Crisol Norte                        5\n",
      "Solares de Manantiales              4\n",
      "Marq. de Sobremonte                 4\n",
      "Valle Cercano                       4\n",
      "San Salvador                        4\n",
      "Nuevo Urca                          4\n",
      "San Isidro                          4\n",
      "Villa Warcalde                      4\n",
      "La Catalina                         4\n",
      "10 de Agosto                        4\n",
      "Ipona                               4\n",
      "Villa Alberdi                       3\n",
      "Teodoro Felds                       3\n",
      "Palmas de Claret                    3\n",
      "Alto General Paz                    3\n",
      "Parque Velez Sarsfield              3\n",
      "Inaudi                              3\n",
      "Primero de Mayo                     3\n",
      "Jockey Club                         3\n",
      "Parque Capital Sud                  3\n",
      "Parque Capital                      3\n",
      "Colón                               2\n",
      "Parque Corema                       2\n",
      "Altos de Manantiales                2\n",
      "Parque Chacabuco                    2\n",
      "San Rafael                          2\n",
      "Parque Liceo II                     2\n",
      "Panamericano                        2\n",
      "Colinas de V. Sarsfield             2\n",
      "Residencial America                 2\n",
      "Residencial San Carlos              2\n",
      "Terrazas de Manantiales             2\n",
      "Residencial Velez Sarfield          2\n",
      "SEP                                 2\n",
      "SMATA                               2\n",
      "Tejas 2                             2\n",
      "Talleres Este                       2\n",
      "Bialet Masse                        2\n",
      "Amp. San Pablo                      2\n",
      "Quintas de Arguello                 2\n",
      "Avenida                             2\n",
      "Padre Claret                        2\n",
      "Villa Cabrera                       2\n",
      "Las Flores                          2\n",
      "Alejandro Centeno                   2\n",
      "Jardín de los Boulevares            2\n",
      "Lomas del Suquía                    2\n",
      "Villa Rivera Indarte                2\n",
      "Villa Allende Parque                2\n",
      "A.T.E.                              2\n",
      "General Artigas                     2\n",
      "Villa Argentina                     2\n",
      "General Belgrano                    2\n",
      "Fontanas del Sur                    2\n",
      "Villa Union                         1\n",
      "Arguello Norte                      1\n",
      "Santina Norte                       1\n",
      "Zumaran                             1\n",
      "Tablada Park                        1\n",
      "Yofre Sud                           1\n",
      "Amp. Las Palmas                     1\n",
      "Villa Urquiza                       1\n",
      "Altos de San Martín                 1\n",
      "Ameghino Sud                        1\n",
      "Terranova                           1\n",
      "Villa Azalais                       1\n",
      "Altamira                            1\n",
      "Alto Palermo                        1\n",
      "Villa Paez                          1\n",
      "Terrazas de Ohiggins                1\n",
      "Villa Corina                        1\n",
      "Villa Claret                        1\n",
      "Villa Carlos Paz                    1\n",
      "La France                           1\n",
      "Ciudadela                           1\n",
      "Bajo Galan                          1\n",
      "Los Olmos                           1\n",
      "Mirador                             1\n",
      "Matienzo                            1\n",
      "Ituzaingo                           1\n",
      "Maipu Sección 2                     1\n",
      "Jardines del Jockey                 1\n",
      "Los Robles                          1\n",
      "Jardines del Olmo                   1\n",
      "Bajo Palermo                        1\n",
      "Los Boulevares                      1\n",
      "Jardín del Pilar                    1\n",
      "Lomas de Manantiales                1\n",
      "La Calandria                        1\n",
      "La Carolina                         1\n",
      "La Paya I                           1\n",
      "Nuevo Jardín                        1\n",
      "Obrero                              1\n",
      "Ejercito Argentino                  1\n",
      "Ducasse                             1\n",
      "Parque República                    1\n",
      "Cáceres                             1\n",
      "Costas de Manantiales               1\n",
      "Colinas de Manantiales              1\n",
      "La Luisita                          1\n",
      "Riberas de Manantiales              1\n",
      "Rivadavia                           1\n",
      "SMATA II                            1\n",
      "Centenario                          1\n",
      "Cañitas                             1\n",
      "San Ignacio Village                 1\n",
      "Bella Vista Oeste                   1\n",
      "San José                            1\n",
      "Los Platanos                        1\n",
      "Name: ubicacion, dtype: int64\n"
     ]
    }
   ],
   "source": [
    "with pd.option_context('display.max_rows', None,\n",
    "                       'display.max_columns', None,\n",
    "                       'display.precision', 3,\n",
    "                       ):\n",
    "    print(estadisticasUbicacion)"
   ]
  },
  {
   "cell_type": "code",
   "execution_count": 82,
   "id": "dc6cd144",
   "metadata": {},
   "outputs": [
    {
     "data": {
      "text/plain": [
       "ubicacion\n",
       "San Ignacio            9\n",
       "Jardín Hipodromo       9\n",
       "Paso de los Andes      9\n",
       "Villa Revol            9\n",
       "Alto Verde             8\n",
       "                      ..\n",
       "Cañitas                1\n",
       "San Ignacio Village    1\n",
       "Bella Vista Oeste      1\n",
       "San José               1\n",
       "Los Platanos           1\n",
       "Name: ubicacion, Length: 133, dtype: int64"
      ]
     },
     "execution_count": 82,
     "metadata": {},
     "output_type": "execute_result"
    }
   ],
   "source": [
    "otras_ubicaciones = estadisticasUbicacion[estadisticasUbicacion<10]\n",
    "otras_ubicaciones"
   ]
  },
  {
   "cell_type": "code",
   "execution_count": 88,
   "id": "05b21af7",
   "metadata": {},
   "outputs": [],
   "source": [
    "df.ubicacion = df.ubicacion.apply(lambda x: 'other' if x in otras_ubicaciones else x)"
   ]
  },
  {
   "cell_type": "code",
   "execution_count": 35,
   "id": "385a4093",
   "metadata": {
    "scrolled": false
   },
   "outputs": [
    {
     "data": {
      "text/plain": [
       "ubicacion\n",
       "Nueva Córdoba                     903\n",
       "Centro                            426\n",
       "General Paz                       395\n",
       "other                             351\n",
       "Alberdi                           218\n",
       "Alto Alberdi                      119\n",
       "Cofico                            118\n",
       "Alta Córdoba                      111\n",
       "sin ubicacion                     102\n",
       "Manantiales                        95\n",
       "Guemes                             55\n",
       "Villa Belgrano                     52\n",
       "Chateau Carreras                   44\n",
       "Otro                               41\n",
       "Pueyrredon                         39\n",
       "San Martin                         37\n",
       "Greenville 2                       37\n",
       "Valle Escondido                    33\n",
       "Providencia                        33\n",
       "Quebrada de las Rosas              31\n",
       "Observatorio                       30\n",
       "Docta Urbanización Inteligente     28\n",
       "San Vicente                        27\n",
       "Jardín                             22\n",
       "Jardín Claret                      20\n",
       "Urca                               19\n",
       "Las Palmas                         18\n",
       "Jardín Espinosa                    18\n",
       "Las Rosas                          14\n",
       "Cerro de las Rosas                 13\n",
       "Altos de Villa Sol                 12\n",
       "Claros del Bosque                  12\n",
       "Tejas 1                            12\n",
       "Juniors                            12\n",
       "Residencial Santa Ana              11\n",
       "Arguello                           10\n",
       "Cañuelas                           10\n",
       "Name: ubicacion, dtype: int64"
      ]
     },
     "execution_count": 35,
     "metadata": {},
     "output_type": "execute_result"
    }
   ],
   "source": [
    "estadisticasUbicacionFinal = df.groupby('ubicacion')['ubicacion'].agg('count').sort_values(ascending=False)\n",
    "estadisticasUbicacionFinal"
   ]
  },
  {
   "cell_type": "code",
   "execution_count": 39,
   "id": "b3cdf374",
   "metadata": {
    "scrolled": true
   },
   "outputs": [
    {
     "data": {
      "text/html": [
       "<div>\n",
       "<style scoped>\n",
       "    .dataframe tbody tr th:only-of-type {\n",
       "        vertical-align: middle;\n",
       "    }\n",
       "\n",
       "    .dataframe tbody tr th {\n",
       "        vertical-align: top;\n",
       "    }\n",
       "\n",
       "    .dataframe thead th {\n",
       "        text-align: right;\n",
       "    }\n",
       "</style>\n",
       "<table border=\"1\" class=\"dataframe\">\n",
       "  <thead>\n",
       "    <tr style=\"text-align: right;\">\n",
       "      <th></th>\n",
       "      <th>titulo</th>\n",
       "      <th>precio</th>\n",
       "      <th>ubicacion</th>\n",
       "      <th>dorm</th>\n",
       "      <th>ban</th>\n",
       "      <th>sup</th>\n",
       "    </tr>\n",
       "  </thead>\n",
       "  <tbody>\n",
       "    <tr>\n",
       "      <th>0</th>\n",
       "      <td>b'VENDO DEPARTAME'</td>\n",
       "      <td>40000</td>\n",
       "      <td>San Vicente</td>\n",
       "      <td>1</td>\n",
       "      <td>1</td>\n",
       "      <td>45</td>\n",
       "    </tr>\n",
       "    <tr>\n",
       "      <th>1</th>\n",
       "      <td>b'GRAL PAZ-2 BALC'</td>\n",
       "      <td>55000</td>\n",
       "      <td>General Paz</td>\n",
       "      <td>1</td>\n",
       "      <td>1</td>\n",
       "      <td>sin datos</td>\n",
       "    </tr>\n",
       "    <tr>\n",
       "      <th>2</th>\n",
       "      <td>b'GENERAL PAZ-CAT'</td>\n",
       "      <td>60000</td>\n",
       "      <td>General Paz</td>\n",
       "      <td>1</td>\n",
       "      <td>1</td>\n",
       "      <td>sin datos</td>\n",
       "    </tr>\n",
       "    <tr>\n",
       "      <th>3</th>\n",
       "      <td>b'Tr\\xc3\\xa1nsito C\\xc3\\xa1ce'</td>\n",
       "      <td>67000</td>\n",
       "      <td>Nueva Córdoba</td>\n",
       "      <td>1</td>\n",
       "      <td>1</td>\n",
       "      <td>45</td>\n",
       "    </tr>\n",
       "    <tr>\n",
       "      <th>4</th>\n",
       "      <td>b'B\\xc2\\xba LOMAS DE MA'</td>\n",
       "      <td>130000</td>\n",
       "      <td>sin ubicacion</td>\n",
       "      <td>3</td>\n",
       "      <td>3</td>\n",
       "      <td>130</td>\n",
       "    </tr>\n",
       "  </tbody>\n",
       "</table>\n",
       "</div>"
      ],
      "text/plain": [
       "                           titulo  precio      ubicacion dorm ban        sup\n",
       "0              b'VENDO DEPARTAME'   40000    San Vicente    1   1         45\n",
       "1              b'GRAL PAZ-2 BALC'   55000    General Paz    1   1  sin datos\n",
       "2              b'GENERAL PAZ-CAT'   60000    General Paz    1   1  sin datos\n",
       "3  b'Tr\\xc3\\xa1nsito C\\xc3\\xa1ce'   67000  Nueva Córdoba    1   1         45\n",
       "4        b'B\\xc2\\xba LOMAS DE MA'  130000  sin ubicacion    3   3        130"
      ]
     },
     "execution_count": 39,
     "metadata": {},
     "output_type": "execute_result"
    }
   ],
   "source": [
    "df.head(5)"
   ]
  },
  {
   "cell_type": "code",
   "execution_count": 55,
   "id": "184c746c",
   "metadata": {},
   "outputs": [],
   "source": [
    "dorm_sindatos_indexes = df[df['dorm'] == 'sin datos'].index\n",
    "df.drop(dorm_sindatos_indexes, inplace= True)"
   ]
  },
  {
   "cell_type": "code",
   "execution_count": 69,
   "id": "a5d3da2a",
   "metadata": {
    "scrolled": true
   },
   "outputs": [
    {
     "data": {
      "text/plain": [
       "dorm\n",
       "1               1726\n",
       "2               1017\n",
       "3                668\n",
       "4                 46\n",
       "Monoambiente      42\n",
       "Name: dorm, dtype: int64"
      ]
     },
     "execution_count": 69,
     "metadata": {},
     "output_type": "execute_result"
    }
   ],
   "source": [
    "conteo_dormitorios = df.groupby('dorm')['dorm'].agg('count')\n",
    "conteo_dormitorios"
   ]
  },
  {
   "cell_type": "code",
   "execution_count": 89,
   "id": "b5d24523",
   "metadata": {},
   "outputs": [],
   "source": [
    "df.dorm = df.dorm.apply(lambda x: '0' if x =='Monoambiente' else x)"
   ]
  },
  {
   "cell_type": "code",
   "execution_count": 90,
   "id": "5569de01",
   "metadata": {},
   "outputs": [
    {
     "data": {
      "text/plain": [
       "dorm\n",
       "0      42\n",
       "1    1726\n",
       "2    1017\n",
       "3     668\n",
       "4      46\n",
       "Name: dorm, dtype: int64"
      ]
     },
     "execution_count": 90,
     "metadata": {},
     "output_type": "execute_result"
    }
   ],
   "source": [
    "conteo_dormitorios = df.groupby('dorm')['dorm'].agg('count')\n",
    "conteo_dormitorios"
   ]
  },
  {
   "cell_type": "code",
   "execution_count": 107,
   "id": "65738742",
   "metadata": {
    "scrolled": true
   },
   "outputs": [],
   "source": [
    "df[\"dorm\"] = df[\"dorm\"].astype(\"int64\")"
   ]
  },
  {
   "cell_type": "code",
   "execution_count": 108,
   "id": "8da0a693",
   "metadata": {},
   "outputs": [
    {
     "name": "stdout",
     "output_type": "stream",
     "text": [
      "<class 'pandas.core.frame.DataFrame'>\n",
      "Int64Index: 3499 entries, 0 to 3692\n",
      "Data columns (total 6 columns):\n",
      " #   Column     Non-Null Count  Dtype \n",
      "---  ------     --------------  ----- \n",
      " 0   titulo     3499 non-null   object\n",
      " 1   precio     3499 non-null   int64 \n",
      " 2   ubicacion  3499 non-null   object\n",
      " 3   dorm       3499 non-null   int64 \n",
      " 4   ban        3499 non-null   object\n",
      " 5   sup        3499 non-null   object\n",
      "dtypes: int64(2), object(4)\n",
      "memory usage: 191.4+ KB\n"
     ]
    }
   ],
   "source": [
    "df.info()"
   ]
  },
  {
   "cell_type": "code",
   "execution_count": 57,
   "id": "b30b733b",
   "metadata": {
    "scrolled": true
   },
   "outputs": [
    {
     "data": {
      "text/plain": [
       "ban\n",
       "+               3\n",
       "1            2164\n",
       "2             833\n",
       "3             323\n",
       "4              31\n",
       "sin datos     145\n",
       "Name: ban, dtype: int64"
      ]
     },
     "execution_count": 57,
     "metadata": {},
     "output_type": "execute_result"
    }
   ],
   "source": [
    "dfBan = df.groupby('ban')['ban'].agg('count')\n",
    "dfBan"
   ]
  },
  {
   "cell_type": "code",
   "execution_count": 112,
   "id": "322fe1e4",
   "metadata": {
    "scrolled": true
   },
   "outputs": [
    {
     "data": {
      "text/plain": [
       "titulo       2440\n",
       "precio       2440\n",
       "ubicacion    2440\n",
       "dorm         2440\n",
       "ban          2440\n",
       "sup          2440\n",
       "dtype: int64"
      ]
     },
     "execution_count": 112,
     "metadata": {},
     "output_type": "execute_result"
    }
   ],
   "source": [
    "df[df['sup']=='sin datos'].count()"
   ]
  },
  {
   "cell_type": "code",
   "execution_count": null,
   "id": "a1f0e27e",
   "metadata": {},
   "outputs": [],
   "source": []
  }
 ],
 "metadata": {
  "kernelspec": {
   "display_name": "Python 3 (ipykernel)",
   "language": "python",
   "name": "python3"
  },
  "language_info": {
   "codemirror_mode": {
    "name": "ipython",
    "version": 3
   },
   "file_extension": ".py",
   "mimetype": "text/x-python",
   "name": "python",
   "nbconvert_exporter": "python",
   "pygments_lexer": "ipython3",
   "version": "3.9.13"
  }
 },
 "nbformat": 4,
 "nbformat_minor": 5
}
